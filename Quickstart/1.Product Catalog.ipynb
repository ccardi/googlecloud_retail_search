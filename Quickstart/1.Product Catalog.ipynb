{
 "cells": [
  {
   "cell_type": "markdown",
   "id": "fffcff72",
   "metadata": {},
   "source": [
    "# Google Cloud - Retail Search API Quick Start"
   ]
  },
  {
   "cell_type": "markdown",
   "id": "4c5dc80c",
   "metadata": {},
   "source": [
    "With Retail Search, retailers can implement Google-quality search that is customizable and built upon Google's understanding of user intent and context."
   ]
  },
  {
   "cell_type": "markdown",
   "id": "fb92873d",
   "metadata": {},
   "source": [
    "### Install the libraries used in this tutorial"
   ]
  },
  {
   "cell_type": "code",
   "execution_count": null,
   "id": "882f4cb2",
   "metadata": {},
   "outputs": [],
   "source": [
    "pip install --upgrade --user google-cloud-retail"
   ]
  },
  {
   "cell_type": "code",
   "execution_count": null,
   "id": "f9fc598c",
   "metadata": {},
   "outputs": [],
   "source": [
    "pip install --upgrade google-auth"
   ]
  },
  {
   "cell_type": "code",
   "execution_count": null,
   "id": "6e6cf878",
   "metadata": {},
   "outputs": [],
   "source": [
    "pip install --upgrade --user protobuf"
   ]
  },
  {
   "cell_type": "markdown",
   "id": "dde04d79",
   "metadata": {},
   "source": [
    "### Global project variables and credentials"
   ]
  },
  {
   "cell_type": "code",
   "execution_count": 2,
   "id": "f647d07d",
   "metadata": {},
   "outputs": [],
   "source": [
    "import google.auth\n",
    "#Project Settings\n",
    "project_id='pod-fr-retail'\n",
    "project_number='486742359899'\n",
    "credentials,project = google.auth.default(quota_project_id=project_id)\n",
    "\n",
    "#Catalog branch represents the version of your catalog\n",
    "branch= 'projects/{}/locations/global/catalogs/default_catalog/branches/1'.format(project_number)\n",
    "\n",
    "# Catalog placement represents the search configs you're using on this catalog\n",
    "placement= 'projects/{}/locations/global/catalogs/default_catalog/placements/default_search'.format(project_id)\n",
    "\n",
    "#In this quick start, we're going to manage a product id in our catalog\n",
    "product_id=16684\n",
    "branch_id=1\n",
    "placement_id='default_catalog'\n",
    "\n"
   ]
  },
  {
   "cell_type": "code",
   "execution_count": 10,
   "id": "5f712892",
   "metadata": {
    "jupyter": {
     "source_hidden": true
    }
   },
   "outputs": [],
   "source": [
    "from IPython import display\n",
    "#display.Image(\"https://www.prefixbox.com/blog/wp-content/uploads/2020/07/Featured_image-Faceted_Search-500px-LE.png\",height=200)"
   ]
  },
  {
   "cell_type": "markdown",
   "id": "881b21f4",
   "metadata": {},
   "source": [
    "## Manage Product Catalog"
   ]
  },
  {
   "cell_type": "markdown",
   "id": "9943d254",
   "metadata": {},
   "source": [
    "#### Get a product from our catalog"
   ]
  },
  {
   "cell_type": "code",
   "execution_count": 28,
   "id": "545fd29b",
   "metadata": {},
   "outputs": [
    {
     "name": "stdout",
     "output_type": "stream",
     "text": [
      "name: \"projects/486742359899/locations/global/catalogs/default_catalog/branches/1/products/16684\"\n",
      "id: \"16684\"\n",
      "type_: PRIMARY\n",
      "primary_product_id: \"16684\"\n",
      "gtin: \"91234564613\"\n",
      "categories: \"Men > Clothing > Tops & Tees\"\n",
      "title: \"Diesel Men\\'s Stombol-S Shirt\"\n",
      "brands: \"Diesel\"\n",
      "language_code: \"en-US\"\n",
      "attributes {\n",
      "  key: \"estimatedDeliveryDay\"\n",
      "  value {\n",
      "    numbers: 4.0\n",
      "  }\n",
      "}\n",
      "price_info {\n",
      "  currency_code: \"USD\"\n",
      "  price: 98.0\n",
      "  original_price: 98.0\n",
      "  cost: 56.64400100708008\n",
      "  price_range {\n",
      "  }\n",
      "}\n",
      "availability: IN_STOCK\n",
      "available_quantity {\n",
      "  value: 10\n",
      "}\n",
      "fulfillment_info {\n",
      "  type_: \"custom-type-1\"\n",
      "  place_ids: \"10\"\n",
      "}\n",
      "uri: \"https://retail-demo.mystorefront.org/product/16684\"\n",
      "images {\n",
      "  uri: \"https://storage.googleapis.com/css-retail-images/tops_tees-07.png\"\n",
      "  height: 2000\n",
      "  width: 2000\n",
      "}\n",
      "audience {\n",
      "  genders: \"male\"\n",
      "}\n",
      "color_info {\n",
      "  colors: \"RED\"\n",
      "}\n",
      "sizes: \"XXL\"\n",
      "conditions: \"new\"\n",
      "retrievable_fields {\n",
      "  paths: \"title\"\n",
      "  paths: \"categories\"\n",
      "  paths: \"brands\"\n",
      "  paths: \"attributes.estimated_delivery_day\"\n",
      "  paths: \"price_info\"\n",
      "  paths: \"uri\"\n",
      "  paths: \"images\"\n",
      "  paths: \"color_info\"\n",
      "  paths: \"sizes\"\n",
      "  paths: \"rating\"\n",
      "  paths: \"rating\"\n",
      "  paths: \"rating\"\n",
      "}\n",
      "\n"
     ]
    }
   ],
   "source": [
    "\n",
    "from google.cloud import retail_v2\n",
    "# Create a client\n",
    "client = retail_v2.ProductServiceClient(credentials=credentials)\n",
    "product_name = client.product_path(project_number,'global',placement_id,branch_id,product_id)\n",
    "product= client.get_product(name=product_name)\n",
    "print(product)"
   ]
  },
  {
   "cell_type": "markdown",
   "id": "2faa0882",
   "metadata": {},
   "source": [
    "#### Update gtin attribute"
   ]
  },
  {
   "cell_type": "code",
   "execution_count": 22,
   "id": "ce28d86c",
   "metadata": {},
   "outputs": [
    {
     "name": "stdout",
     "output_type": "stream",
     "text": [
      "91234564613\n"
     ]
    }
   ],
   "source": [
    "product.gtin=\"91234564613\"\n",
    "request = retail_v2.UpdateProductRequest(\n",
    "    product=product,\n",
    ")\n",
    "response = client.update_product(request=request)\n",
    "product = client.get_product(name=product_name)\n",
    "print(product.gtin)"
   ]
  },
  {
   "cell_type": "markdown",
   "id": "8b6d30a6",
   "metadata": {},
   "source": [
    "#### Make a product's field available in search results "
   ]
  },
  {
   "cell_type": "code",
   "execution_count": 18,
   "id": "ef4a7f8b",
   "metadata": {},
   "outputs": [
    {
     "name": "stdout",
     "output_type": "stream",
     "text": [
      "paths: \"title\"\n",
      "paths: \"categories\"\n",
      "paths: \"brands\"\n",
      "paths: \"attributes.estimated_delivery_day\"\n",
      "paths: \"price_info\"\n",
      "paths: \"uri\"\n",
      "paths: \"images\"\n",
      "paths: \"color_info\"\n",
      "paths: \"sizes\"\n",
      "paths: \"rating\"\n",
      "paths: \"rating\"\n",
      "paths: \"rating\"\n",
      "\n"
     ]
    }
   ],
   "source": [
    "product = client.get_product(name=product_name)\n",
    "product.retrievable_fields.paths.append('rating')\n",
    "request = retail_v2.UpdateProductRequest(\n",
    "    product=product,\n",
    ")\n",
    "print(product.retrievable_fields)\n",
    "\n",
    "# Make the request\n",
    "#response = client.update_product(request=request)\n",
    "\n",
    "# Handle the response\n",
    "#print(response)"
   ]
  },
  {
   "cell_type": "markdown",
   "id": "30b7f5a6",
   "metadata": {},
   "source": [
    "### Product Catalog Local Inventories"
   ]
  },
  {
   "cell_type": "markdown",
   "id": "b9845d86",
   "metadata": {},
   "source": [
    "We are now going to dive into Local inventories. How to set and query these local inventory.\n",
    "> Documentation https://cloud.google.com/retail/docs/local-inventory-updates\n",
    "#### Let's start with setting a local inventory for product id 16684 and for store789"
   ]
  },
  {
   "cell_type": "code",
   "execution_count": 25,
   "id": "ef62cce6",
   "metadata": {},
   "outputs": [
    {
     "data": {
      "text/plain": [
       "'Done!'"
      ]
     },
     "metadata": {},
     "output_type": "display_data"
    }
   ],
   "source": [
    "from google.cloud import retail_v2\n",
    "\n",
    "# Create a client\n",
    "client = retail_v2.ProductServiceClient(credentials=credentials)\n",
    "product_name = client.product_path(project_number,'global',placement_id,branch_id,product_id)\n",
    "\n",
    "# Initialize request argument(s)\n",
    "request = retail_v2.AddLocalInventoriesRequest(\n",
    "    product=product_name,\n",
    "    local_inventories= [ \n",
    "        retail_v2.LocalInventory( \n",
    "            place_id= 'store789'\n",
    "            , price_info= retail_v2.PriceInfo(\n",
    "                currency_code= 'USD',\n",
    "                price = 1.21,\n",
    "                original_price=1.26\n",
    "            ))\n",
    "    ]\n",
    ")\n",
    "\n",
    "# Make the request\n",
    "operation = client.add_local_inventories(request=request, timeout=200)\n",
    "import time\n",
    "\n",
    "from IPython.display import display, clear_output\n",
    "running=\"Waiting for operation to complete (\"\n",
    "i=0\n",
    "while operation.running():\n",
    "    i=i+1\n",
    "    clear_output(wait=True)\n",
    "    display(running+str(i)+\" seconds)\")\n",
    "    time.sleep(1)\n",
    "if operation.done():\n",
    "    clear_output(wait=False)\n",
    "    display(\"Done!\")"
   ]
  },
  {
   "cell_type": "markdown",
   "id": "42a285b0",
   "metadata": {},
   "source": [
    "#### Delete a local inventory for product id 16684 and for all stores"
   ]
  },
  {
   "cell_type": "code",
   "execution_count": 27,
   "id": "1d991fab",
   "metadata": {},
   "outputs": [
    {
     "data": {
      "text/plain": [
       "'Done!'"
      ]
     },
     "metadata": {},
     "output_type": "display_data"
    }
   ],
   "source": [
    "# Initialize request argument(s)\n",
    "request = retail_v2.RemoveLocalInventoriesRequest(\n",
    "    product=product_name,\n",
    "    place_ids=[i.place_id for i in product.local_inventories]\n",
    ")\n",
    "\n",
    "# Make the request\n",
    "operation = client.remove_local_inventories(request=request)\n",
    "import time\n",
    "from IPython.display import display, clear_output\n",
    "running=\"Waiting for operation to complete (\"\n",
    "i=0\n",
    "while operation.running():\n",
    "    i=i+1\n",
    "    clear_output(wait=True)\n",
    "    display(running+str(i)+\" seconds)\")\n",
    "    time.sleep(1)\n",
    "if operation.done():\n",
    "    clear_output(wait=False)\n",
    "    display(\"Done!\")"
   ]
  },
  {
   "cell_type": "code",
   "execution_count": null,
   "id": "d289c5ea",
   "metadata": {},
   "outputs": [],
   "source": []
  }
 ],
 "metadata": {
  "environment": {
   "name": "common-cpu.m65",
   "type": "gcloud",
   "uri": "gcr.io/deeplearning-platform-release/base-cpu:m65"
  },
  "kernelspec": {
   "display_name": "Python 3",
   "language": "python",
   "name": "python3"
  },
  "language_info": {
   "codemirror_mode": {
    "name": "ipython",
    "version": 3
   },
   "file_extension": ".py",
   "mimetype": "text/x-python",
   "name": "python",
   "nbconvert_exporter": "python",
   "pygments_lexer": "ipython3",
   "version": "3.7.10"
  }
 },
 "nbformat": 4,
 "nbformat_minor": 5
}
