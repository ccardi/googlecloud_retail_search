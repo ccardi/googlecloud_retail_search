{
 "cells": [
  {
   "cell_type": "markdown",
   "id": "49a469be",
   "metadata": {},
   "source": [
    "# Google Cloud - Retail Search API Quick Start"
   ]
  },
  {
   "cell_type": "markdown",
   "id": "166486eb",
   "metadata": {},
   "source": [
    "With Retail Search, retailers can implement Google-quality search that is customizable and built upon Google's understanding of user intent and context."
   ]
  },
  {
   "cell_type": "markdown",
   "id": "a505748a",
   "metadata": {},
   "source": [
    "### Install the libraries used in this tutorial"
   ]
  },
  {
   "cell_type": "code",
   "execution_count": null,
   "id": "4c717d77",
   "metadata": {},
   "outputs": [],
   "source": [
    "pip install --upgrade --user google-cloud-retail"
   ]
  },
  {
   "cell_type": "code",
   "execution_count": null,
   "id": "d6ca1a93",
   "metadata": {},
   "outputs": [],
   "source": [
    "pip install --upgrade google-auth"
   ]
  },
  {
   "cell_type": "code",
   "execution_count": null,
   "id": "1496d644",
   "metadata": {},
   "outputs": [],
   "source": [
    "pip install --upgrade --user protobuf"
   ]
  },
  {
   "cell_type": "markdown",
   "id": "45472bca",
   "metadata": {},
   "source": [
    "### Global project variables and credentials"
   ]
  },
  {
   "cell_type": "code",
   "execution_count": 3,
   "id": "f827e179",
   "metadata": {},
   "outputs": [],
   "source": [
    "import google.auth\n",
    "#Project Settings\n",
    "project_id='pod-fr-retail'\n",
    "project_number='486742359899'\n",
    "credentials,project = google.auth.default(quota_project_id=project_id)\n",
    "\n",
    "#Catalog branch represents the version of your catalog\n",
    "branch= 'projects/{}/locations/global/catalogs/default_catalog/branches/1'.format(project_number)\n",
    "\n",
    "# Catalog placement represents the search configs you're using on this catalog\n",
    "placement= 'projects/{}/locations/global/catalogs/default_catalog/placements/default_search'.format(project_id)\n",
    "\n",
    "#In this quick start, we're going to manage a product id in our catalog\n",
    "product_id=16684\n",
    "branch_id=1\n",
    "placement_id='default_catalog'\n",
    "\n"
   ]
  },
  {
   "cell_type": "markdown",
   "id": "36384de5",
   "metadata": {},
   "source": [
    "## Get started with a simple query"
   ]
  },
  {
   "cell_type": "markdown",
   "id": "fbc2cea9",
   "metadata": {},
   "source": [
    "Let's start by creating a search request. We instanciate a client (SearchServiceClient) and set the required field to have some product results from Retail Search "
   ]
  },
  {
   "cell_type": "code",
   "execution_count": 48,
   "id": "4e7dc3b2",
   "metadata": {},
   "outputs": [
    {
     "name": "stdout",
     "output_type": "stream",
     "text": [
      "id: \"16055\"\n",
      "product {\n",
      "  name: \"projects/486742359899/locations/global/catalogs/default_catalog/branches/1/products/16055\"\n",
      "  categories: \"Men > Clothing > Tops & Tees\"\n",
      "  title: \"Diesel Men\\'s Siranella-S Shirt\"\n",
      "  brands: \"Diesel\"\n",
      "  attributes {\n",
      "    key: \"estimatedDeliveryDay\"\n",
      "    value {\n",
      "      numbers: 4.0\n",
      "      searchable: false\n",
      "      indexable: true\n",
      "    }\n",
      "  }\n",
      "  price_info {\n",
      "    currency_code: \"USD\"\n",
      "    price: 128.0\n",
      "    original_price: 128.0\n",
      "    cost: 77.05599975585938\n",
      "  }\n",
      "  uri: \"https://retail-demo.mystorefront.org/product/16055\"\n",
      "  images {\n",
      "    uri: \"https://storage.googleapis.com/css-retail-images/subcat_tops_tees.png\"\n",
      "    height: 356\n",
      "    width: 352\n",
      "  }\n",
      "  color_info {\n",
      "    colors: \"RED\"\n",
      "  }\n",
      "  sizes: \"XXL\"\n",
      "}\n",
      "\n"
     ]
    }
   ],
   "source": [
    "from google.cloud.retail_v2.services.search_service import SearchServiceClient\n",
    "from google.cloud.retail_v2.types.search_service import SearchRequest\n",
    "from google.cloud.retail_v2 import Product\n",
    "\n",
    "from typing import List, Dict, Sequence, Any\n",
    "\n",
    "#Client\n",
    "client = SearchServiceClient(credentials=credentials)\n",
    "\n",
    "#Query Specs\n",
    "search_request = SearchRequest()\n",
    "search_request.query = 'shirt'\n",
    "search_request.visitor_id = \"123\"\n",
    "search_request.placement = placement\n",
    "search_request.branch= branch\n",
    "\n",
    "#Query and print results\n",
    "response = client.search(search_request)\n",
    "print(response.results[3])"
   ]
  },
  {
   "cell_type": "markdown",
   "id": "3b26c9de",
   "metadata": {},
   "source": [
    "### Get the next page in query results"
   ]
  },
  {
   "cell_type": "code",
   "execution_count": null,
   "id": "eebbf643",
   "metadata": {},
   "outputs": [],
   "source": [
    "#Query Results\n",
    "\n",
    "print(\"Number of products in search results:\"+ str(response.total_size))\n",
    "all_results=[]\n",
    "while response.next_page_token:\n",
    "    for p in response.results:\n",
    "        all_results.append(p)\n",
    "    search_request.page_token=response.next_page_token\n",
    "    response= client.search(search_request)\n",
    "print(len(all_results))"
   ]
  },
  {
   "cell_type": "markdown",
   "id": "c2923cb6",
   "metadata": {},
   "source": [
    "### Request Search Facets"
   ]
  },
  {
   "cell_type": "markdown",
   "id": "db42b820",
   "metadata": {},
   "source": [
    "Facets are filters you usually see on the left or right side of a search results page.\n",
    "Let's have a look at filters and faceting capabilities. \n",
    "> <b> Documentation https://cloud.google.com/retail/docs/reference/rest/v2/FacetSpec"
   ]
  },
  {
   "cell_type": "code",
   "execution_count": 10,
   "id": "9719cfbc",
   "metadata": {
    "jupyter": {
     "source_hidden": true
    }
   },
   "outputs": [],
   "source": [
    "from IPython import display\n",
    "#display.Image(\"https://www.prefixbox.com/blog/wp-content/uploads/2020/07/Featured_image-Faceted_Search-500px-LE.png\",height=200)"
   ]
  },
  {
   "cell_type": "code",
   "execution_count": 11,
   "id": "b3cdd95f",
   "metadata": {
    "scrolled": true
   },
   "outputs": [
    {
     "name": "stdout",
     "output_type": "stream",
     "text": [
      "key: \"availability\"\n",
      "values {\n",
      "  value: \"IN_STOCK\"\n",
      "  count: 141\n",
      "}\n",
      "\n"
     ]
    }
   ],
   "source": [
    "from google.cloud.retail_v2.services.search_service import SearchServiceClient\n",
    "from google.cloud.retail_v2.types.search_service import SearchRequest\n",
    "\n",
    "#Declare a Client\n",
    "client = SearchServiceClient(credentials=credentials)\n",
    "\n",
    "#Define Query Specs and Facets spec\n",
    "search_request = SearchRequest()\n",
    "search_request.query = 'shirt'\n",
    "search_request.visitor_id = \"123\"\n",
    "search_request.placement = placement\n",
    "search_request.branch=branch\n",
    "search_request.filter = \"categories: ANY(\\\"Men > Active > Active\\\")\"\n",
    "search_request.facet_specs= [\n",
    "        { \n",
    "            'facet_key': { \n",
    "                'key': 'categories' \n",
    "                }\n",
    "                ,'excluded_filter_keys': [\"categories\"] #still show all categories' values for \"categories\" facet\n",
    "            }\n",
    "            ,{ 'facet_key': {\n",
    "                'key': 'availability'\n",
    "                }\n",
    "             }\n",
    "        ]\n",
    "#Query\n",
    "response = client.search(search_request)\n",
    "print(response.facets[1])"
   ]
  },
  {
   "cell_type": "markdown",
   "id": "78a849b2",
   "metadata": {},
   "source": [
    "You can create intervals facets for a numeric facet key"
   ]
  },
  {
   "cell_type": "code",
   "execution_count": 12,
   "id": "6bd76a2a",
   "metadata": {
    "scrolled": true
   },
   "outputs": [
    {
     "name": "stdout",
     "output_type": "stream",
     "text": [
      "[key: \"price\"\n",
      "values {\n",
      "  interval {\n",
      "    exclusive_maximum: 100.0\n",
      "  }\n",
      "  count: 137\n",
      "}\n",
      "values {\n",
      "  interval {\n",
      "    minimum: 6.0\n",
      "    maximum: 30.0\n",
      "  }\n",
      "  count: 74\n",
      "}\n",
      "values {\n",
      "  interval {\n",
      "    exclusive_minimum: 2.0\n",
      "  }\n",
      "  count: 141\n",
      "}\n",
      "]\n"
     ]
    }
   ],
   "source": [
    "search_request.facet_specs = [{\n",
    "    'facet_key': {\n",
    "        'key':\n",
    "            'price',\n",
    "        'intervals': [{\n",
    "            'exclusive_maximum': 100.0\n",
    "        }, {\n",
    "            'minimum': 0.0,\n",
    "            'maximum': 2.0\n",
    "        }, {\n",
    "            'minimum': 0.0,\n",
    "            'maximum': 6.0\n",
    "        }, {\n",
    "            'minimum': 2.0,\n",
    "            'maximum': 6.0\n",
    "        }, {\n",
    "            'minimum': 6.0,\n",
    "            'maximum': 30.0\n",
    "        }, {\n",
    "            'exclusive_minimum': 2.0\n",
    "        }]\n",
    "    }\n",
    "}]\n",
    "response = client.search(search_request)\n",
    "\n",
    "print((response.facets[0:1]))"
   ]
  },
  {
   "cell_type": "markdown",
   "id": "ec23717d",
   "metadata": {},
   "source": [
    "## Local inventories"
   ]
  },
  {
   "cell_type": "markdown",
   "id": "f36a9e8a",
   "metadata": {},
   "source": [
    "We are now going to dive into Local inventories. How to set and query these local inventory.\n",
    "> Documentation https://cloud.google.com/retail/docs/local-inventory-updates"
   ]
  },
  {
   "cell_type": "markdown",
   "id": "06378813",
   "metadata": {},
   "source": [
    "#### We can now retieve a specific price for product 16684 in the store789 in variant_rollup_values key."
   ]
  },
  {
   "cell_type": "code",
   "execution_count": 13,
   "id": "551451d8",
   "metadata": {
    "tags": []
   },
   "outputs": [
    {
     "name": "stdout",
     "output_type": "stream",
     "text": [
      "list_value {\n",
      "  values {\n",
      "    number_value: 1.21\n",
      "  }\n",
      "}\n",
      "\n"
     ]
    }
   ],
   "source": [
    "#Client\n",
    "client = SearchServiceClient(credentials=credentials)\n",
    "\n",
    "#Query Specs\n",
    "search_request = SearchRequest()\n",
    "search_request.query = 'shirt'\n",
    "search_request.visitor_id = \"123\"\n",
    "search_request.placement = placement\n",
    "search_request.branch=branch\n",
    "search_request.variant_rollup_keys= [\"inventory(store789,price)\"] #https://cloud.google.com/retail/docs/reference/rest/v2alpha/projects.locations.catalogs.placements/search#request-body\n",
    "#Query\n",
    "response = client.search(search_request)\n",
    "print(response.results[0].variant_rollup_values[\"inventory(store789,price)\"])"
   ]
  }
 ],
 "metadata": {
  "environment": {
   "name": "common-cpu.m65",
   "type": "gcloud",
   "uri": "gcr.io/deeplearning-platform-release/base-cpu:m65"
  },
  "kernelspec": {
   "display_name": "Python 3",
   "language": "python",
   "name": "python3"
  },
  "language_info": {
   "codemirror_mode": {
    "name": "ipython",
    "version": 3
   },
   "file_extension": ".py",
   "mimetype": "text/x-python",
   "name": "python",
   "nbconvert_exporter": "python",
   "pygments_lexer": "ipython3",
   "version": "3.7.10"
  }
 },
 "nbformat": 4,
 "nbformat_minor": 5
}
