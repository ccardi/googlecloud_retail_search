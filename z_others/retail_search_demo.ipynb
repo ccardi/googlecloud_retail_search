{
 "cells": [
  {
   "cell_type": "markdown",
   "id": "2e909e66",
   "metadata": {},
   "source": [
    "# Google Cloud - Retail Search API Quick Start"
   ]
  },
  {
   "cell_type": "markdown",
   "id": "dc4ba782",
   "metadata": {},
   "source": [
    "With Retail Search, retailers can implement Google-quality search that is customizable and built upon Google's understanding of user intent and context."
   ]
  },
  {
   "cell_type": "markdown",
   "id": "a098c3ae",
   "metadata": {},
   "source": [
    "### Install the libraries used in this tutorial"
   ]
  },
  {
   "cell_type": "code",
   "execution_count": null,
   "id": "d3a4c15a",
   "metadata": {},
   "outputs": [],
   "source": [
    "pip install --upgrade --user google-cloud-retail"
   ]
  },
  {
   "cell_type": "code",
   "execution_count": null,
   "id": "9dde25eb",
   "metadata": {},
   "outputs": [],
   "source": [
    "pip install --upgrade google-auth"
   ]
  },
  {
   "cell_type": "code",
   "execution_count": null,
   "id": "10770b14",
   "metadata": {},
   "outputs": [],
   "source": [
    "pip install --upgrade --user protobuf"
   ]
  },
  {
   "cell_type": "markdown",
   "id": "a46dfb47",
   "metadata": {},
   "source": [
    "### Global project variables and credentials"
   ]
  },
  {
   "cell_type": "code",
   "execution_count": 5,
   "id": "bb7e2a8d",
   "metadata": {},
   "outputs": [],
   "source": [
    "import google.auth\n",
    "#Project Settings\n",
    "project_id='pod-fr-retail'\n",
    "project_number='486742359899'\n",
    "credentials,project = google.auth.default(quota_project_id=project_id)\n",
    "\n",
    "#Catalog branch represents the version of your catalog\n",
    "branch= 'projects/{}/locations/global/catalogs/default_catalog/branches/1'.format(project_number)\n",
    "\n",
    "# Catalog placement represents the search configs you're using on this catalog\n",
    "placement= 'projects/{}/locations/global/catalogs/default_catalog/placements/default_search'.format(project_id)\n",
    "\n",
    "#In this quick start, we're going to manage a product id in our catalog\n",
    "product_id=16684\n",
    "branch_id=1\n",
    "placement_id='default_catalog'\n",
    "\n"
   ]
  },
  {
   "cell_type": "code",
   "execution_count": null,
   "id": "d2e7fa49",
   "metadata": {},
   "outputs": [],
   "source": []
  },
  {
   "cell_type": "markdown",
   "id": "a4d0a0a2",
   "metadata": {},
   "source": [
    "## Get started with a simple query"
   ]
  },
  {
   "cell_type": "markdown",
   "id": "e8b0b826",
   "metadata": {},
   "source": [
    "Let's start by creating a search request. We instanciate a client (SearchServiceClient) and set the required field to have some product results from Retail Search "
   ]
  },
  {
   "cell_type": "code",
   "execution_count": 7,
   "id": "57e91b0e",
   "metadata": {},
   "outputs": [
    {
     "name": "stdout",
     "output_type": "stream",
     "text": [
      "id: \"16055\"\n",
      "product {\n",
      "  name: \"projects/486742359899/locations/global/catalogs/default_catalog/branches/1/products/16055\"\n",
      "  categories: \"Men > Clothing > Tops & Tees\"\n",
      "  title: \"Diesel Men\\'s Siranella-S Shirt\"\n",
      "  brands: \"Diesel\"\n",
      "  attributes {\n",
      "    key: \"estimatedDeliveryDay\"\n",
      "    value {\n",
      "      numbers: 4.0\n",
      "      searchable: false\n",
      "      indexable: true\n",
      "    }\n",
      "  }\n",
      "  price_info {\n",
      "    currency_code: \"USD\"\n",
      "    price: 128.0\n",
      "    original_price: 128.0\n",
      "    cost: 77.05599975585938\n",
      "  }\n",
      "  uri: \"https://retail-demo.mystorefront.org/product/16055\"\n",
      "  images {\n",
      "    uri: \"https://storage.googleapis.com/css-retail-images/subcat_tops_tees.png\"\n",
      "    height: 356\n",
      "    width: 352\n",
      "  }\n",
      "  color_info {\n",
      "    colors: \"RED\"\n",
      "  }\n",
      "  sizes: \"XXL\"\n",
      "}\n",
      "\n"
     ]
    }
   ],
   "source": [
    "from google.cloud.retail_v2.services.search_service import SearchServiceClient\n",
    "from google.cloud.retail_v2.types.search_service import SearchRequest\n",
    "from google.cloud.retail_v2 import Product\n",
    "\n",
    "from typing import List, Dict, Sequence, Any\n",
    "\n",
    "#Client\n",
    "client = SearchServiceClient(credentials=credentials)\n",
    "\n",
    "#Query Specs\n",
    "search_request = SearchRequest()\n",
    "search_request.query = 'shirt'\n",
    "search_request.visitor_id = \"123\"\n",
    "search_request.placement = placement\n",
    "search_request.branch= branch\n",
    "\n",
    "#Query and print results\n",
    "response = client.search(search_request)\n",
    "print(response.results[3])"
   ]
  },
  {
   "cell_type": "markdown",
   "id": "e3b9bc4e",
   "metadata": {},
   "source": [
    "### Request Search Facets"
   ]
  },
  {
   "cell_type": "markdown",
   "id": "1e6904bf",
   "metadata": {},
   "source": [
    "Facets are filters you usually see on the left or right side of a search results page.\n",
    "Let's have a look at filters and faceting capabilities. \n",
    "> <b> Documentation https://cloud.google.com/retail/docs/reference/rest/v2/FacetSpec"
   ]
  },
  {
   "cell_type": "code",
   "execution_count": 10,
   "id": "7f6cb4f7",
   "metadata": {
    "jupyter": {
     "source_hidden": true
    }
   },
   "outputs": [],
   "source": [
    "from IPython import display\n",
    "#display.Image(\"https://www.prefixbox.com/blog/wp-content/uploads/2020/07/Featured_image-Faceted_Search-500px-LE.png\",height=200)"
   ]
  },
  {
   "cell_type": "code",
   "execution_count": 11,
   "id": "b5e879c8",
   "metadata": {
    "scrolled": true
   },
   "outputs": [
    {
     "name": "stdout",
     "output_type": "stream",
     "text": [
      "key: \"availability\"\n",
      "values {\n",
      "  value: \"IN_STOCK\"\n",
      "  count: 141\n",
      "}\n",
      "\n"
     ]
    }
   ],
   "source": [
    "from google.cloud.retail_v2.services.search_service import SearchServiceClient\n",
    "from google.cloud.retail_v2.types.search_service import SearchRequest\n",
    "\n",
    "#Declare a Client\n",
    "client = SearchServiceClient(credentials=credentials)\n",
    "\n",
    "#Define Query Specs and Facets spec\n",
    "search_request = SearchRequest()\n",
    "search_request.query = 'shirt'\n",
    "search_request.visitor_id = \"123\"\n",
    "search_request.placement = placement\n",
    "search_request.branch=branch\n",
    "search_request.filter = \"categories: ANY(\\\"Men > Active > Active\\\")\"\n",
    "search_request.facet_specs= [\n",
    "        { \n",
    "            'facet_key': { \n",
    "                'key': 'categories' \n",
    "                }\n",
    "                ,'excluded_filter_keys': [\"categories\"] #still show all categories' values for \"categories\" facet\n",
    "            }\n",
    "            ,{ 'facet_key': {\n",
    "                'key': 'availability'\n",
    "                }\n",
    "             }\n",
    "        ]\n",
    "#Query\n",
    "response = client.search(search_request)\n",
    "print(response.facets[1])"
   ]
  },
  {
   "cell_type": "markdown",
   "id": "eaef83fc",
   "metadata": {},
   "source": [
    "You can create intervals facets for a numeric facet key"
   ]
  },
  {
   "cell_type": "code",
   "execution_count": 12,
   "id": "4ed7fd12",
   "metadata": {
    "scrolled": true
   },
   "outputs": [
    {
     "name": "stdout",
     "output_type": "stream",
     "text": [
      "[key: \"price\"\n",
      "values {\n",
      "  interval {\n",
      "    exclusive_maximum: 100.0\n",
      "  }\n",
      "  count: 137\n",
      "}\n",
      "values {\n",
      "  interval {\n",
      "    minimum: 6.0\n",
      "    maximum: 30.0\n",
      "  }\n",
      "  count: 74\n",
      "}\n",
      "values {\n",
      "  interval {\n",
      "    exclusive_minimum: 2.0\n",
      "  }\n",
      "  count: 141\n",
      "}\n",
      "]\n"
     ]
    }
   ],
   "source": [
    "search_request.facet_specs = [{\n",
    "    'facet_key': {\n",
    "        'key':\n",
    "            'price',\n",
    "        'intervals': [{\n",
    "            'exclusive_maximum': 100.0\n",
    "        }, {\n",
    "            'minimum': 0.0,\n",
    "            'maximum': 2.0\n",
    "        }, {\n",
    "            'minimum': 0.0,\n",
    "            'maximum': 6.0\n",
    "        }, {\n",
    "            'minimum': 2.0,\n",
    "            'maximum': 6.0\n",
    "        }, {\n",
    "            'minimum': 6.0,\n",
    "            'maximum': 30.0\n",
    "        }, {\n",
    "            'exclusive_minimum': 2.0\n",
    "        }]\n",
    "    }\n",
    "}]\n",
    "response = client.search(search_request)\n",
    "\n",
    "print((response.facets[0:1]))"
   ]
  },
  {
   "cell_type": "markdown",
   "id": "0087d0a0",
   "metadata": {},
   "source": [
    "### Product Catalog Local Inventories"
   ]
  },
  {
   "cell_type": "markdown",
   "id": "557e8dc3",
   "metadata": {},
   "source": [
    "We are now going to dive into Local inventories. How to set and query these local inventory.\n",
    "> Documentation https://cloud.google.com/retail/docs/local-inventory-updates\n",
    "#### Let's start with setting a local inventory for product id 16684 and for store789"
   ]
  },
  {
   "cell_type": "code",
   "execution_count": 16,
   "id": "06ce8d0d",
   "metadata": {},
   "outputs": [
    {
     "data": {
      "text/plain": [
       "'Done!'"
      ]
     },
     "metadata": {},
     "output_type": "display_data"
    }
   ],
   "source": [
    "from google.cloud import retail_v2\n",
    "\n",
    "\n",
    "# Create a client\n",
    "client = retail_v2.ProductServiceClient(credentials=credentials)\n",
    "product_name = client.product_path(project_number,'global',placement_id,branch_id,product_id)\n",
    "\n",
    "# Initialize request argument(s)\n",
    "request = retail_v2.AddLocalInventoriesRequest(\n",
    "    product=product_name,\n",
    "    local_inventories= [ \n",
    "        retail_v2.LocalInventory( \n",
    "            place_id= 'store789'\n",
    "            , price_info= retail_v2.PriceInfo(\n",
    "                currency_code= 'USD',\n",
    "                price = 1.21,\n",
    "                original_price=1.26\n",
    "            ))\n",
    "    ]\n",
    ")\n",
    "\n",
    "# Make the request\n",
    "operation = client.add_local_inventories(request=request, timeout=200)\n",
    "import time\n",
    "\n",
    "from IPython.display import display, clear_output\n",
    "running=\"Waiting for operation to complete (\"\n",
    "i=0\n",
    "while operation.running():\n",
    "    i=i+1\n",
    "    clear_output(wait=True)\n",
    "    display(running+str(i)+\" seconds)\")\n",
    "    time.sleep(1)\n",
    "if operation.done():\n",
    "    clear_output(wait=False)\n",
    "    display(\"Done!\")"
   ]
  },
  {
   "cell_type": "markdown",
   "id": "68a5a983",
   "metadata": {},
   "source": [
    "#### We can now retieve a specific price for product 16684 in the store789 in variant_rollup_values key."
   ]
  },
  {
   "cell_type": "code",
   "execution_count": 13,
   "id": "4bc9fde7",
   "metadata": {
    "scrolled": true,
    "tags": []
   },
   "outputs": [
    {
     "name": "stdout",
     "output_type": "stream",
     "text": [
      "list_value {\n",
      "  values {\n",
      "    number_value: 1.21\n",
      "  }\n",
      "}\n",
      "\n"
     ]
    }
   ],
   "source": [
    "#Client\n",
    "client = SearchServiceClient(credentials=credentials)\n",
    "\n",
    "#Query Specs\n",
    "search_request = SearchRequest()\n",
    "search_request.query = 'shirt'\n",
    "search_request.visitor_id = \"123\"\n",
    "search_request.placement = placement\n",
    "search_request.branch=branch\n",
    "search_request.variant_rollup_keys= [\"inventory(store789,price)\"] #https://cloud.google.com/retail/docs/reference/rest/v2alpha/projects.locations.catalogs.placements/search#request-body\n",
    "#Query\n",
    "response = client.search(search_request)\n",
    "print(response.results[0].variant_rollup_values[\"inventory(store789,price)\"])"
   ]
  },
  {
   "cell_type": "markdown",
   "id": "438cfc9b",
   "metadata": {},
   "source": [
    "### Get the next page in query results"
   ]
  },
  {
   "cell_type": "code",
   "execution_count": 54,
   "id": "422a18f2",
   "metadata": {
    "scrolled": true,
    "tags": []
   },
   "outputs": [
    {
     "name": "stdout",
     "output_type": "stream",
     "text": [
      "id: \"18482\"\n",
      "product {\n",
      "  name: \"projects/486742359899/locations/global/catalogs/default_catalog/branches/1/products/18482\"\n",
      "  categories: \"Men > Active > Active\"\n",
      "  title: \"ExOfficio Men\\'s BugsAway Halo Long Sleeve Shirt\"\n",
      "  brands: \"ExOfficio\"\n",
      "  attributes {\n",
      "    key: \"estimatedDeliveryDay\"\n",
      "    value {\n",
      "      numbers: 4\n",
      "      searchable: false\n",
      "      indexable: true\n",
      "    }\n",
      "  }\n",
      "  price_info {\n",
      "    currency_code: \"USD\"\n",
      "    price: 99\n",
      "    original_price: 99\n",
      "    cost: 41.382\n",
      "  }\n",
      "  uri: \"https://retail-demo.mystorefront.org/product/18482\"\n",
      "  images {\n",
      "    uri: \"https://storage.googleapis.com/css-retail-images/subcat_active.png\"\n",
      "    height: 200\n",
      "    width: 146\n",
      "  }\n",
      "  color_info {\n",
      "    colors: \"RED\"\n",
      "  }\n",
      "  sizes: \"XXL\"\n",
      "}\n",
      "\n"
     ]
    }
   ],
   "source": [
    "#Query Results\n",
    "from  google.cloud.retail_v2.services.search_service.pagers import SearchPager\n",
    "search_request.page_token=response.next_page_token\n",
    "response= client.search(search_request)\n",
    "print(response.results[0])"
   ]
  },
  {
   "cell_type": "markdown",
   "id": "b922470f",
   "metadata": {},
   "source": [
    "## Manage Product Catalog"
   ]
  },
  {
   "cell_type": "markdown",
   "id": "eb9f389a",
   "metadata": {},
   "source": [
    "#### Get a product from our catalog"
   ]
  },
  {
   "cell_type": "code",
   "execution_count": 17,
   "id": "aa1676c7",
   "metadata": {},
   "outputs": [
    {
     "name": "stdout",
     "output_type": "stream",
     "text": [
      "name: \"projects/486742359899/locations/global/catalogs/default_catalog/branches/1/products/16684\"\n",
      "id: \"16684\"\n",
      "type_: PRIMARY\n",
      "primary_product_id: \"16684\"\n",
      "gtin: \"12345645613\"\n",
      "categories: \"Men > Clothing > Tops & Tees\"\n",
      "title: \"Diesel Men\\'s Stombol-S Shirt\"\n",
      "brands: \"Diesel\"\n",
      "language_code: \"en-US\"\n",
      "attributes {\n",
      "  key: \"estimatedDeliveryDay\"\n",
      "  value {\n",
      "    numbers: 4.0\n",
      "  }\n",
      "}\n",
      "price_info {\n",
      "  currency_code: \"USD\"\n",
      "  price: 98.0\n",
      "  original_price: 98.0\n",
      "  cost: 56.64400100708008\n",
      "  price_range {\n",
      "  }\n",
      "}\n",
      "availability: IN_STOCK\n",
      "available_quantity {\n",
      "  value: 10\n",
      "}\n",
      "fulfillment_info {\n",
      "  type_: \"custom-type-1\"\n",
      "  place_ids: \"10\"\n",
      "}\n",
      "uri: \"https://retail-demo.mystorefront.org/product/16684\"\n",
      "images {\n",
      "  uri: \"https://storage.googleapis.com/css-retail-images/tops_tees-07.png\"\n",
      "  height: 2000\n",
      "  width: 2000\n",
      "}\n",
      "audience {\n",
      "  genders: \"male\"\n",
      "}\n",
      "color_info {\n",
      "  colors: \"RED\"\n",
      "}\n",
      "sizes: \"XXL\"\n",
      "conditions: \"new\"\n",
      "retrievable_fields {\n",
      "  paths: \"title\"\n",
      "  paths: \"categories\"\n",
      "  paths: \"brands\"\n",
      "  paths: \"attributes.estimated_delivery_day\"\n",
      "  paths: \"price_info\"\n",
      "  paths: \"uri\"\n",
      "  paths: \"images\"\n",
      "  paths: \"color_info\"\n",
      "  paths: \"sizes\"\n",
      "  paths: \"rating\"\n",
      "  paths: \"rating\"\n",
      "}\n",
      "local_inventories {\n",
      "  place_id: \"227106935948689\"\n",
      "  price_info {\n",
      "    currency_code: \"USD\"\n",
      "    price: 1.25\n",
      "    original_price: 1.2599999904632568\n",
      "  }\n",
      "}\n",
      "local_inventories {\n",
      "  place_id: \"759098883269430\"\n",
      "  price_info {\n",
      "    currency_code: \"USD\"\n",
      "    price: 1.25\n",
      "    original_price: 1.2599999904632568\n",
      "  }\n",
      "}\n",
      "local_inventories {\n",
      "  place_id: \"497925501644043\"\n",
      "  price_info {\n",
      "    currency_code: \"USD\"\n",
      "    price: 1.25\n",
      "    original_price: 1.2599999904632568\n",
      "  }\n",
      "}\n",
      "local_inventories {\n",
      "  place_id: \"999655543727238\"\n",
      "  price_info {\n",
      "    currency_code: \"USD\"\n",
      "    price: 1.25\n",
      "    original_price: 1.2599999904632568\n",
      "  }\n",
      "}\n",
      "local_inventories {\n",
      "  place_id: \"162645657800567\"\n",
      "  price_info {\n",
      "    currency_code: \"USD\"\n",
      "    price: 1.25\n",
      "    original_price: 1.2599999904632568\n",
      "  }\n",
      "}\n",
      "local_inventories {\n",
      "  place_id: \"685987374082496\"\n",
      "  price_info {\n",
      "    currency_code: \"USD\"\n",
      "    price: 1.25\n",
      "    original_price: 1.2599999904632568\n",
      "  }\n",
      "}\n",
      "local_inventories {\n",
      "  place_id: \"728640467363722\"\n",
      "  price_info {\n",
      "    currency_code: \"USD\"\n",
      "    price: 1.25\n",
      "    original_price: 1.2599999904632568\n",
      "  }\n",
      "}\n",
      "local_inventories {\n",
      "  place_id: \"store789\"\n",
      "  price_info {\n",
      "    currency_code: \"USD\"\n",
      "    price: 1.2100000381469727\n",
      "    original_price: 1.2599999904632568\n",
      "  }\n",
      "}\n",
      "local_inventories {\n",
      "  place_id: \"757470169257644\"\n",
      "  price_info {\n",
      "    currency_code: \"USD\"\n",
      "    price: 1.25\n",
      "    original_price: 1.2599999904632568\n",
      "  }\n",
      "}\n",
      "local_inventories {\n",
      "  place_id: \"762635322060133\"\n",
      "  price_info {\n",
      "    currency_code: \"USD\"\n",
      "    price: 1.25\n",
      "    original_price: 1.2599999904632568\n",
      "  }\n",
      "}\n",
      "local_inventories {\n",
      "  place_id: \"114401486322497\"\n",
      "  price_info {\n",
      "    currency_code: \"USD\"\n",
      "    price: 1.25\n",
      "    original_price: 1.2599999904632568\n",
      "  }\n",
      "}\n",
      "local_inventories {\n",
      "  place_id: \"591053181583597\"\n",
      "  price_info {\n",
      "    currency_code: \"USD\"\n",
      "    price: 1.25\n",
      "    original_price: 1.2599999904632568\n",
      "  }\n",
      "}\n",
      "local_inventories {\n",
      "  place_id: \"288806368453198\"\n",
      "  price_info {\n",
      "    currency_code: \"USD\"\n",
      "    price: 1.25\n",
      "    original_price: 1.2599999904632568\n",
      "  }\n",
      "}\n",
      "local_inventories {\n",
      "  place_id: \"701808749020216\"\n",
      "  price_info {\n",
      "    currency_code: \"USD\"\n",
      "    price: 1.25\n",
      "    original_price: 1.2599999904632568\n",
      "  }\n",
      "}\n",
      "local_inventories {\n",
      "  place_id: \"405085132127772\"\n",
      "  price_info {\n",
      "    currency_code: \"USD\"\n",
      "    price: 1.25\n",
      "    original_price: 1.2599999904632568\n",
      "  }\n",
      "}\n",
      "local_inventories {\n",
      "  place_id: \"973614824726591\"\n",
      "  price_info {\n",
      "    currency_code: \"USD\"\n",
      "    price: 1.25\n",
      "    original_price: 1.2599999904632568\n",
      "  }\n",
      "}\n",
      "local_inventories {\n",
      "  place_id: \"786156794806542\"\n",
      "  price_info {\n",
      "    currency_code: \"USD\"\n",
      "    price: 1.25\n",
      "    original_price: 1.2599999904632568\n",
      "  }\n",
      "}\n",
      "local_inventories {\n",
      "  place_id: \"870956589881412\"\n",
      "  price_info {\n",
      "    currency_code: \"USD\"\n",
      "    price: 1.25\n",
      "    original_price: 1.2599999904632568\n",
      "  }\n",
      "}\n",
      "local_inventories {\n",
      "  place_id: \"936223992115016\"\n",
      "  price_info {\n",
      "    currency_code: \"USD\"\n",
      "    price: 1.25\n",
      "    original_price: 1.2599999904632568\n",
      "  }\n",
      "}\n",
      "local_inventories {\n",
      "  place_id: \"568150514581273\"\n",
      "  price_info {\n",
      "    currency_code: \"USD\"\n",
      "    price: 1.25\n",
      "    original_price: 1.2599999904632568\n",
      "  }\n",
      "}\n",
      "local_inventories {\n",
      "  place_id: \"784598305192197\"\n",
      "  price_info {\n",
      "    currency_code: \"USD\"\n",
      "    price: 1.25\n",
      "    original_price: 1.2599999904632568\n",
      "  }\n",
      "}\n",
      "\n"
     ]
    }
   ],
   "source": [
    "\n",
    "from google.cloud import retail_v2\n",
    "# Create a client\n",
    "client = retail_v2.ProductServiceClient(credentials=credentials)\n",
    "product_name = client.product_path(project_number,'global',placement_id,branch_id,product_id)\n",
    "product= client.get_product(name=product_name)\n",
    "print(product)"
   ]
  },
  {
   "cell_type": "markdown",
   "id": "25d7cc4e",
   "metadata": {},
   "source": [
    "#### Update gtin attribute"
   ]
  },
  {
   "cell_type": "code",
   "execution_count": 22,
   "id": "3911dcdd",
   "metadata": {},
   "outputs": [
    {
     "name": "stdout",
     "output_type": "stream",
     "text": [
      "91234564613\n"
     ]
    }
   ],
   "source": [
    "product.gtin=\"91234564613\"\n",
    "request = retail_v2.UpdateProductRequest(\n",
    "    product=product,\n",
    ")\n",
    "response = client.update_product(request=request)\n",
    "product = client.get_product(name=product_name)\n",
    "print(product.gtin)"
   ]
  },
  {
   "cell_type": "markdown",
   "id": "86d0a016",
   "metadata": {},
   "source": [
    "#### Make a product's field available in search results "
   ]
  },
  {
   "cell_type": "code",
   "execution_count": 18,
   "id": "f7707573",
   "metadata": {},
   "outputs": [
    {
     "name": "stdout",
     "output_type": "stream",
     "text": [
      "paths: \"title\"\n",
      "paths: \"categories\"\n",
      "paths: \"brands\"\n",
      "paths: \"attributes.estimated_delivery_day\"\n",
      "paths: \"price_info\"\n",
      "paths: \"uri\"\n",
      "paths: \"images\"\n",
      "paths: \"color_info\"\n",
      "paths: \"sizes\"\n",
      "paths: \"rating\"\n",
      "paths: \"rating\"\n",
      "paths: \"rating\"\n",
      "\n"
     ]
    }
   ],
   "source": [
    "product = client.get_product(name=product_name)\n",
    "product.retrievable_fields.paths.append('rating')\n",
    "request = retail_v2.UpdateProductRequest(\n",
    "    product=product,\n",
    ")\n",
    "print(product.retrievable_fields)\n",
    "\n",
    "# Make the request\n",
    "#response = client.update_product(request=request)\n",
    "\n",
    "# Handle the response\n",
    "#print(response)"
   ]
  }
 ],
 "metadata": {
  "environment": {
   "name": "common-cpu.m65",
   "type": "gcloud",
   "uri": "gcr.io/deeplearning-platform-release/base-cpu:m65"
  },
  "kernelspec": {
   "display_name": "Python 3",
   "language": "python",
   "name": "python3"
  },
  "language_info": {
   "codemirror_mode": {
    "name": "ipython",
    "version": 3
   },
   "file_extension": ".py",
   "mimetype": "text/x-python",
   "name": "python",
   "nbconvert_exporter": "python",
   "pygments_lexer": "ipython3",
   "version": "3.7.10"
  }
 },
 "nbformat": 4,
 "nbformat_minor": 5
}
