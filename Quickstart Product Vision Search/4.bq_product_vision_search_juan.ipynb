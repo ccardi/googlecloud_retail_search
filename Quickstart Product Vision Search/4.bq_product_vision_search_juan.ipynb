{
 "cells": [
  {
   "cell_type": "markdown",
   "id": "0ec1c5ee",
   "metadata": {},
   "source": [
    "# **Product Vision Search:** Build a Product recognition engine in one hour\n",
    "This example is using a Kaggle dataset for product recognition. The goal is to extract a csv for bulk import in Product Vision Search  \n",
    "**Useful links:**  \n",
    "https://github.com/zinjiggle/google-product-search-simple-ui  \n",
    "https://github.com/GoogleCloudPlatform/python-docs-samples/tree/master/vision/cloud-client/product_search"
   ]
  },
  {
   "cell_type": "code",
   "execution_count": 3,
   "id": "116a2600",
   "metadata": {},
   "outputs": [],
   "source": [
    "project_id='pod-fr-retail'\n",
    "location='europe-west1'\n",
    "product_set='kaggle_shoes'\n",
    "bucket_name=\"pod-fr-retail-kaggle\"\n",
    "gcs_bucket=\"gs://\"+bucket_name+\"/\""
   ]
  },
  {
   "cell_type": "code",
   "execution_count": 5,
   "id": "0a54a29e",
   "metadata": {},
   "outputs": [],
   "source": [
    "from google.cloud import vision_v1"
   ]
  },
  {
   "cell_type": "markdown",
   "id": "6cacef81",
   "metadata": {},
   "source": [
    "## 1. Check index time of product sets "
   ]
  },
  {
   "cell_type": "code",
   "execution_count": 8,
   "id": "354989e7",
   "metadata": {},
   "outputs": [
    {
     "name": "stdout",
     "output_type": "stream",
     "text": [
      "Index name: projects/pod-fr-retail/locations/europe-west1/productSets/kaggle_shoes\n",
      "Last index: 2022-10-24 08:19:27\n",
      "------\n",
      "Index name: projects/pod-fr-retail/locations/europe-west1/productSets/pvs_shoes\n",
      "Last index: 2022-10-24 08:19:27\n",
      "------\n"
     ]
    }
   ],
   "source": [
    "import time\n",
    "from google.cloud import vision_v1\n",
    "client = vision_v1.ProductSearchClient()\n",
    "parent = client.location_path(project_id, location)\n",
    "name = client.product_set_path(project_id, location, product_set)\n",
    "for element in client.list_product_sets(parent):\n",
    "    #print(element)\n",
    "    print('Index name:', element.name)\n",
    "    print('Last index:',time.strftime('%Y-%m-%d %H:%M:%S', time.localtime(element.index_time.seconds)))\n",
    "    print('------')\n",
    "    pass"
   ]
  },
  {
   "cell_type": "markdown",
   "id": "c68de5d6",
   "metadata": {},
   "source": [
    "## 2. Search a product in your catalog\n"
   ]
  },
  {
   "cell_type": "code",
   "execution_count": 14,
   "id": "1908f251",
   "metadata": {},
   "outputs": [],
   "source": [
    "from google.cloud import vision\n",
    "from google.cloud import storage\n",
    "from IPython.display import Image, display\n",
    "import pandas as pd\n",
    "\n",
    "def get_similar_products_file(\n",
    "        project_id,\n",
    "        location,\n",
    "        product_set_id,\n",
    "        product_category,\n",
    "        file_path,\n",
    "        filter,\n",
    "        max_results\n",
    "):\n",
    "    \"\"\"Search similar products to image.\n",
    "    Args:\n",
    "        project_id: Id of the project.\n",
    "        location: A compute region name.\n",
    "        product_set_id: Id of the product set.\n",
    "        product_category: Category of the product.\n",
    "        file_path: Local file path of the image to be searched.\n",
    "        filter: Condition to be applied on the labels.\n",
    "                Example for filter: (color = red OR color = blue) AND style = kids\n",
    "                It will search on all products with the following labels:\n",
    "                color:red AND style:kids\n",
    "                color:blue AND style:kids\n",
    "        max_results: The maximum number of results (matches) to return. If omitted, all results are returned.\n",
    "    \"\"\"\n",
    "    # product_search_client is needed only for its helper methods.\n",
    "    \n",
    "    image_annotator_client = vision.ImageAnnotatorClient()\n",
    "\n",
    "    # Read the image as a stream of bytes.\n",
    "    with open(file_path, 'rb') as image_file:\n",
    "        content = image_file.read()\n",
    "\n",
    "    # Create annotate image request along with product search feature.\n",
    "    image = vision.types.image_annotator_pb2.Image(content=content)\n",
    "    product_search_client = vision.ProductSearchClient()\n",
    "    # product search specific parameters\n",
    "    product_set_path = product_search_client.product_set_path(\n",
    "        project=project_id, location=location,\n",
    "        product_set=product_set_id)\n",
    "    product_search_params = vision.types.ProductSearchParams(\n",
    "        product_set=product_set_path,\n",
    "        product_categories=[product_category],\n",
    "        filter=filter)\n",
    "    image_context = vision.types.ImageContext(\n",
    "        product_search_params=product_search_params)\n",
    "\n",
    "    # Search products similar to the image.\n",
    "    response = image_annotator_client.product_search(\n",
    "        image,\n",
    "        image_context=image_context,\n",
    "        max_results=max_results\n",
    "    )\n",
    "    \n",
    "    index_time = response.product_search_results.index_time\n",
    "    print('Last Product index:',time.strftime('%Y-%m-%d %H:%M:%S', time.localtime(index_time.seconds)))\n",
    "\n",
    "    results = response.product_search_results.results\n",
    "    return results\n",
    "\n",
    "def get_image(uri):\n",
    "    client_storage = storage.Client() # Implicit environment set up\n",
    "    bucket = uri.split(\"/\")[2]\n",
    "    object_name = \"/\".join(uri.split(\"/\")[3:])\n",
    "    # with explicit set up:\n",
    "    # client = storage.Client.from_service_account_json('key-file-location')\n",
    "    bucket = client_storage.get_bucket(bucket)\n",
    "    blob = bucket.get_blob(object_name)\n",
    "    return(Image(blob.download_as_bytes()))\n",
    "\n",
    "def display_results(results,file_path):\n",
    "    print('Search results for : \\n')\n",
    "    display(Image(file_path))\n",
    "    i=0\n",
    "    print('\\n')\n",
    "    for result in results:\n",
    "        print('-----Result ', i, ' ------')\n",
    "        product_search_client = vision.ProductSearchClient()\n",
    "        image = product_search_client.get_reference_image(name=result.image)\n",
    "        display(get_image(image.uri))\n",
    "        product = result.product\n",
    "        print('Score(Confidence): {}'.format(result.score))\n",
    "        print('Image name: {}'.format(result.image))\n",
    "        print('Image URI: {}'.format(image.uri))\n",
    "        print('Product name: {}'.format(product.name))\n",
    "        print('Product display name: {}'.format(\n",
    "            product.display_name))\n",
    "        print('Product description: {}\\n'.format(product.description))\n",
    "        print('Product labels: \\n')\n",
    "        df=[]\n",
    "        for p in product.product_labels:\n",
    "            df.append([p.key, p.value])\n",
    "        print(pd.DataFrame(df, columns=[\"Key\", \"Value\"]))\n",
    "        i=i+1\n",
    "        print('\\n')\n",
    "\n",
    "def analyse_results(results, file_path):\n",
    "    df=[]\n",
    "    print('Search results for : \\n')\n",
    "    display(Image(file_path))\n",
    "    i=0\n",
    "    print('\\n')\n",
    "    for result in results:\n",
    "        if result.score>0.1:\n",
    "            for p in result.product.product_labels:\n",
    "                df.append([p.key, p.value])\n",
    "    data=pd.DataFrame(df, columns=[\"Category Level\", \"Category Name\"])\n",
    "    cnt_per_key =  data.groupby([\"Category Level\", \"Category Name\"])[\"Category Name\"].count().reset_index(name=\"count\")\n",
    "    cnt_per_key['ranking'] = cnt_per_key.groupby([\"Category Level\"])['count'].rank(method='first', ascending=False)\n",
    "    df=cnt_per_key[cnt_per_key.ranking==1]\n",
    "    cnt_per_key=cnt_per_key.sort_values(by=[\"Category Level\", \"count\"], ascending = [True, False])\n",
    "    print(\"\\n\\n Top categories by level for this product\")\n",
    "    print(df.to_string(index=False))\n",
    "    print(\"\\n\\n All Categories by level for this products\")\n",
    "    print(cnt_per_key.to_string(index=False))\n",
    "    print(\"\\n\\n\")"
   ]
  },
  {
   "cell_type": "code",
   "execution_count": 15,
   "id": "fb02f0a9",
   "metadata": {},
   "outputs": [],
   "source": [
    "product_category=\"apparel-v2\"\n",
    "file_path=\"sebago.jpeg\""
   ]
  },
  {
   "cell_type": "code",
   "execution_count": 17,
   "id": "da29b2e9",
   "metadata": {},
   "outputs": [
    {
     "name": "stdout",
     "output_type": "stream",
     "text": [
      "adidas.jpeg\n",
      "Last Product index: 2022-10-24 08:19:27\n",
      "balerine.jpeg\n",
      "Last Product index: 2022-10-24 08:19:27\n",
      "sebago.jpeg\n",
      "Last Product index: 2022-10-24 08:19:27\n",
      "boots-homme-scaled.jpeg\n",
      "Last Product index: 2022-10-24 08:19:27\n"
     ]
    }
   ],
   "source": [
    "import glob\n",
    "files=glob.glob(\"*.jpeg\")\n",
    "for file in files:\n",
    "    print(file)\n",
    "    results=get_similar_products_file(\n",
    "            project_id,\n",
    "            location,\n",
    "            product_set,\n",
    "            product_category,\n",
    "            file_path=file,\n",
    "            filter=\"\",\n",
    "            max_results=300\n",
    "    )"
   ]
  },
  {
   "cell_type": "code",
   "execution_count": 13,
   "id": "24598d77",
   "metadata": {},
   "outputs": [
    {
     "data": {
      "text/plain": [
       "'kaggle_shoes'"
      ]
     },
     "execution_count": 13,
     "metadata": {},
     "output_type": "execute_result"
    }
   ],
   "source": []
  },
  {
   "cell_type": "code",
   "execution_count": 39,
   "id": "343ae325",
   "metadata": {},
   "outputs": [
    {
     "name": "stdout",
     "output_type": "stream",
     "text": [
      "Search results for : \n",
      "\n"
     ]
    },
    {
     "data": {
      "image/jpeg": "[encoded data removed]",
      "text/plain": [
       "<IPython.core.display.Image object>"
      ]
     },
     "metadata": {},
     "output_type": "display_data"
    },
    {
     "name": "stdout",
     "output_type": "stream",
     "text": [
      "\n",
      "\n",
      "  Category Level           Category Name  count  ranking\n",
      "0            cl1  chaussures-accessoires    298      1.0\n",
      "2            cl2         bottes-bottines    193      1.0\n",
      "8            cl3           bottine-boots    135      1.0\n"
     ]
    }
   ],
   "source": [
    "df=[]\n",
    "print('Search results for : \\n')\n",
    "display(Image(file_path))\n",
    "i=0\n",
    "print('\\n')\n",
    "for result in results:\n",
    "        if result.score>0.1:\n",
    "            for p in result.product.product_labels:\n",
    "                df.append([p.key, p.value])\n",
    "data=pd.DataFrame(df, columns=[\"Category Level\", \"Category Name\"])\n",
    "cnt_per_key =  data.groupby([\"Category Level\", \"Category Name\"])[\"Category Name\"].count().reset_index(name=\"count\")\n",
    "cnt_per_key['ranking'] = cnt_per_key.groupby([\"Category Level\"])['count'].rank(method='first', ascending=False)\n",
    "df=cnt_per_key[cnt_per_key.ranking==1]\n",
    "cnt_per_key=cnt_per_key.sort_values(by=[\"Category Level\", \"count\"], ascending = [True, False])\n",
    "print(df)"
   ]
  }
 ],
 "metadata": {
  "environment": {
   "name": "common-cpu.m65",
   "type": "gcloud",
   "uri": "gcr.io/deeplearning-platform-release/base-cpu:m65"
  },
  "kernelspec": {
   "display_name": "Python 3",
   "language": "python",
   "name": "python3"
  },
  "language_info": {
   "codemirror_mode": {
    "name": "ipython",
    "version": 3
   },
   "file_extension": ".py",
   "mimetype": "text/x-python",
   "name": "python",
   "nbconvert_exporter": "python",
   "pygments_lexer": "ipython3",
   "version": "3.7.10"
  }
 },
 "nbformat": 4,
 "nbformat_minor": 5
}
