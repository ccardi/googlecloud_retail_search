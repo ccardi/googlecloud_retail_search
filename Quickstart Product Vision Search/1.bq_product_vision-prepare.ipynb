{
 "cells": [
  {
   "cell_type": "markdown",
   "metadata": {},
   "source": [
    "# **Google Vision Product Search:** \n",
    "## Build a Product catalog recognition engine in one hour\n",
    "\n",
    "Vision API Product Search allows retailers to create products, each containing reference images that visually describe the product from a set of viewpoints. Retailers can then add these products to product sets. Currently Vision API Product Search supports the following product categories: homegoods, apparel, toys, packaged goods, and general .\n",
    "\n",
    "When users query the product set with their own images, Vision API Product Search applies machine learning to compare the product in the user's query image with the images in the retailer's product set, and then returns a ranked list of visually and semantically similar results.\n",
    "\n",
    "After loading your catalog into Vision Product Search, you'll be able to search for similar products in your catalog by providing a image\n",
    "\n",
    "> This notebook is using a Kaggle dataset for product recognition. The goal is to extract a csv for bulk import in Product Vision Search  \n",
    "\n",
    "**Useful links:**  \n",
    "https://github.com/zinjiggle/google-product-search-simple-ui  \n",
    "https://github.com/GoogleCloudPlatform/python-docs-samples/tree/master/vision/cloud-client/product_search"
   ]
  },
  {
   "cell_type": "markdown",
   "metadata": {},
   "source": [
    "## 0. Install vision library"
   ]
  },
  {
   "cell_type": "code",
   "execution_count": null,
   "metadata": {},
   "outputs": [],
   "source": [
    "#pip install google-cloud-vision"
   ]
  },
  {
   "cell_type": "code",
   "execution_count": 2,
   "metadata": {},
   "outputs": [],
   "source": [
    "#pip install --upgrade google-cloud-storage"
   ]
  },
  {
   "cell_type": "code",
   "execution_count": 6,
   "metadata": {},
   "outputs": [],
   "source": [
    "project_id='pod-fr-retail'\n",
    "location='europe-west1'\n",
    "product_set='kaggle_shoes'\n",
    "bucket_name=\"pod-fr-retail-kaggle\"\n",
    "gcs_bucket=\"gs://\"+bucket_name+\"/\""
   ]
  },
  {
   "cell_type": "markdown",
   "metadata": {},
   "source": [
    "## 1. Create a Products catalog with Bigquery\n",
    "The first step shows how to prepare a product catalog for **Vision Product Search** in BigQuery:\n",
    "* **image-uri**: The Google Cloud Storage URI of the reference image.\n",
    "* **image-id**: Optional. A unique value if you supply it. Otherwise, the system will assign a unique value.\n",
    "* **product-set-id**: A unique identifier for the product set to import the images into.\n",
    "* **product-id**: A user-defined ID for the product identified by the reference image. A product-id can be associated with multiple reference images. Note: A single product may also belong to several product sets. If a product-id already exists on bulk import then product-category, product-display, and labels are ignored for that line entry.\n",
    "* **product-category**: Allowed values are homegoods-v2, apparel-v2, toys-v2, packagedgoods-v1, and general-v1 *; the category for the product identified by the reference image. Inferred by the system if not specified in the create request. Allowed values are also listed in the productCategory reference documentation. Legacy productCategory codes: Legacy categories (homegoods, apparel, and toys) are still supported, but the updated -v2 categories should be used for new products.\n",
    "* **product-display-name**: Optional. If you don't provide a name for the product displayName will be set to \" \". You can update this value later.\n",
    "* **labels**: Optional. A string (with quotation marks) of key-value pairs that describe the products in the reference image. For example:\"color=black,style=formal\"\n",
    "* **bounding-poly**: Optional. Specifies the area of interest in the reference image. If a bounding box is not specified: Bounding boxes for the image are inferred by the Vision API; multiple regions in a single image may be indexed if multiple products are detected by the API. The line must end with a comma. See the example below for a product without a bounding poly specified.If you include a bounding box, the boundingPoly column should contain an even number of comma-separated numbers, with the format p1_x,p1_y,p2_x,p2_y,...,pn_x,pn_y. An example line looks like this: 0.1,0.1,0.9,0.1,0.9,0.9,0.1,0.9."
   ]
  },
  {
   "cell_type": "markdown",
   "metadata": {},
   "source": [
    "#### 1.1 Product Catalog exploration (Kaggle dataset) "
   ]
  },
  {
   "cell_type": "markdown",
   "metadata": {},
   "source": [
    "Let's start by exploring our data. We are using a product images catalog from a kaggle contest. Goal was to classify automatically product based on a image. The dataset contains 48 products main categories and around 12 millions images. For our notebook quickstart, we'll focus on Shoes category."
   ]
  },
  {
   "cell_type": "code",
   "execution_count": 11,
   "metadata": {},
   "outputs": [
    {
     "name": "stderr",
     "output_type": "stream",
     "text": [
      "Query complete after 0.00s: 100%|██████████| 3/3 [00:00<00:00, 1284.23query/s]                        \n",
      "Downloading: 100%|██████████| 10/10 [00:01<00:00,  6.39rows/s]\n"
     ]
    },
    {
     "data": {
      "text/html": [
       "<div>\n",
       "<style scoped>\n",
       "    .dataframe tbody tr th:only-of-type {\n",
       "        vertical-align: middle;\n",
       "    }\n",
       "\n",
       "    .dataframe tbody tr th {\n",
       "        vertical-align: top;\n",
       "    }\n",
       "\n",
       "    .dataframe thead th {\n",
       "        text-align: right;\n",
       "    }\n",
       "</style>\n",
       "<table border=\"1\" class=\"dataframe\">\n",
       "  <thead>\n",
       "    <tr style=\"text-align: right;\">\n",
       "      <th></th>\n",
       "      <th>category_level1</th>\n",
       "      <th>num_products</th>\n",
       "    </tr>\n",
       "  </thead>\n",
       "  <tbody>\n",
       "    <tr>\n",
       "      <th>0</th>\n",
       "      <td>TELEPHONIE - GPS</td>\n",
       "      <td>1227001</td>\n",
       "    </tr>\n",
       "    <tr>\n",
       "      <th>1</th>\n",
       "      <td>AUTO - MOTO</td>\n",
       "      <td>1193619</td>\n",
       "    </tr>\n",
       "    <tr>\n",
       "      <th>2</th>\n",
       "      <td>INFORMATIQUE</td>\n",
       "      <td>1124907</td>\n",
       "    </tr>\n",
       "    <tr>\n",
       "      <th>3</th>\n",
       "      <td>DECO - LINGE - LUMINAIRE</td>\n",
       "      <td>1111509</td>\n",
       "    </tr>\n",
       "    <tr>\n",
       "      <th>4</th>\n",
       "      <td>LIBRAIRIE</td>\n",
       "      <td>863965</td>\n",
       "    </tr>\n",
       "    <tr>\n",
       "      <th>5</th>\n",
       "      <td>BIJOUX -  LUNETTES - MONTRES</td>\n",
       "      <td>688243</td>\n",
       "    </tr>\n",
       "    <tr>\n",
       "      <th>6</th>\n",
       "      <td>BRICOLAGE - OUTILLAGE - QUINCAILLERIE</td>\n",
       "      <td>620366</td>\n",
       "    </tr>\n",
       "    <tr>\n",
       "      <th>7</th>\n",
       "      <td>JEUX - JOUETS</td>\n",
       "      <td>551408</td>\n",
       "    </tr>\n",
       "    <tr>\n",
       "      <th>8</th>\n",
       "      <td>SPORT</td>\n",
       "      <td>434791</td>\n",
       "    </tr>\n",
       "    <tr>\n",
       "      <th>9</th>\n",
       "      <td>BAGAGERIE</td>\n",
       "      <td>434675</td>\n",
       "    </tr>\n",
       "  </tbody>\n",
       "</table>\n",
       "</div>"
      ],
      "text/plain": [
       "                         category_level1  num_products\n",
       "0                       TELEPHONIE - GPS       1227001\n",
       "1                            AUTO - MOTO       1193619\n",
       "2                           INFORMATIQUE       1124907\n",
       "3               DECO - LINGE - LUMINAIRE       1111509\n",
       "4                              LIBRAIRIE        863965\n",
       "5           BIJOUX -  LUNETTES - MONTRES        688243\n",
       "6  BRICOLAGE - OUTILLAGE - QUINCAILLERIE        620366\n",
       "7                          JEUX - JOUETS        551408\n",
       "8                                  SPORT        434791\n",
       "9                              BAGAGERIE        434675"
      ]
     },
     "execution_count": 11,
     "metadata": {},
     "output_type": "execute_result"
    }
   ],
   "source": [
    "%%bigquery\n",
    "SELECT category_level1, count(*) num_products  \n",
    "FROM \n",
    "    `pod-fr-retail.kaggle.train_images` a \n",
    "JOIN `pod-fr-retail.kaggle.category_names`  b \n",
    "ON CAST(b.category_id AS STRING) =(REGEXP_EXTRACT(a.path_to_images,r'gs://pod-fr-retail-kaggle/train-images/[0-9]*/([^-]*)'))\n",
    "GROUP BY 1 ORDER BY 2 desc\n",
    "LIMIT 10"
   ]
  },
  {
   "cell_type": "markdown",
   "metadata": {},
   "source": [
    "In shoes category"
   ]
  },
  {
   "cell_type": "code",
   "execution_count": 12,
   "metadata": {},
   "outputs": [
    {
     "name": "stderr",
     "output_type": "stream",
     "text": [
      "Query complete after 0.00s: 100%|██████████| 1/1 [00:00<00:00, 366.35query/s]                          \n",
      "Downloading: 100%|██████████| 5/5 [00:01<00:00,  3.26rows/s]\n"
     ]
    },
    {
     "data": {
      "text/html": [
       "<div>\n",
       "<style scoped>\n",
       "    .dataframe tbody tr th:only-of-type {\n",
       "        vertical-align: middle;\n",
       "    }\n",
       "\n",
       "    .dataframe tbody tr th {\n",
       "        vertical-align: top;\n",
       "    }\n",
       "\n",
       "    .dataframe thead th {\n",
       "        text-align: right;\n",
       "    }\n",
       "</style>\n",
       "<table border=\"1\" class=\"dataframe\">\n",
       "  <thead>\n",
       "    <tr style=\"text-align: right;\">\n",
       "      <th></th>\n",
       "      <th>category_level2</th>\n",
       "    </tr>\n",
       "  </thead>\n",
       "  <tbody>\n",
       "    <tr>\n",
       "      <th>0</th>\n",
       "      <td>BOTTES - BOTTINES</td>\n",
       "    </tr>\n",
       "    <tr>\n",
       "      <th>1</th>\n",
       "      <td>CHAUSSURES DETENTE</td>\n",
       "    </tr>\n",
       "    <tr>\n",
       "      <th>2</th>\n",
       "      <td>BASKET - SPORTSWEAR</td>\n",
       "    </tr>\n",
       "    <tr>\n",
       "      <th>3</th>\n",
       "      <td>CHAUSSURES DE VILLE</td>\n",
       "    </tr>\n",
       "    <tr>\n",
       "      <th>4</th>\n",
       "      <td>ACCESSOIRES CHAUSSURES</td>\n",
       "    </tr>\n",
       "  </tbody>\n",
       "</table>\n",
       "</div>"
      ],
      "text/plain": [
       "          category_level2\n",
       "0       BOTTES - BOTTINES\n",
       "1      CHAUSSURES DETENTE\n",
       "2     BASKET - SPORTSWEAR\n",
       "3     CHAUSSURES DE VILLE\n",
       "4  ACCESSOIRES CHAUSSURES"
      ]
     },
     "execution_count": 12,
     "metadata": {},
     "output_type": "execute_result"
    }
   ],
   "source": [
    "%%bigquery\n",
    "SELECT category_level2\n",
    "from `pod-fr-retail.kaggle.category_names` \n",
    "WHERE category_level1 like 'CHAUSSURES%'\n",
    "GROUP BY 1"
   ]
  },
  {
   "cell_type": "markdown",
   "metadata": {},
   "source": [
    "#### 1.2 Create a table with the appropriate schema from Product Catalog (Kaggle dataset) "
   ]
  },
  {
   "cell_type": "code",
   "execution_count": null,
   "metadata": {},
   "outputs": [],
   "source": [
    "%%bigquery\n",
    "CREATE TABLE `pod-fr-retail.kaggle.products_vision_search` AS\n",
    "SELECT \n",
    "    a.* EXCEPT (category_id)\n",
    "    ,CONCAT(replace(lower(CONCAT('','cl1=',b.category_level1,',cl2=',b.category_level2,',cl3=',b.category_level3,' ')),' ','')) labels\n",
    "    ,null as poly\n",
    "FROM (\n",
    "    SELECT \n",
    "        path_to_images image_uri\n",
    "        ,(REGEXP_EXTRACT(path_to_images,r'gs://pod-fr-retail-kaggle/train-images/[0-9]*/([0-9]*-[0-9]*-[0-9]*)')) AS image_id\n",
    "        ,'kaggle_shoes' as product_set_id\n",
    "        ,(REGEXP_EXTRACT(path_to_images,r'gs://pod-fr-retail-kaggle/train-images/[0-9]*/[0-9]*-([0-9]*)')) AS product_id\n",
    "        ,(REGEXP_EXTRACT(path_to_images,r'gs://pod-fr-retail-kaggle/train-images/[0-9]*/([^-]*)')) AS category_id\n",
    "        ,'apparel-v2' product_category\n",
    "        ,(REGEXP_EXTRACT(path_to_images,r'gs://pod-fr-retail-kaggle/train-images/[0-9]*/[0-9]*-([0-9]*)')) AS product_display_name\n",
    "    FROM `pod-fr-retail.kaggle.train_images`\n",
    "  ) a \n",
    "JOIN (SELECT * FROM `pod-fr-retail.kaggle.category_names` \n",
    "      WHERE \n",
    "      #category_level1='HYGIENE - BEAUTE - PARFUM'\n",
    "      #category_level1='CHAUSSURES - ACCESSOIRES'\n",
    "      category_level1 like 'CHAUSSURES%'\n",
    "  ) b \n",
    "ON CAST(b.category_id AS STRING) =a.category_id\n",
    "#WHERE rand()<0.10;"
   ]
  },
  {
   "cell_type": "code",
   "execution_count": 15,
   "metadata": {},
   "outputs": [
    {
     "name": "stderr",
     "output_type": "stream",
     "text": [
      "Query complete after 0.00s: 100%|██████████| 1/1 [00:00<00:00, 388.58query/s]                          \n",
      "Downloading: 100%|██████████| 1/1 [00:01<00:00,  1.26s/rows]\n"
     ]
    },
    {
     "data": {
      "text/html": [
       "<div>\n",
       "<style scoped>\n",
       "    .dataframe tbody tr th:only-of-type {\n",
       "        vertical-align: middle;\n",
       "    }\n",
       "\n",
       "    .dataframe tbody tr th {\n",
       "        vertical-align: top;\n",
       "    }\n",
       "\n",
       "    .dataframe thead th {\n",
       "        text-align: right;\n",
       "    }\n",
       "</style>\n",
       "<table border=\"1\" class=\"dataframe\">\n",
       "  <thead>\n",
       "    <tr style=\"text-align: right;\">\n",
       "      <th></th>\n",
       "      <th>number_of_products</th>\n",
       "    </tr>\n",
       "  </thead>\n",
       "  <tbody>\n",
       "    <tr>\n",
       "      <th>0</th>\n",
       "      <td>369325</td>\n",
       "    </tr>\n",
       "  </tbody>\n",
       "</table>\n",
       "</div>"
      ],
      "text/plain": [
       "   number_of_products\n",
       "0              369325"
      ]
     },
     "execution_count": 15,
     "metadata": {},
     "output_type": "execute_result"
    }
   ],
   "source": [
    "%%bigquery\n",
    "select count(*) number_of_products from `pod-fr-retail.kaggle.products_vision_search`"
   ]
  },
  {
   "cell_type": "markdown",
   "metadata": {},
   "source": [
    "# 2. Prepare bulk files to create a new set Data extraction (export CSV for bulk import)\n",
    "Extract from BigQuery to Google Cloud Storage and split file in multiple files (20k lines max per file)"
   ]
  },
  {
   "cell_type": "code",
   "execution_count": 61,
   "metadata": {},
   "outputs": [],
   "source": [
    "productsTable='pod-fr-retail:kaggle.products_vision_search'\n",
    "destinationCSV=\"gs://pod-fr-retail-kaggle/products_vision_search.csv\"\n",
    "destinationSplittedCSV=\"gs://pod-fr-retail-kaggle/products_vision_search/split/part\""
   ]
  },
  {
   "cell_type": "code",
   "execution_count": null,
   "metadata": {},
   "outputs": [],
   "source": [
    "%%bash -s $productsTable $destinationCSV\n",
    "bq extract --print_header=false $1 $2"
   ]
  },
  {
   "cell_type": "code",
   "execution_count": 62,
   "metadata": {},
   "outputs": [
    {
     "name": "stdout",
     "output_type": "stream",
     "text": [
      "gs://pod-fr-retail-kaggle/train-images/4000000/1000010547-13111765-1.jpg,1000010547-13111765-1,kaggle_shoes,13111765,apparel-v2,13111765,\"cl1=chaussures-accessoires,cl2=bottes-bottines,cl3=botte\",\n"
     ]
    }
   ],
   "source": [
    "%%bash -s $destinationCSV\n",
    "gsutil cat  $1 | sed -n '1,1p'  "
   ]
  },
  {
   "cell_type": "code",
   "execution_count": null,
   "metadata": {},
   "outputs": [],
   "source": [
    "%%bash -s $destinationCSV $destinationSplittedCSV\n",
    "TOTAL_ROWS=$(gsutil cat $1 | wc -l);\n",
    "MAX_ROWS=20000;\n",
    "j=1\n",
    "k=1\n",
    "for (( i=1; i<=$TOTAL_ROWS; i++ ))\n",
    "do \n",
    "    if [ $(($i%MAX_ROWS)) == 0 ]; then \n",
    "        gsutil -q cat $1 | sed -n \"$j\"','\"$i\"'p'  |  gsutil -q cp - $2-$k.csv\n",
    "        echo \"File $2-$k.csv created\" \n",
    "        j=$((i+1))\n",
    "        k=$((k+1))\n",
    "    fi\n",
    "done\n",
    "if [ $(($i < TOTAL_ROWS)) ]; then \n",
    "        gsutil -q cat $1 | sed -n \"$j\"','\"$TOTAL_ROWS\"'p'  |  gsutil -q cp - $2-$k.csv\n",
    "fi"
   ]
  },
  {
   "cell_type": "markdown",
   "metadata": {},
   "source": [
    "# 3. Product set creation\n",
    "Bulk import every files to Vision Product Search (to a specific product set id specified in the file itself)"
   ]
  },
  {
   "cell_type": "markdown",
   "metadata": {},
   "source": [
    "## 3.1 List all files"
   ]
  },
  {
   "cell_type": "code",
   "execution_count": 9,
   "metadata": {},
   "outputs": [
    {
     "name": "stdout",
     "output_type": "stream",
     "text": [
      "products_vision_search/split/part-1.csv\n",
      "products_vision_search/split/part-10.csv\n",
      "products_vision_search/split/part-11.csv\n",
      "products_vision_search/split/part-12.csv\n",
      "products_vision_search/split/part-13.csv\n",
      "products_vision_search/split/part-14.csv\n",
      "products_vision_search/split/part-15.csv\n",
      "products_vision_search/split/part-16.csv\n",
      "products_vision_search/split/part-17.csv\n",
      "products_vision_search/split/part-18.csv\n",
      "products_vision_search/split/part-19.csv\n",
      "products_vision_search/split/part-2.csv\n",
      "products_vision_search/split/part-3.csv\n",
      "products_vision_search/split/part-4.csv\n",
      "products_vision_search/split/part-5.csv\n",
      "products_vision_search/split/part-6.csv\n",
      "products_vision_search/split/part-7.csv\n",
      "products_vision_search/split/part-8.csv\n",
      "products_vision_search/split/part-9.csv\n"
     ]
    }
   ],
   "source": [
    "from google.cloud import storage\n",
    "client = storage.Client()\n",
    "bucket_name = \"pod-fr-retail-kaggle\"\n",
    "bucket = client.get_bucket(bucket_name)\n",
    "blobs = client.list_blobs(bucket_name, prefix='products_vision_search/split/')\n",
    "gcs_uris=[]\n",
    "for item in blobs:\n",
    "    gcs_uris.append(item.name)\n",
    "    print(item.name)"
   ]
  },
  {
   "cell_type": "markdown",
   "metadata": {},
   "source": [
    "## 3.2 Import files and store responses (operation) "
   ]
  },
  {
   "cell_type": "code",
   "execution_count": 4,
   "metadata": {},
   "outputs": [],
   "source": [
    "from google.cloud import vision_v1"
   ]
  },
  {
   "cell_type": "code",
   "execution_count": 38,
   "metadata": {},
   "outputs": [],
   "source": [
    "responses=[]\n",
    "client = vision_v1.ProductSearchClient()\n",
    "parent = client.location_path(project_id, location)\n",
    "\n",
    "def callback(operation_future):\n",
    "        # Handle result.\n",
    "        result = operation_future.result()\n",
    "        \n",
    "for gcs_uri in gcs_uris:\n",
    "    gcs_source = vision_v1.types.ImportProductSetsGcsSource(csv_file_uri = gcs_bucket+gcs_uri)\n",
    "    input_config = vision_v1.types.ImportProductSetsInputConfig(gcs_source=gcs_source)\n",
    "    response = client.import_product_sets(parent, input_config)\n",
    "    response.add_done_callback(callback)\n",
    "    responses.append(response)"
   ]
  },
  {
   "cell_type": "code",
   "execution_count": null,
   "metadata": {},
   "outputs": [],
   "source": [
    "for response in responses:\n",
    "    print(response.operation.name, ':')\n",
    "    print(response.metadata)\n",
    "    print('--------------------')"
   ]
  },
  {
   "cell_type": "markdown",
   "metadata": {},
   "source": [
    "## 3.3 Check index time of product sets "
   ]
  },
  {
   "cell_type": "code",
   "execution_count": null,
   "metadata": {},
   "outputs": [],
   "source": [
    "import time\n",
    "from google.cloud import vision_v1\n",
    "client = vision_v1.ProductSearchClient()\n",
    "parent = client.location_path(project_id, location)\n",
    "name = client.product_set_path(project_id, location, product_set)\n",
    "for element in client.list_product_sets(parent):\n",
    "    print(element)\n",
    "    print('Last index:',time.strftime('%Y-%m-%d %H:%M:%S', time.localtime(element.index_time.seconds)))\n",
    "    print('------')\n",
    "    pass\n",
    "#print(client.list_products_in_product_set(name))\n"
   ]
  },
  {
   "cell_type": "markdown",
   "metadata": {},
   "source": [
    "# 4. Delete product sets (disabled / do not remove products) "
   ]
  },
  {
   "cell_type": "raw",
   "metadata": {},
   "source": [
    "from google.cloud import vision_v1\n",
    "client = vision_v1.ProductSearchClient()\n",
    "name = client.product_set_path(project_id, location, product_set)\n",
    "client.delete_product_set(name)"
   ]
  }
 ],
 "metadata": {
  "environment": {
   "name": "common-cpu.m65",
   "type": "gcloud",
   "uri": "gcr.io/deeplearning-platform-release/base-cpu:m65"
  },
  "kernelspec": {
   "display_name": "Python [conda env:root] *",
   "language": "python",
   "name": "conda-root-py"
  },
  "language_info": {
   "codemirror_mode": {
    "name": "ipython",
    "version": 3
   },
   "file_extension": ".py",
   "mimetype": "text/x-python",
   "name": "python",
   "nbconvert_exporter": "python",
   "pygments_lexer": "ipython3",
   "version": "3.7.10"
  }
 },
 "nbformat": 4,
 "nbformat_minor": 4
}
