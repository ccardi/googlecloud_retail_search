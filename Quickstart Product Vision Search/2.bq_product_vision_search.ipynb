{
 "cells": [
  {
   "cell_type": "markdown",
   "metadata": {},
   "source": [
    "# **Product Vision Search:** Build a Product recognition engine in one hour\n",
    "This example is using a Kaggle dataset for product recognition. The goal is to extract a csv for bulk import in Product Vision Search  \n",
    "**Useful links:**  \n",
    "https://github.com/zinjiggle/google-product-search-simple-ui  \n",
    "https://github.com/GoogleCloudPlatform/python-docs-samples/tree/master/vision/cloud-client/product_search"
   ]
  },
  {
   "cell_type": "markdown",
   "metadata": {},
   "source": [
    "## 0. Install Google Cloud Vision library"
   ]
  },
  {
   "cell_type": "code",
   "execution_count": null,
   "metadata": {},
   "outputs": [],
   "source": [
    "#pip install google-cloud-vision"
   ]
  },
  {
   "cell_type": "markdown",
   "metadata": {},
   "source": [
    "Init with your own project"
   ]
  },
  {
   "cell_type": "code",
   "execution_count": 10,
   "metadata": {},
   "outputs": [],
   "source": [
    "project_id='pod-fr-retail'\n",
    "location='europe-west1'\n",
    "product_set='kaggle_shoes'\n",
    "bucket_name=\"pod-fr-retail-kaggle\"\n",
    "gcs_bucket=\"gs://\"+bucket_name+\"/\""
   ]
  },
  {
   "cell_type": "code",
   "execution_count": 2,
   "metadata": {},
   "outputs": [],
   "source": [
    "from google.cloud import vision_v1"
   ]
  },
  {
   "cell_type": "markdown",
   "metadata": {},
   "source": [
    "## 1. Check index time of product sets "
   ]
  },
  {
   "cell_type": "code",
   "execution_count": 3,
   "metadata": {},
   "outputs": [
    {
     "name": "stdout",
     "output_type": "stream",
     "text": [
      "Index name: projects/pod-fr-retail/locations/europe-west1/productSets/kaggle_shoes\n",
      "Last index: 2022-10-15 20:19:33\n",
      "------\n",
      "Index name: projects/pod-fr-retail/locations/europe-west1/productSets/pvs_shoes\n",
      "Last index: 2022-10-15 20:19:33\n",
      "------\n"
     ]
    }
   ],
   "source": [
    "import time\n",
    "from google.cloud import vision_v1\n",
    "client = vision_v1.ProductSearchClient()\n",
    "parent = client.location_path(project_id, location)\n",
    "name = client.product_set_path(project_id, location, product_set)\n",
    "for element in client.list_product_sets(parent):\n",
    "    #print(element)\n",
    "    print('Index name:', element.name)\n",
    "    print('Last index:',time.strftime('%Y-%m-%d %H:%M:%S', time.localtime(element.index_time.seconds)))\n",
    "    print('------')\n",
    "    pass\n"
   ]
  },
  {
   "cell_type": "markdown",
   "metadata": {},
   "source": [
    "## 2. Search a product in your catalog"
   ]
  },
  {
   "cell_type": "code",
   "execution_count": 23,
   "metadata": {},
   "outputs": [],
   "source": [
    "from google.cloud import vision\n",
    "from google.cloud import storage\n",
    "from IPython.display import Image, display\n",
    "\n",
    "def get_image(uri):\n",
    "    client_storage = storage.Client() # Implicit environment set up\n",
    "    bucket = uri.split(\"/\")[2]\n",
    "    object_name = \"/\".join(uri.split(\"/\")[3:])\n",
    "    # with explicit set up:\n",
    "    # client = storage.Client.from_service_account_json('key-file-location')\n",
    "    bucket = client_storage.get_bucket(bucket)\n",
    "    blob = bucket.get_blob(object_name)\n",
    "    return(Image(blob.download_as_bytes()))\n",
    "    \n",
    "def get_similar_products_file(\n",
    "        project_id,\n",
    "        location,\n",
    "        product_set_id,\n",
    "        product_category,\n",
    "        file_path,\n",
    "        filter,\n",
    "        max_results\n",
    "):\n",
    "    \"\"\"Search similar products to image.\n",
    "    Args:\n",
    "        project_id: Id of the project.\n",
    "        location: A compute region name.\n",
    "        product_set_id: Id of the product set.\n",
    "        product_category: Category of the product.\n",
    "        file_path: Local file path of the image to be searched.\n",
    "        filter: Condition to be applied on the labels.\n",
    "                Example for filter: (color = red OR color = blue) AND style = kids\n",
    "                It will search on all products with the following labels:\n",
    "                color:red AND style:kids\n",
    "                color:blue AND style:kids\n",
    "        max_results: The maximum number of results (matches) to return. If omitted, all results are returned.\n",
    "    \"\"\"\n",
    "    # product_search_client is needed only for its helper methods.\n",
    "    product_search_client = vision.ProductSearchClient()\n",
    "    image_annotator_client = vision.ImageAnnotatorClient()\n",
    "\n",
    "    # Read the image as a stream of bytes.\n",
    "    with open(file_path, 'rb') as image_file:\n",
    "        content = image_file.read()\n",
    "\n",
    "    # Create annotate image request along with product search feature.\n",
    "    image = vision.types.image_annotator_pb2.Image(content=content)\n",
    "\n",
    "    # product search specific parameters\n",
    "    product_set_path = product_search_client.product_set_path(\n",
    "        project=project_id, location=location,\n",
    "        product_set=product_set_id)\n",
    "    product_search_params = vision.types.ProductSearchParams(\n",
    "        product_set=product_set_path,\n",
    "        product_categories=[product_category],\n",
    "        filter=filter)\n",
    "    image_context = vision.types.ImageContext(\n",
    "        product_search_params=product_search_params)\n",
    "\n",
    "    # Search products similar to the image.\n",
    "    response = image_annotator_client.product_search(\n",
    "        image,\n",
    "        image_context=image_context,\n",
    "        max_results=max_results\n",
    "    )\n",
    "    \n",
    "    index_time = response.product_search_results.index_time\n",
    "    print('Product set index time: ')\n",
    "    print(index_time)\n",
    "\n",
    "    results = response.product_search_results.results\n",
    "\n",
    "    print('Search results for : \\n')\n",
    "    display(Image(file_path))\n",
    "    i=0\n",
    "    for result in results:\n",
    "        print('-----Result ', i, ' ------')\n",
    "        image = product_search_client.get_reference_image(name=result.image)\n",
    "        display(get_image(image.uri))\n",
    "        product = result.product\n",
    "        print('Score(Confidence): {}'.format(result.score))\n",
    "        print('Image name: {}'.format(result.image))\n",
    "        print('Product name: {}'.format(product.name))\n",
    "        print('Product display name: {}'.format(\n",
    "            product.display_name))\n",
    "        print('Product description: {}\\n'.format(product.description))\n",
    "        print('Product labels: {}\\n'.format(product.product_labels))\n",
    "        i=i+1"
   ]
  },
  {
   "cell_type": "code",
   "execution_count": 28,
   "metadata": {},
   "outputs": [],
   "source": [
    "product_category=\"apparel-v2\"\n",
    "file_path=\"sebago.jpeg\""
   ]
  },
  {
   "cell_type": "code",
   "execution_count": 29,
   "metadata": {},
   "outputs": [
    {
     "name": "stdout",
     "output_type": "stream",
     "text": [
      "Product set index time: \n",
      "seconds: 1665905069\n",
      "nanos: 931053425\n",
      "\n",
      "Search results for : \n",
      "\n"
     ]
    },
    {
     "data": {
      "image/jpeg": "[encoded data removed]",
      "text/plain": [
       "<IPython.core.display.Image object>"
      ]
     },
     "metadata": {},
     "output_type": "display_data"
    },
    {
     "name": "stdout",
     "output_type": "stream",
     "text": [
      "-----Result  0  ------\n"
     ]
    },
    {
     "data": {
      "image/jpeg": "[encoded data removed]",
      "text/plain": [
       "<IPython.core.display.Image object>"
      ]
     },
     "metadata": {},
     "output_type": "display_data"
    },
    {
     "name": "stdout",
     "output_type": "stream",
     "text": [
      "Score(Confidence): 0.5284280180931091\n",
      "Image name: projects/pod-fr-retail/locations/europe-west1/products/9439684/referenceImages/1000010538-9439684-0\n",
      "Product name: projects/pod-fr-retail/locations/europe-west1/products/9439684\n",
      "Product display name: 9439684\n",
      "Product description: \n",
      "\n",
      "Product labels: [key: \"cl1\"\n",
      "value: \"chaussures-accessoires\"\n",
      ", key: \"cl2\"\n",
      "value: \"basket-sportswear\"\n",
      ", key: \"cl3\"\n",
      "value: \"basket\"\n",
      "]\n",
      "\n",
      "-----Result  1  ------\n"
     ]
    },
    {
     "data": {
      "image/jpeg": "[encoded data removed]",
      "text/plain": [
       "<IPython.core.display.Image object>"
      ]
     },
     "metadata": {},
     "output_type": "display_data"
    },
    {
     "name": "stdout",
     "output_type": "stream",
     "text": [
      "Score(Confidence): 0.5198826193809509\n",
      "Image name: projects/pod-fr-retail/locations/europe-west1/products/17475746/referenceImages/1000010365-17475746-0\n",
      "Product name: projects/pod-fr-retail/locations/europe-west1/products/17475746\n",
      "Product display name: 17475746\n",
      "Product description: \n",
      "\n",
      "Product labels: [key: \"cl1\"\n",
      "value: \"chaussures-accessoires\"\n",
      ", key: \"cl2\"\n",
      "value: \"chaussuresdeville\"\n",
      ", key: \"cl3\"\n",
      "value: \"bateaux\"\n",
      "]\n",
      "\n",
      "-----Result  2  ------\n"
     ]
    },
    {
     "data": {
      "image/jpeg": "[encoded data removed]",
      "text/plain": [
       "<IPython.core.display.Image object>"
      ]
     },
     "metadata": {},
     "output_type": "display_data"
    },
    {
     "name": "stdout",
     "output_type": "stream",
     "text": [
      "Score(Confidence): 0.5014159083366394\n",
      "Image name: projects/pod-fr-retail/locations/europe-west1/products/22622211/referenceImages/1000010365-22622211-1\n",
      "Product name: projects/pod-fr-retail/locations/europe-west1/products/22622211\n",
      "Product display name: 22622211\n",
      "Product description: \n",
      "\n",
      "Product labels: [key: \"cl1\"\n",
      "value: \"chaussures-accessoires\"\n",
      ", key: \"cl2\"\n",
      "value: \"chaussuresdeville\"\n",
      ", key: \"cl3\"\n",
      "value: \"bateaux\"\n",
      "]\n",
      "\n",
      "-----Result  3  ------\n"
     ]
    },
    {
     "data": {
      "image/jpeg": "[encoded data removed]",
      "text/plain": [
       "<IPython.core.display.Image object>"
      ]
     },
     "metadata": {},
     "output_type": "display_data"
    },
    {
     "name": "stdout",
     "output_type": "stream",
     "text": [
      "Score(Confidence): 0.4988987445831299\n",
      "Image name: projects/pod-fr-retail/locations/europe-west1/products/18840186/referenceImages/1000010383-18840186-1\n",
      "Product name: projects/pod-fr-retail/locations/europe-west1/products/18840186\n",
      "Product display name: 18840186\n",
      "Product description: \n",
      "\n",
      "Product labels: [key: \"cl1\"\n",
      "value: \"chaussures-accessoires\"\n",
      ", key: \"cl2\"\n",
      "value: \"chaussuresdeville\"\n",
      ", key: \"cl3\"\n",
      "value: \"mocassin\"\n",
      "]\n",
      "\n",
      "-----Result  4  ------\n"
     ]
    },
    {
     "data": {
      "image/jpeg": "[encoded data removed]",
      "text/plain": [
       "<IPython.core.display.Image object>"
      ]
     },
     "metadata": {},
     "output_type": "display_data"
    },
    {
     "name": "stdout",
     "output_type": "stream",
     "text": [
      "Score(Confidence): 0.4983467757701874\n",
      "Image name: projects/pod-fr-retail/locations/europe-west1/products/15867914/referenceImages/1000010365-15867914-0\n",
      "Product name: projects/pod-fr-retail/locations/europe-west1/products/15867914\n",
      "Product display name: 15867914\n",
      "Product description: \n",
      "\n",
      "Product labels: [key: \"cl1\"\n",
      "value: \"chaussures-accessoires\"\n",
      ", key: \"cl2\"\n",
      "value: \"chaussuresdeville\"\n",
      ", key: \"cl3\"\n",
      "value: \"bateaux\"\n",
      "]\n",
      "\n"
     ]
    }
   ],
   "source": [
    "get_similar_products_file(\n",
    "        project_id,\n",
    "        location,\n",
    "        product_set,\n",
    "        product_category,\n",
    "        file_path,\n",
    "        filter=\"\",\n",
    "        max_results=5\n",
    ")"
   ]
  },
  {
   "cell_type": "code",
   "execution_count": null,
   "metadata": {},
   "outputs": [],
   "source": []
  }
 ],
 "metadata": {
  "environment": {
   "name": "common-cpu.m65",
   "type": "gcloud",
   "uri": "gcr.io/deeplearning-platform-release/base-cpu:m65"
  },
  "kernelspec": {
   "display_name": "Python [conda env:root] *",
   "language": "python",
   "name": "conda-root-py"
  },
  "language_info": {
   "codemirror_mode": {
    "name": "ipython",
    "version": 3
   },
   "file_extension": ".py",
   "mimetype": "text/x-python",
   "name": "python",
   "nbconvert_exporter": "python",
   "pygments_lexer": "ipython3",
   "version": "3.7.10"
  }
 },
 "nbformat": 4,
 "nbformat_minor": 4
}
