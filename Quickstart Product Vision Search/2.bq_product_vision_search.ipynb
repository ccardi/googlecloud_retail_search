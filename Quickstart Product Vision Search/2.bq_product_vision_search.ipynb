{
 "cells": [
  {
   "cell_type": "markdown",
   "metadata": {},
   "source": [
    "# **Product Vision Search:** Build a Product recognition engine in one hour\n",
    "This example is using a Kaggle dataset for product recognition. The goal is to extract a csv for bulk import in Product Vision Search  \n",
    "**Useful links:**  \n",
    "https://github.com/zinjiggle/google-product-search-simple-ui  \n",
    "https://github.com/GoogleCloudPlatform/python-docs-samples/tree/master/vision/cloud-client/product_search"
   ]
  },
  {
   "cell_type": "markdown",
   "metadata": {},
   "source": [
    "## 0. Install Google Cloud Vision library"
   ]
  },
  {
   "cell_type": "code",
   "execution_count": null,
   "metadata": {},
   "outputs": [],
   "source": [
    "#pip install google-cloud-vision"
   ]
  },
  {
   "cell_type": "markdown",
   "metadata": {},
   "source": [
    "Init with your own project"
   ]
  },
  {
   "cell_type": "code",
   "execution_count": 1,
   "metadata": {},
   "outputs": [],
   "source": [
    "project_id='pod-fr-retail'\n",
    "location='europe-west1'\n",
    "product_set='kaggle_shoes'\n",
    "bucket_name=\"pod-fr-retail-kaggle\"\n",
    "gcs_bucket=\"gs://\"+bucket_name+\"/\""
   ]
  },
  {
   "cell_type": "code",
   "execution_count": 2,
   "metadata": {},
   "outputs": [],
   "source": [
    "from google.cloud import vision_v1"
   ]
  },
  {
   "cell_type": "markdown",
   "metadata": {},
   "source": [
    "## 1. Check index time of product sets "
   ]
  },
  {
   "cell_type": "code",
   "execution_count": 3,
   "metadata": {},
   "outputs": [
    {
     "name": "stdout",
     "output_type": "stream",
     "text": [
      "Index name: projects/pod-fr-retail/locations/europe-west1/productSets/kaggle_shoes\n",
      "Last index: 2022-10-18 05:51:51\n",
      "------\n",
      "Index name: projects/pod-fr-retail/locations/europe-west1/productSets/pvs_shoes\n",
      "Last index: 2022-10-18 05:51:51\n",
      "------\n"
     ]
    }
   ],
   "source": [
    "import time\n",
    "from google.cloud import vision_v1\n",
    "client = vision_v1.ProductSearchClient()\n",
    "parent = client.location_path(project_id, location)\n",
    "name = client.product_set_path(project_id, location, product_set)\n",
    "for element in client.list_product_sets(parent):\n",
    "    #print(element)\n",
    "    print('Index name:', element.name)\n",
    "    print('Last index:',time.strftime('%Y-%m-%d %H:%M:%S', time.localtime(element.index_time.seconds)))\n",
    "    print('------')\n",
    "    pass\n"
   ]
  },
  {
   "cell_type": "markdown",
   "metadata": {},
   "source": [
    "## 2. Search a product in your catalog"
   ]
  },
  {
   "cell_type": "code",
   "execution_count": 47,
   "metadata": {},
   "outputs": [],
   "source": [
    "from google.cloud import vision\n",
    "from google.cloud import storage\n",
    "from IPython.display import Image, display\n",
    "import pandas as pd\n",
    "\n",
    "def get_image(uri):\n",
    "    client_storage = storage.Client() # Implicit environment set up\n",
    "    bucket = uri.split(\"/\")[2]\n",
    "    object_name = \"/\".join(uri.split(\"/\")[3:])\n",
    "    # with explicit set up:\n",
    "    # client = storage.Client.from_service_account_json('key-file-location')\n",
    "    bucket = client_storage.get_bucket(bucket)\n",
    "    blob = bucket.get_blob(object_name)\n",
    "    return(Image(blob.download_as_bytes()))\n",
    "    \n",
    "def get_similar_products_file(\n",
    "        project_id,\n",
    "        location,\n",
    "        product_set_id,\n",
    "        product_category,\n",
    "        file_path,\n",
    "        filter,\n",
    "        max_results\n",
    "):\n",
    "    \"\"\"Search similar products to image.\n",
    "    Args:\n",
    "        project_id: Id of the project.\n",
    "        location: A compute region name.\n",
    "        product_set_id: Id of the product set.\n",
    "        product_category: Category of the product.\n",
    "        file_path: Local file path of the image to be searched.\n",
    "        filter: Condition to be applied on the labels.\n",
    "                Example for filter: (color = red OR color = blue) AND style = kids\n",
    "                It will search on all products with the following labels:\n",
    "                color:red AND style:kids\n",
    "                color:blue AND style:kids\n",
    "        max_results: The maximum number of results (matches) to return. If omitted, all results are returned.\n",
    "    \"\"\"\n",
    "    # product_search_client is needed only for its helper methods.\n",
    "    \n",
    "    image_annotator_client = vision.ImageAnnotatorClient()\n",
    "\n",
    "    # Read the image as a stream of bytes.\n",
    "    with open(file_path, 'rb') as image_file:\n",
    "        content = image_file.read()\n",
    "\n",
    "    # Create annotate image request along with product search feature.\n",
    "    image = vision.types.image_annotator_pb2.Image(content=content)\n",
    "    product_search_client = vision.ProductSearchClient()\n",
    "    # product search specific parameters\n",
    "    product_set_path = product_search_client.product_set_path(\n",
    "        project=project_id, location=location,\n",
    "        product_set=product_set_id)\n",
    "    product_search_params = vision.types.ProductSearchParams(\n",
    "        product_set=product_set_path,\n",
    "        product_categories=[product_category],\n",
    "        filter=filter)\n",
    "    image_context = vision.types.ImageContext(\n",
    "        product_search_params=product_search_params)\n",
    "\n",
    "    # Search products similar to the image.\n",
    "    response = image_annotator_client.product_search(\n",
    "        image,\n",
    "        image_context=image_context,\n",
    "        max_results=max_results\n",
    "    )\n",
    "    \n",
    "    index_time = response.product_search_results.index_time\n",
    "    print('Last Product index:',time.strftime('%Y-%m-%d %H:%M:%S', time.localtime(index_time.seconds)))\n",
    "\n",
    "    results = response.product_search_results.results\n",
    "    return results\n",
    "\n",
    "def display_results(results):\n",
    "    print('Search results for : \\n')\n",
    "    display(Image(file_path))\n",
    "    i=0\n",
    "    print('\\n')\n",
    "    for result in results:\n",
    "        print('-----Result ', i, ' ------')\n",
    "        product_search_client = vision.ProductSearchClient()\n",
    "        image = product_search_client.get_reference_image(name=result.image)\n",
    "        display(get_image(image.uri))\n",
    "        product = result.product\n",
    "        print('Score(Confidence): {}'.format(result.score))\n",
    "        print('Image name: {}'.format(result.image))\n",
    "        print('Product name: {}'.format(product.name))\n",
    "        print('Product display name: {}'.format(\n",
    "            product.display_name))\n",
    "        print('Product description: {}\\n'.format(product.description))\n",
    "        print('Product labels: \\n')\n",
    "        df=[]\n",
    "        for p in product.product_labels:\n",
    "            df.append([p.key, p.value])\n",
    "        print(pd.DataFrame(df, columns=[\"Key\", \"Value\"]))\n",
    "        i=i+1\n",
    "        print('\\n')\n",
    "\n",
    "def analyse_results(results):\n",
    "    df=[]\n",
    "    print('Search results for : \\n')\n",
    "    display(Image(file_path))\n",
    "    i=0\n",
    "    print('\\n')\n",
    "    for result in results:\n",
    "        if result.score>0.1:\n",
    "            for p in result.product.product_labels:\n",
    "                df.append([p.key, p.value])\n",
    "    data=pd.DataFrame(df, columns=[\"Key\", \"Value\"])\n",
    "    cnt_per_key =  data.groupby([\"Key\", \"Value\"])[\"Value\"].count().reset_index(name=\"count\")\n",
    "    cnt_per_key['ranking'] = cnt_per_key.groupby([\"Key\"])['count'].rank(method='first', ascending=False)\n",
    "    #print(cnt_per_key)\n",
    "    print(cnt_per_key[cnt_per_key.ranking==1])\n",
    " "
   ]
  },
  {
   "cell_type": "code",
   "execution_count": 50,
   "metadata": {},
   "outputs": [],
   "source": [
    "product_category=\"apparel-v2\"\n",
    "file_path=\"sebago.jpeg\"\n"
   ]
  },
  {
   "cell_type": "code",
   "execution_count": 51,
   "metadata": {},
   "outputs": [
    {
     "name": "stdout",
     "output_type": "stream",
     "text": [
      "Last Product index: 2022-10-18 17:19:33\n",
      "Search results for : \n",
      "\n"
     ]
    },
    {
     "data": {
      "image/jpeg": "[encoded data removed]",
      "text/plain": [
       "<IPython.core.display.Image object>"
      ]
     },
     "metadata": {},
     "output_type": "display_data"
    },
    {
     "name": "stdout",
     "output_type": "stream",
     "text": [
      "\n",
      "\n",
      "   Key                   Value  count  ranking\n",
      "0  cl1  chaussures-accessoires    298      1.0\n",
      "5  cl2       chaussuresdeville    274      1.0\n",
      "8  cl3                 bateaux    159      1.0\n"
     ]
    }
   ],
   "source": [
    "results=get_similar_products_file(\n",
    "        project_id,\n",
    "        location,\n",
    "        product_set,\n",
    "        product_category,\n",
    "        file_path,\n",
    "        filter=\"\",\n",
    "        max_results=300\n",
    ")\n",
    "analyse_results(results)"
   ]
  },
  {
   "cell_type": "code",
   "execution_count": 52,
   "metadata": {},
   "outputs": [
    {
     "name": "stdout",
     "output_type": "stream",
     "text": [
      "Last Product index: 2022-10-18 17:19:33\n",
      "Search results for : \n",
      "\n"
     ]
    },
    {
     "data": {
      "image/jpeg": "[encoded data removed]",
      "text/plain": [
       "<IPython.core.display.Image object>"
      ]
     },
     "metadata": {},
     "output_type": "display_data"
    },
    {
     "name": "stdout",
     "output_type": "stream",
     "text": [
      "\n",
      "\n",
      "-----Result  0  ------\n"
     ]
    },
    {
     "data": {
      "image/jpeg": "[encoded data removed]",
      "text/plain": [
       "<IPython.core.display.Image object>"
      ]
     },
     "metadata": {},
     "output_type": "display_data"
    },
    {
     "name": "stdout",
     "output_type": "stream",
     "text": [
      "Score(Confidence): 0.5198826193809509\n",
      "Image name: projects/pod-fr-retail/locations/europe-west1/products/17475746/referenceImages/1000010365-17475746-0\n",
      "Product name: projects/pod-fr-retail/locations/europe-west1/products/17475746\n",
      "Product display name: 17475746\n",
      "Product description: \n",
      "\n",
      "Product labels: \n",
      "\n",
      "   Key                   Value\n",
      "0  cl1  chaussures-accessoires\n",
      "1  cl2       chaussuresdeville\n",
      "2  cl3                 bateaux\n",
      "\n",
      "\n",
      "-----Result  1  ------\n"
     ]
    },
    {
     "data": {
      "image/jpeg": "[encoded data removed]",
      "text/plain": [
       "<IPython.core.display.Image object>"
      ]
     },
     "metadata": {},
     "output_type": "display_data"
    },
    {
     "name": "stdout",
     "output_type": "stream",
     "text": [
      "Score(Confidence): 0.5014159083366394\n",
      "Image name: projects/pod-fr-retail/locations/europe-west1/products/22622211/referenceImages/1000010365-22622211-1\n",
      "Product name: projects/pod-fr-retail/locations/europe-west1/products/22622211\n",
      "Product display name: 22622211\n",
      "Product description: \n",
      "\n",
      "Product labels: \n",
      "\n",
      "   Key                   Value\n",
      "0  cl1  chaussures-accessoires\n",
      "1  cl2       chaussuresdeville\n",
      "2  cl3                 bateaux\n",
      "\n",
      "\n",
      "-----Result  2  ------\n"
     ]
    },
    {
     "data": {
      "image/jpeg": "[encoded data removed]",
      "text/plain": [
       "<IPython.core.display.Image object>"
      ]
     },
     "metadata": {},
     "output_type": "display_data"
    },
    {
     "name": "stdout",
     "output_type": "stream",
     "text": [
      "Score(Confidence): 0.48913875222206116\n",
      "Image name: projects/pod-fr-retail/locations/europe-west1/products/8360820/referenceImages/1000010365-8360820-3\n",
      "Product name: projects/pod-fr-retail/locations/europe-west1/products/8360820\n",
      "Product display name: 8360820\n",
      "Product description: \n",
      "\n",
      "Product labels: \n",
      "\n",
      "   Key                   Value\n",
      "0  cl1  chaussures-accessoires\n",
      "1  cl2       chaussuresdeville\n",
      "2  cl3                 bateaux\n",
      "\n",
      "\n",
      "-----Result  3  ------\n"
     ]
    },
    {
     "data": {
      "image/jpeg": "[encoded data removed]",
      "text/plain": [
       "<IPython.core.display.Image object>"
      ]
     },
     "metadata": {},
     "output_type": "display_data"
    },
    {
     "name": "stdout",
     "output_type": "stream",
     "text": [
      "Score(Confidence): 0.48913875222206116\n",
      "Image name: projects/pod-fr-retail/locations/europe-west1/products/11867219/referenceImages/1000010365-11867219-3\n",
      "Product name: projects/pod-fr-retail/locations/europe-west1/products/11867219\n",
      "Product display name: 11867219\n",
      "Product description: \n",
      "\n",
      "Product labels: \n",
      "\n",
      "   Key                   Value\n",
      "0  cl1  chaussures-accessoires\n",
      "1  cl2       chaussuresdeville\n",
      "2  cl3                 bateaux\n",
      "\n",
      "\n",
      "-----Result  4  ------\n"
     ]
    },
    {
     "data": {
      "image/jpeg": "[encoded data removed]",
      "text/plain": [
       "<IPython.core.display.Image object>"
      ]
     },
     "metadata": {},
     "output_type": "display_data"
    },
    {
     "name": "stdout",
     "output_type": "stream",
     "text": [
      "Score(Confidence): 0.48422303795814514\n",
      "Image name: projects/pod-fr-retail/locations/europe-west1/products/18840186/referenceImages/1000010383-18840186-3\n",
      "Product name: projects/pod-fr-retail/locations/europe-west1/products/18840186\n",
      "Product display name: 18840186\n",
      "Product description: \n",
      "\n",
      "Product labels: \n",
      "\n",
      "   Key                   Value\n",
      "0  cl1  chaussures-accessoires\n",
      "1  cl2       chaussuresdeville\n",
      "2  cl3                mocassin\n",
      "\n",
      "\n",
      "-----Result  5  ------\n"
     ]
    },
    {
     "data": {
      "image/jpeg": "[encoded data removed]",
      "text/plain": [
       "<IPython.core.display.Image object>"
      ]
     },
     "metadata": {},
     "output_type": "display_data"
    },
    {
     "name": "stdout",
     "output_type": "stream",
     "text": [
      "Score(Confidence): 0.47964051365852356\n",
      "Image name: projects/pod-fr-retail/locations/europe-west1/products/15260528/referenceImages/1000010365-15260528-0\n",
      "Product name: projects/pod-fr-retail/locations/europe-west1/products/15260528\n",
      "Product display name: 15260528\n",
      "Product description: \n",
      "\n",
      "Product labels: \n",
      "\n",
      "   Key                   Value\n",
      "0  cl1  chaussures-accessoires\n",
      "1  cl2       chaussuresdeville\n",
      "2  cl3                 bateaux\n",
      "\n",
      "\n",
      "-----Result  6  ------\n"
     ]
    },
    {
     "data": {
      "image/jpeg": "[encoded data removed]",
      "text/plain": [
       "<IPython.core.display.Image object>"
      ]
     },
     "metadata": {},
     "output_type": "display_data"
    },
    {
     "name": "stdout",
     "output_type": "stream",
     "text": [
      "Score(Confidence): 0.4699595868587494\n",
      "Image name: projects/pod-fr-retail/locations/europe-west1/products/7532744/referenceImages/1000010365-7532744-1\n",
      "Product name: projects/pod-fr-retail/locations/europe-west1/products/7532744\n",
      "Product display name: 7532744\n",
      "Product description: \n",
      "\n",
      "Product labels: \n",
      "\n",
      "   Key                   Value\n",
      "0  cl1  chaussures-accessoires\n",
      "1  cl2       chaussuresdeville\n",
      "2  cl3                 bateaux\n",
      "\n",
      "\n",
      "-----Result  7  ------\n"
     ]
    },
    {
     "data": {
      "image/jpeg": "[encoded data removed]",
      "text/plain": [
       "<IPython.core.display.Image object>"
      ]
     },
     "metadata": {},
     "output_type": "display_data"
    },
    {
     "name": "stdout",
     "output_type": "stream",
     "text": [
      "Score(Confidence): 0.4673921763896942\n",
      "Image name: projects/pod-fr-retail/locations/europe-west1/products/17144081/referenceImages/1000010365-17144081-2\n",
      "Product name: projects/pod-fr-retail/locations/europe-west1/products/17144081\n",
      "Product display name: 17144081\n",
      "Product description: \n",
      "\n",
      "Product labels: \n",
      "\n",
      "   Key                   Value\n",
      "0  cl1  chaussures-accessoires\n",
      "1  cl2       chaussuresdeville\n",
      "2  cl3                 bateaux\n",
      "\n",
      "\n",
      "-----Result  8  ------\n"
     ]
    },
    {
     "data": {
      "image/jpeg": "[encoded data removed]",
      "text/plain": [
       "<IPython.core.display.Image object>"
      ]
     },
     "metadata": {},
     "output_type": "display_data"
    },
    {
     "name": "stdout",
     "output_type": "stream",
     "text": [
      "Score(Confidence): 0.46594005823135376\n",
      "Image name: projects/pod-fr-retail/locations/europe-west1/products/1128455/referenceImages/1000010365-1128455-0\n",
      "Product name: projects/pod-fr-retail/locations/europe-west1/products/1128455\n",
      "Product display name: 1128455\n",
      "Product description: \n",
      "\n",
      "Product labels: \n",
      "\n",
      "   Key                   Value\n",
      "0  cl1  chaussures-accessoires\n",
      "1  cl2       chaussuresdeville\n",
      "2  cl3                 bateaux\n",
      "\n",
      "\n",
      "-----Result  9  ------\n"
     ]
    },
    {
     "data": {
      "image/jpeg": "[encoded data removed]",
      "text/plain": [
       "<IPython.core.display.Image object>"
      ]
     },
     "metadata": {},
     "output_type": "display_data"
    },
    {
     "name": "stdout",
     "output_type": "stream",
     "text": [
      "Score(Confidence): 0.46515655517578125\n",
      "Image name: projects/pod-fr-retail/locations/europe-west1/products/63451/referenceImages/1000010365-63451-0\n",
      "Product name: projects/pod-fr-retail/locations/europe-west1/products/63451\n",
      "Product display name: 63451\n",
      "Product description: \n",
      "\n",
      "Product labels: \n",
      "\n",
      "   Key                   Value\n",
      "0  cl1  chaussures-accessoires\n",
      "1  cl2       chaussuresdeville\n",
      "2  cl3                 bateaux\n",
      "\n",
      "\n"
     ]
    }
   ],
   "source": [
    "results=get_similar_products_file(\n",
    "        project_id,\n",
    "        location,\n",
    "        product_set,\n",
    "        product_category,\n",
    "        file_path,\n",
    "        filter=\"\",\n",
    "        max_results=10\n",
    ")\n",
    "display_results(results)"
   ]
  },
  {
   "cell_type": "code",
   "execution_count": 17,
   "metadata": {},
   "outputs": [
    {
     "name": "stdout",
     "output_type": "stream",
     "text": [
      "Last Product index: 2022-10-18 05:51:51\n",
      "Search results for : balerine.jpg  \n",
      "\n",
      "    Key                   Value  count  ranking\n",
      "0   cl1  chaussures-accessoires    299      1.0\n",
      "1   cl2       basket-sportswear      3      4.0\n",
      "2   cl2         bottes-bottines     22      2.0\n",
      "3   cl2       chaussuresdetente      7      3.0\n",
      "4   cl2       chaussuresdeville    267      1.0\n",
      "5   cl3               ballerine    212      1.0\n",
      "6   cl3                  basket      3      8.0\n",
      "7   cl3                 bateaux      1     12.0\n",
      "8   cl3                   botte     20      3.0\n",
      "9   cl3           bottine-boots      2      9.0\n",
      "10  cl3      chausson-pantoufle      5      6.0\n",
      "11  cl3                   derby      4      7.0\n",
      "12  cl3                escarpin     21      2.0\n",
      "13  cl3              espadrille      2     10.0\n",
      "14  cl3                mocassin     16      4.0\n",
      "15  cl3                   sabot      2     11.0\n",
      "16  cl3        sandale-nu-pieds     11      5.0\n",
      "   Key                   Value  count  ranking\n",
      "0  cl1  chaussures-accessoires    299      1.0\n",
      "4  cl2       chaussuresdeville    267      1.0\n",
      "5  cl3               ballerine    212      1.0\n"
     ]
    }
   ],
   "source": [
    "results=get_similar_products_file(\n",
    "        project_id,\n",
    "        location,\n",
    "        product_set,\n",
    "        product_category,\n",
    "        file_path,\n",
    "        filter=\"\",\n",
    "        max_results=300\n",
    ")\n",
    "df=[]\n",
    "print('Search results for :',file_path,' \\n')\n",
    "for result in results:\n",
    "    for p in result.product.product_labels:\n",
    "        df.append([p.key, p.value])\n",
    "data=pd.DataFrame(df, columns=[\"Key\", \"Value\"])\n",
    "cnt_per_key =  data.groupby([\"Key\", \"Value\"])[\"Value\"].count().reset_index(name=\"count\")\n",
    "cnt_per_key['ranking'] = cnt_per_key.groupby([\"Key\"])['count'].rank(method='first', ascending=False)\n",
    "print(cnt_per_key)\n",
    "print(cnt_per_key[cnt_per_key.ranking==1])"
   ]
  },
  {
   "cell_type": "code",
   "execution_count": null,
   "metadata": {},
   "outputs": [],
   "source": []
  },
  {
   "cell_type": "code",
   "execution_count": null,
   "metadata": {},
   "outputs": [],
   "source": []
  }
 ],
 "metadata": {
  "environment": {
   "name": "common-cpu.m65",
   "type": "gcloud",
   "uri": "gcr.io/deeplearning-platform-release/base-cpu:m65"
  },
  "kernelspec": {
   "display_name": "Python [conda env:root] *",
   "language": "python",
   "name": "conda-root-py"
  },
  "language_info": {
   "codemirror_mode": {
    "name": "ipython",
    "version": 3
   },
   "file_extension": ".py",
   "mimetype": "text/x-python",
   "name": "python",
   "nbconvert_exporter": "python",
   "pygments_lexer": "ipython3",
   "version": "3.7.10"
  }
 },
 "nbformat": 4,
 "nbformat_minor": 4
}
