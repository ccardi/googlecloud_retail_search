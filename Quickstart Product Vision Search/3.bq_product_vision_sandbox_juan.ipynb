{
 "cells": [
  {
   "cell_type": "markdown",
   "id": "7c52760f",
   "metadata": {},
   "source": [
    "# **Google Vision Product Search:** \n",
    "## Build a Product catalog recognition engine in one hour\n",
    "\n",
    "Vision API Product Search allows retailers to create products, each containing reference images that visually describe the product from a set of viewpoints. Retailers can then add these products to product sets. Currently Vision API Product Search supports the following product categories: homegoods, apparel, toys, packaged goods, and general .\n",
    "\n",
    "When users query the product set with their own images, Vision API Product Search applies machine learning to compare the product in the user's query image with the images in the retailer's product set, and then returns a ranked list of visually and semantically similar results.\n",
    "\n",
    "After loading your catalog into Vision Product Search, you'll be able to search for similar products in your catalog by providing a image\n",
    "\n",
    "> This notebook is using a Kaggle dataset for product recognition. The goal is to extract a csv for bulk import in Product Vision Search  \n",
    "\n",
    "**Useful links:**  \n",
    "https://github.com/zinjiggle/google-product-search-simple-ui  \n",
    "https://github.com/GoogleCloudPlatform/python-docs-samples/tree/master/vision/cloud-client/product_search\n",
    "https://github.com/googleapis/python-vision/tree/main/samples"
   ]
  },
  {
   "cell_type": "markdown",
   "id": "17ff4f44",
   "metadata": {},
   "source": [
    "## 0. Install vision library"
   ]
  },
  {
   "cell_type": "code",
   "execution_count": 2,
   "id": "244e05e0",
   "metadata": {},
   "outputs": [
    {
     "name": "stdout",
     "output_type": "stream",
     "text": [
      "Requirement already satisfied: google-cloud-vision in /opt/conda/lib/python3.7/site-packages (1.0.0)\n",
      "Requirement already satisfied: google-api-core[grpc]<2.0.0dev,>=1.14.0 in /home/jupyter/.local/lib/python3.7/site-packages (from google-cloud-vision) (1.33.1)\n",
      "Requirement already satisfied: googleapis-common-protos<2.0dev,>=1.56.2 in /home/jupyter/.local/lib/python3.7/site-packages (from google-api-core[grpc]<2.0.0dev,>=1.14.0->google-cloud-vision) (1.56.4)\n",
      "Requirement already satisfied: protobuf<4.0.0dev,>=3.20.1 in /home/jupyter/.local/lib/python3.7/site-packages (from google-api-core[grpc]<2.0.0dev,>=1.14.0->google-cloud-vision) (3.20.2)\n",
      "Requirement already satisfied: requests<3.0.0dev,>=2.18.0 in /opt/conda/lib/python3.7/site-packages (from google-api-core[grpc]<2.0.0dev,>=1.14.0->google-cloud-vision) (2.25.1)\n",
      "Requirement already satisfied: google-auth<3.0dev,>=1.25.0 in /home/jupyter/.local/lib/python3.7/site-packages (from google-api-core[grpc]<2.0.0dev,>=1.14.0->google-cloud-vision) (1.35.0)\n",
      "Requirement already satisfied: grpcio<2.0dev,>=1.33.2 in /opt/conda/lib/python3.7/site-packages (from google-api-core[grpc]<2.0.0dev,>=1.14.0->google-cloud-vision) (1.43.0)\n",
      "Requirement already satisfied: grpcio-status<2.0dev,>=1.33.2 in /opt/conda/lib/python3.7/site-packages (from google-api-core[grpc]<2.0.0dev,>=1.14.0->google-cloud-vision) (1.43.0)\n",
      "Requirement already satisfied: setuptools>=40.3.0 in /opt/conda/lib/python3.7/site-packages (from google-auth<3.0dev,>=1.25.0->google-api-core[grpc]<2.0.0dev,>=1.14.0->google-cloud-vision) (49.6.0.post20210108)\n",
      "Requirement already satisfied: rsa<5,>=3.1.4 in /opt/conda/lib/python3.7/site-packages (from google-auth<3.0dev,>=1.25.0->google-api-core[grpc]<2.0.0dev,>=1.14.0->google-cloud-vision) (4.7.2)\n",
      "Requirement already satisfied: cachetools<5.0,>=2.0.0 in /opt/conda/lib/python3.7/site-packages (from google-auth<3.0dev,>=1.25.0->google-api-core[grpc]<2.0.0dev,>=1.14.0->google-cloud-vision) (4.2.1)\n",
      "Requirement already satisfied: six>=1.9.0 in /opt/conda/lib/python3.7/site-packages (from google-auth<3.0dev,>=1.25.0->google-api-core[grpc]<2.0.0dev,>=1.14.0->google-cloud-vision) (1.15.0)\n",
      "Requirement already satisfied: pyasn1-modules>=0.2.1 in /opt/conda/lib/python3.7/site-packages (from google-auth<3.0dev,>=1.25.0->google-api-core[grpc]<2.0.0dev,>=1.14.0->google-cloud-vision) (0.2.8)\n",
      "Requirement already satisfied: pyasn1<0.5.0,>=0.4.6 in /opt/conda/lib/python3.7/site-packages (from pyasn1-modules>=0.2.1->google-auth<3.0dev,>=1.25.0->google-api-core[grpc]<2.0.0dev,>=1.14.0->google-cloud-vision) (0.4.8)\n",
      "Requirement already satisfied: chardet<5,>=3.0.2 in /opt/conda/lib/python3.7/site-packages (from requests<3.0.0dev,>=2.18.0->google-api-core[grpc]<2.0.0dev,>=1.14.0->google-cloud-vision) (4.0.0)\n",
      "Requirement already satisfied: urllib3<1.27,>=1.21.1 in /opt/conda/lib/python3.7/site-packages (from requests<3.0.0dev,>=2.18.0->google-api-core[grpc]<2.0.0dev,>=1.14.0->google-cloud-vision) (1.26.4)\n",
      "Requirement already satisfied: certifi>=2017.4.17 in /opt/conda/lib/python3.7/site-packages (from requests<3.0.0dev,>=2.18.0->google-api-core[grpc]<2.0.0dev,>=1.14.0->google-cloud-vision) (2020.12.5)\n",
      "Requirement already satisfied: idna<3,>=2.5 in /opt/conda/lib/python3.7/site-packages (from requests<3.0.0dev,>=2.18.0->google-api-core[grpc]<2.0.0dev,>=1.14.0->google-cloud-vision) (2.10)\n",
      "Note: you may need to restart the kernel to use updated packages.\n"
     ]
    }
   ],
   "source": [
    "pip install google-cloud-vision"
   ]
  },
  {
   "cell_type": "code",
   "execution_count": 3,
   "id": "97310815",
   "metadata": {},
   "outputs": [
    {
     "name": "stdout",
     "output_type": "stream",
     "text": [
      "Requirement already satisfied: google-cloud-storage in /opt/conda/lib/python3.7/site-packages (1.37.1)\n",
      "Collecting google-cloud-storage\n",
      "  Using cached google_cloud_storage-2.5.0-py2.py3-none-any.whl (106 kB)\n",
      "Requirement already satisfied: google-resumable-media>=2.3.2 in /opt/conda/lib/python3.7/site-packages (from google-cloud-storage) (2.4.0)\n",
      "Requirement already satisfied: requests<3.0.0dev,>=2.18.0 in /opt/conda/lib/python3.7/site-packages (from google-cloud-storage) (2.25.1)\n",
      "Requirement already satisfied: google-api-core!=2.0.*,!=2.1.*,!=2.2.*,!=2.3.0,<3.0.0dev,>=1.31.5 in /home/jupyter/.local/lib/python3.7/site-packages (from google-cloud-storage) (1.33.1)\n",
      "Collecting google-cloud-core<3.0dev,>=2.3.0\n",
      "  Using cached google_cloud_core-2.3.2-py2.py3-none-any.whl (29 kB)\n",
      "Requirement already satisfied: google-auth<3.0dev,>=1.25.0 in /home/jupyter/.local/lib/python3.7/site-packages (from google-cloud-storage) (1.35.0)\n",
      "Requirement already satisfied: protobuf<4.0.0dev,>=3.20.1 in /home/jupyter/.local/lib/python3.7/site-packages (from google-api-core!=2.0.*,!=2.1.*,!=2.2.*,!=2.3.0,<3.0.0dev,>=1.31.5->google-cloud-storage) (3.20.2)\n",
      "Requirement already satisfied: googleapis-common-protos<2.0dev,>=1.56.2 in /home/jupyter/.local/lib/python3.7/site-packages (from google-api-core!=2.0.*,!=2.1.*,!=2.2.*,!=2.3.0,<3.0.0dev,>=1.31.5->google-cloud-storage) (1.56.4)\n",
      "Requirement already satisfied: pyasn1-modules>=0.2.1 in /opt/conda/lib/python3.7/site-packages (from google-auth<3.0dev,>=1.25.0->google-cloud-storage) (0.2.8)\n",
      "Requirement already satisfied: rsa<5,>=3.1.4 in /opt/conda/lib/python3.7/site-packages (from google-auth<3.0dev,>=1.25.0->google-cloud-storage) (4.7.2)\n",
      "Requirement already satisfied: cachetools<5.0,>=2.0.0 in /opt/conda/lib/python3.7/site-packages (from google-auth<3.0dev,>=1.25.0->google-cloud-storage) (4.2.1)\n",
      "Requirement already satisfied: six>=1.9.0 in /opt/conda/lib/python3.7/site-packages (from google-auth<3.0dev,>=1.25.0->google-cloud-storage) (1.15.0)\n",
      "Requirement already satisfied: setuptools>=40.3.0 in /opt/conda/lib/python3.7/site-packages (from google-auth<3.0dev,>=1.25.0->google-cloud-storage) (49.6.0.post20210108)\n",
      "Requirement already satisfied: google-crc32c<2.0dev,>=1.0 in /opt/conda/lib/python3.7/site-packages (from google-resumable-media>=2.3.2->google-cloud-storage) (1.1.2)\n",
      "Requirement already satisfied: cffi>=1.0.0 in /opt/conda/lib/python3.7/site-packages (from google-crc32c<2.0dev,>=1.0->google-resumable-media>=2.3.2->google-cloud-storage) (1.14.5)\n",
      "Requirement already satisfied: pycparser in /opt/conda/lib/python3.7/site-packages (from cffi>=1.0.0->google-crc32c<2.0dev,>=1.0->google-resumable-media>=2.3.2->google-cloud-storage) (2.20)\n",
      "Requirement already satisfied: pyasn1<0.5.0,>=0.4.6 in /opt/conda/lib/python3.7/site-packages (from pyasn1-modules>=0.2.1->google-auth<3.0dev,>=1.25.0->google-cloud-storage) (0.4.8)\n",
      "Requirement already satisfied: chardet<5,>=3.0.2 in /opt/conda/lib/python3.7/site-packages (from requests<3.0.0dev,>=2.18.0->google-cloud-storage) (4.0.0)\n",
      "Requirement already satisfied: certifi>=2017.4.17 in /opt/conda/lib/python3.7/site-packages (from requests<3.0.0dev,>=2.18.0->google-cloud-storage) (2020.12.5)\n",
      "Requirement already satisfied: urllib3<1.27,>=1.21.1 in /opt/conda/lib/python3.7/site-packages (from requests<3.0.0dev,>=2.18.0->google-cloud-storage) (1.26.4)\n",
      "Requirement already satisfied: idna<3,>=2.5 in /opt/conda/lib/python3.7/site-packages (from requests<3.0.0dev,>=2.18.0->google-cloud-storage) (2.10)\n",
      "Installing collected packages: google-cloud-core, google-cloud-storage\n",
      "  Attempting uninstall: google-cloud-core\n",
      "    Found existing installation: google-cloud-core 1.6.0\n",
      "    Uninstalling google-cloud-core-1.6.0:\n",
      "      Successfully uninstalled google-cloud-core-1.6.0\n",
      "  Attempting uninstall: google-cloud-storage\n",
      "    Found existing installation: google-cloud-storage 1.37.1\n",
      "    Uninstalling google-cloud-storage-1.37.1:\n",
      "      Successfully uninstalled google-cloud-storage-1.37.1\n",
      "\u001b[31mERROR: pip's dependency resolver does not currently take into account all the packages that are installed. This behaviour is the source of the following dependency conflicts.\n",
      "google-cloud-bigtable 1.7.0 requires google-cloud-core<2.0dev,>=1.4.1, but you have google-cloud-core 2.3.2 which is incompatible.\n",
      "-oogle-cloud-datastore 2.1.0 requires google-cloud-core<2.0dev,>=1.4.0, but you have google-cloud-core 2.3.2 which is incompatible.\n",
      "jupyterlab-bigquery 0.1.5 requires google-cloud-bigquery~=1.26.1, but you have google-cloud-bigquery 2.15.0 which is incompatible.\n",
      "google-cloud-translate 3.1.0 requires google-cloud-core<2.0dev,>=1.3.0, but you have google-cloud-core 2.3.2 which is incompatible.\n",
      "google-cloud-spanner 1.19.1 requires google-cloud-core<2.0dev,>=1.4.1, but you have google-cloud-core 2.3.2 which is incompatible.\n",
      "google-cloud-logging 2.3.1 requires google-cloud-core<2.0dev,>=1.4.1, but you have google-cloud-core 2.3.2 which is incompatible.\n",
      "google-cloud-firestore 2.1.0 requires google-cloud-core<2.0dev,>=1.4.1, but you have google-cloud-core 2.3.2 which is incompatible.\n",
      "google-cloud-datastore 1.15.3 requires google-cloud-core<2.0dev,>=1.4.0, but you have google-cloud-core 2.3.2 which is incompatible.\n",
      "google-cloud-bigquery 2.15.0 requires google-cloud-core<2.0dev,>=1.4.1, but you have google-cloud-core 2.3.2 which is incompatible.\n",
      "google-cloud-bigquery 2.15.0 requires google-resumable-media<2.0dev,>=0.6.0, but you have google-resumable-media 2.4.0 which is incompatible.\n",
      "earthengine-api 0.1.302 requires google-api-python-client<2,>=1.12.1, but you have google-api-python-client 2.52.0 which is incompatible.\u001b[0m\n",
      "Successfully installed google-cloud-core-2.3.2 google-cloud-storage-2.5.0\n",
      "Note: you may need to restart the kernel to use updated packages.\n"
     ]
    }
   ],
   "source": [
    "pip install --upgrade google-cloud-storage"
   ]
  },
  {
   "cell_type": "code",
   "execution_count": 1,
   "id": "0110a521",
   "metadata": {},
   "outputs": [],
   "source": [
    "project_id='pod-fr-retail'\n",
    "location='europe-west1'\n",
    "product_set='kaggle_shoes'\n",
    "bucket_name=\"pod-fr-retail-kaggle\"\n",
    "gcs_bucket=\"gs://\"+bucket_name+\"/\""
   ]
  },
  {
   "cell_type": "markdown",
   "id": "6a3881aa",
   "metadata": {},
   "source": [
    "## 1. Create a Products catalog with Bigquery\n",
    "The first step shows how to prepare a product catalog for **Vision Product Search** in BigQuery:\n",
    "* **image-uri**: The Google Cloud Storage URI of the reference image.\n",
    "* **image-id**: Optional. A unique value if you supply it. Otherwise, the system will assign a unique value.\n",
    "* **product-set-id**: A unique identifier for the product set to import the images into.\n",
    "* **product-id**: A user-defined ID for the product identified by the reference image. A product-id can be associated with multiple reference images. Note: A single product may also belong to several product sets. If a product-id already exists on bulk import then product-category, product-display, and labels are ignored for that line entry.\n",
    "* **product-category**: Allowed values are homegoods-v2, apparel-v2, toys-v2, packagedgoods-v1, and general-v1 *; the category for the product identified by the reference image. Inferred by the system if not specified in the create request. Allowed values are also listed in the productCategory reference documentation. Legacy productCategory codes: Legacy categories (homegoods, apparel, and toys) are still supported, but the updated -v2 categories should be used for new products.\n",
    "* **product-display-name**: Optional. If you don't provide a name for the product displayName will be set to \" \". You can update this value later.\n",
    "* **labels**: Optional. A string (with quotation marks) of key-value pairs that describe the products in the reference image. For example:\"color=black,style=formal\"\n",
    "* **bounding-poly**: Optional. Specifies the area of interest in the reference image. If a bounding box is not specified: Bounding boxes for the image are inferred by the Vision API; multiple regions in a single image may be indexed if multiple products are detected by the API. The line must end with a comma. See the example below for a product without a bounding poly specified.If you include a bounding box, the boundingPoly column should contain an even number of comma-separated numbers, with the format p1_x,p1_y,p2_x,p2_y,...,pn_x,pn_y. An example line looks like this: 0.1,0.1,0.9,0.1,0.9,0.9,0.1,0.9."
   ]
  },
  {
   "cell_type": "markdown",
   "id": "58834146",
   "metadata": {},
   "source": [
    "#### 1.1 Product Catalog exploration (Kaggle dataset) "
   ]
  },
  {
   "cell_type": "markdown",
   "id": "96cf9836",
   "metadata": {},
   "source": [
    "Let's start by exploring our data. We are using a product images catalog from a kaggle contest. Goal was to classify automatically product based on a image. The dataset contains 48 products main categories and around 12 millions images. For our notebook quickstart, we'll focus on Shoes category."
   ]
  },
  {
   "cell_type": "code",
   "execution_count": 2,
   "id": "6c5a2078",
   "metadata": {},
   "outputs": [
    {
     "name": "stderr",
     "output_type": "stream",
     "text": [
      "Query complete after 0.00s: 100%|██████████| 1/1 [00:00<00:00, 677.70query/s] \n",
      "Downloading: 100%|██████████| 10/10 [00:01<00:00,  6.93rows/s]\n"
     ]
    },
    {
     "data": {
      "text/html": [
       "<div>\n",
       "<style scoped>\n",
       "    .dataframe tbody tr th:only-of-type {\n",
       "        vertical-align: middle;\n",
       "    }\n",
       "\n",
       "    .dataframe tbody tr th {\n",
       "        vertical-align: top;\n",
       "    }\n",
       "\n",
       "    .dataframe thead th {\n",
       "        text-align: right;\n",
       "    }\n",
       "</style>\n",
       "<table border=\"1\" class=\"dataframe\">\n",
       "  <thead>\n",
       "    <tr style=\"text-align: right;\">\n",
       "      <th></th>\n",
       "      <th>category_level1</th>\n",
       "      <th>num_products</th>\n",
       "    </tr>\n",
       "  </thead>\n",
       "  <tbody>\n",
       "    <tr>\n",
       "      <th>0</th>\n",
       "      <td>TELEPHONIE - GPS</td>\n",
       "      <td>1227001</td>\n",
       "    </tr>\n",
       "    <tr>\n",
       "      <th>1</th>\n",
       "      <td>AUTO - MOTO</td>\n",
       "      <td>1193619</td>\n",
       "    </tr>\n",
       "    <tr>\n",
       "      <th>2</th>\n",
       "      <td>INFORMATIQUE</td>\n",
       "      <td>1124907</td>\n",
       "    </tr>\n",
       "    <tr>\n",
       "      <th>3</th>\n",
       "      <td>DECO - LINGE - LUMINAIRE</td>\n",
       "      <td>1111509</td>\n",
       "    </tr>\n",
       "    <tr>\n",
       "      <th>4</th>\n",
       "      <td>LIBRAIRIE</td>\n",
       "      <td>863965</td>\n",
       "    </tr>\n",
       "    <tr>\n",
       "      <th>5</th>\n",
       "      <td>BIJOUX -  LUNETTES - MONTRES</td>\n",
       "      <td>688243</td>\n",
       "    </tr>\n",
       "    <tr>\n",
       "      <th>6</th>\n",
       "      <td>BRICOLAGE - OUTILLAGE - QUINCAILLERIE</td>\n",
       "      <td>620366</td>\n",
       "    </tr>\n",
       "    <tr>\n",
       "      <th>7</th>\n",
       "      <td>JEUX - JOUETS</td>\n",
       "      <td>551408</td>\n",
       "    </tr>\n",
       "    <tr>\n",
       "      <th>8</th>\n",
       "      <td>SPORT</td>\n",
       "      <td>434791</td>\n",
       "    </tr>\n",
       "    <tr>\n",
       "      <th>9</th>\n",
       "      <td>BAGAGERIE</td>\n",
       "      <td>434675</td>\n",
       "    </tr>\n",
       "  </tbody>\n",
       "</table>\n",
       "</div>"
      ],
      "text/plain": [
       "                         category_level1  num_products\n",
       "0                       TELEPHONIE - GPS       1227001\n",
       "1                            AUTO - MOTO       1193619\n",
       "2                           INFORMATIQUE       1124907\n",
       "3               DECO - LINGE - LUMINAIRE       1111509\n",
       "4                              LIBRAIRIE        863965\n",
       "5           BIJOUX -  LUNETTES - MONTRES        688243\n",
       "6  BRICOLAGE - OUTILLAGE - QUINCAILLERIE        620366\n",
       "7                          JEUX - JOUETS        551408\n",
       "8                                  SPORT        434791\n",
       "9                              BAGAGERIE        434675"
      ]
     },
     "execution_count": 2,
     "metadata": {},
     "output_type": "execute_result"
    }
   ],
   "source": [
    "%%bigquery\n",
    "SELECT category_level1, count(*) num_products  \n",
    "FROM \n",
    "    `pod-fr-retail.kaggle.train_images` a \n",
    "JOIN `pod-fr-retail.kaggle.category_names`  b \n",
    "ON CAST(b.category_id AS STRING) =(REGEXP_EXTRACT(a.path_to_images,r'gs://pod-fr-retail-kaggle/train-images/[0-9]*/([^-]*)'))\n",
    "GROUP BY 1 ORDER BY 2 desc\n",
    "LIMIT 10"
   ]
  },
  {
   "cell_type": "markdown",
   "id": "5d1d6b6a",
   "metadata": {},
   "source": [
    "In shoes category"
   ]
  },
  {
   "cell_type": "code",
   "execution_count": 3,
   "id": "92315c83",
   "metadata": {},
   "outputs": [
    {
     "name": "stderr",
     "output_type": "stream",
     "text": [
      "Query complete after 0.00s: 100%|██████████| 1/1 [00:00<00:00, 1205.26query/s]\n",
      "Downloading: 100%|██████████| 5/5 [00:01<00:00,  4.15rows/s]\n"
     ]
    },
    {
     "data": {
      "text/html": [
       "<div>\n",
       "<style scoped>\n",
       "    .dataframe tbody tr th:only-of-type {\n",
       "        vertical-align: middle;\n",
       "    }\n",
       "\n",
       "    .dataframe tbody tr th {\n",
       "        vertical-align: top;\n",
       "    }\n",
       "\n",
       "    .dataframe thead th {\n",
       "        text-align: right;\n",
       "    }\n",
       "</style>\n",
       "<table border=\"1\" class=\"dataframe\">\n",
       "  <thead>\n",
       "    <tr style=\"text-align: right;\">\n",
       "      <th></th>\n",
       "      <th>category_level2</th>\n",
       "    </tr>\n",
       "  </thead>\n",
       "  <tbody>\n",
       "    <tr>\n",
       "      <th>0</th>\n",
       "      <td>BOTTES - BOTTINES</td>\n",
       "    </tr>\n",
       "    <tr>\n",
       "      <th>1</th>\n",
       "      <td>CHAUSSURES DETENTE</td>\n",
       "    </tr>\n",
       "    <tr>\n",
       "      <th>2</th>\n",
       "      <td>BASKET - SPORTSWEAR</td>\n",
       "    </tr>\n",
       "    <tr>\n",
       "      <th>3</th>\n",
       "      <td>CHAUSSURES DE VILLE</td>\n",
       "    </tr>\n",
       "    <tr>\n",
       "      <th>4</th>\n",
       "      <td>ACCESSOIRES CHAUSSURES</td>\n",
       "    </tr>\n",
       "  </tbody>\n",
       "</table>\n",
       "</div>"
      ],
      "text/plain": [
       "          category_level2\n",
       "0       BOTTES - BOTTINES\n",
       "1      CHAUSSURES DETENTE\n",
       "2     BASKET - SPORTSWEAR\n",
       "3     CHAUSSURES DE VILLE\n",
       "4  ACCESSOIRES CHAUSSURES"
      ]
     },
     "execution_count": 3,
     "metadata": {},
     "output_type": "execute_result"
    }
   ],
   "source": [
    "%%bigquery\n",
    "SELECT category_level2\n",
    "from `pod-fr-retail.kaggle.category_names` \n",
    "WHERE category_level1 like 'CHAUSSURES%'\n",
    "GROUP BY 1"
   ]
  },
  {
   "cell_type": "markdown",
   "id": "a8f1d314",
   "metadata": {},
   "source": [
    "#### 1.2 Create a table with the appropriate schema from Product Catalog (Kaggle dataset) "
   ]
  },
  {
   "cell_type": "code",
   "execution_count": 4,
   "id": "35fca025",
   "metadata": {},
   "outputs": [
    {
     "name": "stderr",
     "output_type": "stream",
     "text": [
      "Query complete after 0.00s: 100%|██████████| 5/5 [00:00<00:00, 2027.80query/s]                        \n"
     ]
    },
    {
     "data": {
      "text/html": [
       "<div>\n",
       "<style scoped>\n",
       "    .dataframe tbody tr th:only-of-type {\n",
       "        vertical-align: middle;\n",
       "    }\n",
       "\n",
       "    .dataframe tbody tr th {\n",
       "        vertical-align: top;\n",
       "    }\n",
       "\n",
       "    .dataframe thead th {\n",
       "        text-align: right;\n",
       "    }\n",
       "</style>\n",
       "<table border=\"1\" class=\"dataframe\">\n",
       "  <thead>\n",
       "    <tr style=\"text-align: right;\">\n",
       "      <th></th>\n",
       "    </tr>\n",
       "  </thead>\n",
       "  <tbody>\n",
       "  </tbody>\n",
       "</table>\n",
       "</div>"
      ],
      "text/plain": [
       "Empty DataFrame\n",
       "Columns: []\n",
       "Index: []"
      ]
     },
     "execution_count": 4,
     "metadata": {},
     "output_type": "execute_result"
    }
   ],
   "source": [
    "%%bigquery\n",
    "CREATE OR REPLACE TABLE `pod-fr-retail.kaggle.products_vision_search` AS\n",
    "SELECT \n",
    "    a.* EXCEPT (category_id)\n",
    "    ,CONCAT(replace(lower(CONCAT('','cl1=',b.category_level1,',cl2=',b.category_level2,',cl3=',b.category_level3,' ')),' ','')) labels\n",
    "    ,null as poly\n",
    "FROM (\n",
    "    SELECT \n",
    "        path_to_images image_uri\n",
    "        ,(REGEXP_EXTRACT(path_to_images,r'gs://pod-fr-retail-kaggle/train-images/[0-9]*/([0-9]*-[0-9]*-[0-9]*)')) AS image_id\n",
    "        ,'kaggle_shoes' as product_set_id\n",
    "        ,(REGEXP_EXTRACT(path_to_images,r'gs://pod-fr-retail-kaggle/train-images/[0-9]*/[0-9]*-([0-9]*)')) AS product_id\n",
    "        ,(REGEXP_EXTRACT(path_to_images,r'gs://pod-fr-retail-kaggle/train-images/[0-9]*/([^-]*)')) AS category_id\n",
    "        ,'apparel-v2' product_category\n",
    "        ,(REGEXP_EXTRACT(path_to_images,r'gs://pod-fr-retail-kaggle/train-images/[0-9]*/[0-9]*-([0-9]*)')) AS product_display_name\n",
    "    FROM `pod-fr-retail.kaggle.train_images`\n",
    "  ) a \n",
    "JOIN (SELECT * FROM `pod-fr-retail.kaggle.category_names` \n",
    "      WHERE \n",
    "      #category_level1='HYGIENE - BEAUTE - PARFUM'\n",
    "      #category_level1='CHAUSSURES - ACCESSOIRES'\n",
    "      category_level1 like 'CHAUSSURES%'\n",
    "  ) b \n",
    "ON CAST(b.category_id AS STRING) =a.category_id\n",
    "#WHERE rand()<0.10;ß"
   ]
  },
  {
   "cell_type": "code",
   "execution_count": 5,
   "id": "a73bc0f3",
   "metadata": {},
   "outputs": [
    {
     "name": "stderr",
     "output_type": "stream",
     "text": [
      "Query complete after 0.00s: 100%|██████████| 1/1 [00:00<00:00, 283.72query/s]                          \n",
      "Downloading: 100%|██████████| 1/1 [00:01<00:00,  1.26s/rows]\n"
     ]
    },
    {
     "data": {
      "text/html": [
       "<div>\n",
       "<style scoped>\n",
       "    .dataframe tbody tr th:only-of-type {\n",
       "        vertical-align: middle;\n",
       "    }\n",
       "\n",
       "    .dataframe tbody tr th {\n",
       "        vertical-align: top;\n",
       "    }\n",
       "\n",
       "    .dataframe thead th {\n",
       "        text-align: right;\n",
       "    }\n",
       "</style>\n",
       "<table border=\"1\" class=\"dataframe\">\n",
       "  <thead>\n",
       "    <tr style=\"text-align: right;\">\n",
       "      <th></th>\n",
       "      <th>number_of_products</th>\n",
       "    </tr>\n",
       "  </thead>\n",
       "  <tbody>\n",
       "    <tr>\n",
       "      <th>0</th>\n",
       "      <td>369325</td>\n",
       "    </tr>\n",
       "  </tbody>\n",
       "</table>\n",
       "</div>"
      ],
      "text/plain": [
       "   number_of_products\n",
       "0              369325"
      ]
     },
     "execution_count": 5,
     "metadata": {},
     "output_type": "execute_result"
    }
   ],
   "source": [
    "%%bigquery\n",
    "select count(*) number_of_products from `pod-fr-retail.kaggle.products_vision_search`"
   ]
  },
  {
   "cell_type": "markdown",
   "id": "3da5f5fa",
   "metadata": {},
   "source": [
    "# 2. Prepare bulk files to create a new set Data extraction (export CSV for bulk import)\n",
    "## Extract from BigQuery to Google Cloud Storage and split file in multiple files (20k lines max per file)"
   ]
  },
  {
   "cell_type": "code",
   "execution_count": 6,
   "id": "ba3ecbd0",
   "metadata": {},
   "outputs": [
    {
     "name": "stderr",
     "output_type": "stream",
     "text": [
      "Query complete after 0.00s: 100%|██████████| 1/1 [00:00<00:00, 386.79query/s]                          \n",
      "Downloading: 100%|██████████| 2/2 [00:01<00:00,  1.58rows/s]\n"
     ]
    },
    {
     "data": {
      "text/html": [
       "<div>\n",
       "<style scoped>\n",
       "    .dataframe tbody tr th:only-of-type {\n",
       "        vertical-align: middle;\n",
       "    }\n",
       "\n",
       "    .dataframe tbody tr th {\n",
       "        vertical-align: top;\n",
       "    }\n",
       "\n",
       "    .dataframe thead th {\n",
       "        text-align: right;\n",
       "    }\n",
       "</style>\n",
       "<table border=\"1\" class=\"dataframe\">\n",
       "  <thead>\n",
       "    <tr style=\"text-align: right;\">\n",
       "      <th></th>\n",
       "      <th>image_uri</th>\n",
       "      <th>image_id</th>\n",
       "      <th>product_set_id</th>\n",
       "      <th>product_id</th>\n",
       "      <th>product_category</th>\n",
       "      <th>product_display_name</th>\n",
       "      <th>labels</th>\n",
       "      <th>poly</th>\n",
       "    </tr>\n",
       "  </thead>\n",
       "  <tbody>\n",
       "    <tr>\n",
       "      <th>0</th>\n",
       "      <td>gs://pod-fr-retail-kaggle/train-images/1800000...</td>\n",
       "      <td>1000010547-6222070-0</td>\n",
       "      <td>kaggle_shoes</td>\n",
       "      <td>6222070</td>\n",
       "      <td>apparel-v2</td>\n",
       "      <td>6222070</td>\n",
       "      <td>cl1=chaussures-accessoires,cl2=bottes-bottines...</td>\n",
       "      <td>NaN</td>\n",
       "    </tr>\n",
       "    <tr>\n",
       "      <th>1</th>\n",
       "      <td>gs://pod-fr-retail-kaggle/train-images/5700000...</td>\n",
       "      <td>1000010547-18838943-3</td>\n",
       "      <td>kaggle_shoes</td>\n",
       "      <td>18838943</td>\n",
       "      <td>apparel-v2</td>\n",
       "      <td>18838943</td>\n",
       "      <td>cl1=chaussures-accessoires,cl2=bottes-bottines...</td>\n",
       "      <td>NaN</td>\n",
       "    </tr>\n",
       "  </tbody>\n",
       "</table>\n",
       "</div>"
      ],
      "text/plain": [
       "                                           image_uri               image_id  \\\n",
       "0  gs://pod-fr-retail-kaggle/train-images/1800000...   1000010547-6222070-0   \n",
       "1  gs://pod-fr-retail-kaggle/train-images/5700000...  1000010547-18838943-3   \n",
       "\n",
       "  product_set_id product_id product_category product_display_name  \\\n",
       "0   kaggle_shoes    6222070       apparel-v2              6222070   \n",
       "1   kaggle_shoes   18838943       apparel-v2             18838943   \n",
       "\n",
       "                                              labels  poly  \n",
       "0  cl1=chaussures-accessoires,cl2=bottes-bottines...   NaN  \n",
       "1  cl1=chaussures-accessoires,cl2=bottes-bottines...   NaN  "
      ]
     },
     "execution_count": 6,
     "metadata": {},
     "output_type": "execute_result"
    }
   ],
   "source": [
    "%%bigquery\n",
    "SELECT * FROM `pod-fr-retail.kaggle.products_vision_search` LIMIT 2"
   ]
  },
  {
   "cell_type": "code",
   "execution_count": 1,
   "id": "d011b355",
   "metadata": {},
   "outputs": [
    {
     "name": "stdout",
     "output_type": "stream",
     "text": [
      "\u001b[1;33mWARNING:\u001b[0m Your config file at [/home/jupyter/.docker/config.json] contains these credential helper entries:\n",
      "\n",
      "{\n",
      "  \"credHelpers\": {\n",
      "    \"gcr.io\": \"gcloud\",\n",
      "    \"us.gcr.io\": \"gcloud\",\n",
      "    \"eu.gcr.io\": \"gcloud\",\n",
      "    \"asia.gcr.io\": \"gcloud\",\n",
      "    \"staging-k8s.gcr.io\": \"gcloud\",\n",
      "    \"marketplace.gcr.io\": \"gcloud\",\n",
      "    \"europe-west1-docker.pkg.dev\": \"gcloud\"\n",
      "  }\n",
      "}\n",
      "Adding credentials for: europe-west1-docker.pkg.dev\n",
      "gcloud credential helpers already registered correctly.\n"
     ]
    }
   ],
   "source": [
    "!gcloud auth -q configure-docker europe-west1-docker.pkg.dev"
   ]
  },
  {
   "cell_type": "code",
   "execution_count": 8,
   "id": "b6da0ae6",
   "metadata": {},
   "outputs": [],
   "source": [
    "import docker\n",
    "client = docker.from_env()"
   ]
  },
  {
   "cell_type": "code",
   "execution_count": 10,
   "id": "db438cf8",
   "metadata": {},
   "outputs": [
    {
     "data": {
      "text/plain": [
       "<Image: 'europe-west1-docker.pkg.dev/pod-fr-retail/demok8/demo_k8_jobs_bqs_split:latest'>"
      ]
     },
     "execution_count": 10,
     "metadata": {},
     "output_type": "execute_result"
    }
   ],
   "source": [
    "client.images.pull(\"europe-west1-docker.pkg.dev/pod-fr-retail/demok8/demo_k8_jobs_bqs_split\", \"latest\")"
   ]
  },
  {
   "cell_type": "code",
   "execution_count": 11,
   "id": "0decdc02",
   "metadata": {},
   "outputs": [
    {
     "data": {
      "text/plain": [
       "167999550"
      ]
     },
     "execution_count": 11,
     "metadata": {},
     "output_type": "execute_result"
    }
   ],
   "source": [
    "image=client.images.get('europe-west1-docker.pkg.dev/pod-fr-retail/demok8/demo_k8_jobs_bqs_split:latest')\n",
    "image.attrs[\"VirtualSize\"]"
   ]
  },
  {
   "cell_type": "code",
   "execution_count": 12,
   "id": "5e4a7f0d",
   "metadata": {},
   "outputs": [
    {
     "name": "stdout",
     "output_type": "stream",
     "text": [
      "================ Start ==================\n",
      "\n",
      "\n",
      "\n",
      "Start extract into pod-fr-retail-kaggle.products_vision_search/kaggle_shoes/extract- folder \n",
      "\n",
      "\n",
      "\n",
      "pod-fr-retail-kaggle/products_vision_search/kaggle_shoes/extract-0 created\n",
      "\n",
      "pod-fr-retail-kaggle/products_vision_search/kaggle_shoes/extract-1 created\n",
      "\n",
      "pod-fr-retail-kaggle/products_vision_search/kaggle_shoes/extract-2 created\n",
      "\n",
      "pod-fr-retail-kaggle/products_vision_search/kaggle_shoes/extract-3 created\n",
      "\n",
      "pod-fr-retail-kaggle/products_vision_search/kaggle_shoes/extract-4 created\n",
      "\n",
      "pod-fr-retail-kaggle/products_vision_search/kaggle_shoes/extract-5 created\n",
      "\n",
      "pod-fr-retail-kaggle/products_vision_search/kaggle_shoes/extract-6 created\n",
      "\n",
      "pod-fr-retail-kaggle/products_vision_search/kaggle_shoes/extract-7 created\n",
      "\n",
      "pod-fr-retail-kaggle/products_vision_search/kaggle_shoes/extract-8 created\n",
      "\n",
      "pod-fr-retail-kaggle/products_vision_search/kaggle_shoes/extract-9 created\n",
      "\n",
      "pod-fr-retail-kaggle/products_vision_search/kaggle_shoes/extract-10 created\n",
      "\n",
      "pod-fr-retail-kaggle/products_vision_search/kaggle_shoes/extract-11 created\n",
      "\n",
      "pod-fr-retail-kaggle/products_vision_search/kaggle_shoes/extract-12 created\n",
      "\n",
      "pod-fr-retail-kaggle/products_vision_search/kaggle_shoes/extract-13 created\n",
      "\n",
      "pod-fr-retail-kaggle/products_vision_search/kaggle_shoes/extract-14 created\n",
      "\n",
      "pod-fr-retail-kaggle/products_vision_search/kaggle_shoes/extract-15 created\n",
      "\n",
      "pod-fr-retail-kaggle/products_vision_search/kaggle_shoes/extract-16 created\n",
      "\n",
      "pod-fr-retail-kaggle/products_vision_search/kaggle_shoes/extract-17 created\n",
      "\n",
      "pod-fr-retail-kaggle/products_vision_search/kaggle_shoes/extract-18 created\n",
      "\n",
      "\n",
      "\n",
      "Extract 369325 rows into pod-fr-retail-kaggle.products_vision_search/kaggle_shoes/extract-[0-18]  \n",
      "\n",
      "================ End ==================\n",
      "\n"
     ]
    }
   ],
   "source": [
    "container=client.containers.run(\"europe-west1-docker.pkg.dev/pod-fr-retail/demok8/demo_k8_jobs_bqs_split:latest\"\n",
    "                                ,[\"python3\",  \"-u\", \"/bq_split.py\"\n",
    "                                    ,\"--projectId\", \"pod-fr-retail\"\n",
    "                                    ,\"--dataset\", \"kaggle\"\n",
    "                                    ,\"--tableId\", \"products_vision_search\"\n",
    "                                    ,\"--selected_fields\", \"image_uri,image_id,product_set_id,product_id,product_category,product_display_name,labels,poly\"\n",
    "                                    ,\"--bucket_name\", \"pod-fr-retail-kaggle\"\n",
    "                                    ,\"--file_prefix\", \"products_vision_search/kaggle_shoes/extract-\"\n",
    "                                    ,\"--max_rows\", \"20000\"\n",
    "                                  ]\n",
    "                                , detach=True\n",
    "                                , stdout=True\n",
    "                                , stream=True)\n",
    "for log in container.logs(stream=True, stdout=True, stderr=True):\n",
    "    print(log.decode(\"utf-8\"))"
   ]
  },
  {
   "cell_type": "markdown",
   "id": "b595f6b9",
   "metadata": {},
   "source": [
    "# 3. Product set creation\n",
    "Bulk import every files to Vision Product Search (to a specific product set id specified in the file itself)"
   ]
  },
  {
   "cell_type": "markdown",
   "id": "8960f394",
   "metadata": {},
   "source": [
    "## 3.1 List all files"
   ]
  },
  {
   "cell_type": "code",
   "execution_count": 16,
   "id": "bfeb66c4",
   "metadata": {},
   "outputs": [
    {
     "name": "stdout",
     "output_type": "stream",
     "text": [
      "products_vision_search/kaggle_shoes/extract-0\n",
      "products_vision_search/kaggle_shoes/extract-1\n",
      "products_vision_search/kaggle_shoes/extract-10\n",
      "products_vision_search/kaggle_shoes/extract-11\n",
      "products_vision_search/kaggle_shoes/extract-12\n",
      "products_vision_search/kaggle_shoes/extract-13\n",
      "products_vision_search/kaggle_shoes/extract-14\n",
      "products_vision_search/kaggle_shoes/extract-15\n",
      "products_vision_search/kaggle_shoes/extract-16\n",
      "products_vision_search/kaggle_shoes/extract-17\n",
      "products_vision_search/kaggle_shoes/extract-18\n",
      "products_vision_search/kaggle_shoes/extract-2\n",
      "products_vision_search/kaggle_shoes/extract-3\n",
      "products_vision_search/kaggle_shoes/extract-4\n",
      "products_vision_search/kaggle_shoes/extract-5\n",
      "products_vision_search/kaggle_shoes/extract-6\n",
      "products_vision_search/kaggle_shoes/extract-7\n",
      "products_vision_search/kaggle_shoes/extract-8\n",
      "products_vision_search/kaggle_shoes/extract-9\n"
     ]
    }
   ],
   "source": [
    "from google.cloud import storage\n",
    "client = storage.Client()\n",
    "bucket = client.get_bucket(bucket_name)\n",
    "blobs = client.list_blobs(bucket_name, prefix=file_prefix)\n",
    "gcs_uris=[]\n",
    "for item in blobs:\n",
    "    gcs_uris.append(item.name)\n",
    "    print(item.name)\n"
   ]
  },
  {
   "cell_type": "markdown",
   "id": "6ea526c4",
   "metadata": {},
   "source": [
    "## 3.2 Import files and store responses (operation) \n"
   ]
  },
  {
   "cell_type": "code",
   "execution_count": 17,
   "id": "de6b8899",
   "metadata": {},
   "outputs": [],
   "source": [
    "from google.cloud import vision_v1\n",
    "responses=[]\n",
    "client = vision_v1.ProductSearchClient()\n",
    "parent = client.location_path(project_id, location)\n",
    "\n",
    "def callback(operation_future):\n",
    "        # Handle result.\n",
    "        result = operation_future.result()\n",
    "        \n",
    "for gcs_uri in gcs_uris:\n",
    "    gcs_source = vision_v1.types.ImportProductSetsGcsSource(csv_file_uri = gcs_bucket+gcs_uri)\n",
    "    input_config = vision_v1.types.ImportProductSetsInputConfig(gcs_source=gcs_source)\n",
    "    response = client.import_product_sets(parent, input_config)\n",
    "    response.add_done_callback(callback)\n",
    "    responses.append(response)"
   ]
  },
  {
   "cell_type": "code",
   "execution_count": 18,
   "id": "f4951a81",
   "metadata": {
    "collapsed": true,
    "jupyter": {
     "outputs_hidden": true
    }
   },
   "outputs": [
    {
     "name": "stdout",
     "output_type": "stream",
     "text": [
      "projects/pod-fr-retail/locations/europe-west1/operations/8a6dfdb41d59ecf2 :\n",
      "state: PROCESSING\n",
      "submit_time {\n",
      "  seconds: 1666604631\n",
      "  nanos: 424273764\n",
      "}\n",
      "\n",
      "--------------------\n",
      "projects/pod-fr-retail/locations/europe-west1/operations/612dfcb9b1dc60e5 :\n",
      "state: PROCESSING\n",
      "submit_time {\n",
      "  seconds: 1666604631\n",
      "  nanos: 485121446\n",
      "}\n",
      "\n",
      "--------------------\n",
      "projects/pod-fr-retail/locations/europe-west1/operations/604d198c5a4cb290 :\n",
      "state: PROCESSING\n",
      "submit_time {\n",
      "  seconds: 1666604631\n",
      "  nanos: 549951186\n",
      "}\n",
      "\n",
      "--------------------\n",
      "projects/pod-fr-retail/locations/europe-west1/operations/fc5bfd9763410407 :\n",
      "state: PROCESSING\n",
      "submit_time {\n",
      "  seconds: 1666604631\n",
      "  nanos: 608693558\n",
      "}\n",
      "\n",
      "--------------------\n",
      "projects/pod-fr-retail/locations/europe-west1/operations/d15cbf3020db4703 :\n",
      "state: PROCESSING\n",
      "submit_time {\n",
      "  seconds: 1666604631\n",
      "  nanos: 651175341\n",
      "}\n",
      "\n",
      "--------------------\n",
      "projects/pod-fr-retail/locations/europe-west1/operations/c70c423510dde541 :\n",
      "state: PROCESSING\n",
      "submit_time {\n",
      "  seconds: 1666604631\n",
      "  nanos: 714056365\n",
      "}\n",
      "\n",
      "--------------------\n",
      "projects/pod-fr-retail/locations/europe-west1/operations/79ebd7ca4d96ba08 :\n",
      "state: PROCESSING\n",
      "submit_time {\n",
      "  seconds: 1666604631\n",
      "  nanos: 753283522\n",
      "}\n",
      "\n",
      "--------------------\n",
      "projects/pod-fr-retail/locations/europe-west1/operations/604d198c5a4cb046 :\n",
      "state: PROCESSING\n",
      "submit_time {\n",
      "  seconds: 1666604631\n",
      "  nanos: 835187212\n",
      "}\n",
      "\n",
      "--------------------\n",
      "projects/pod-fr-retail/locations/europe-west1/operations/d15cbf3020db4f37 :\n",
      "state: PROCESSING\n",
      "submit_time {\n",
      "  seconds: 1666604631\n",
      "  nanos: 884858623\n",
      "}\n",
      "\n",
      "--------------------\n",
      "projects/pod-fr-retail/locations/europe-west1/operations/79ebd7ca4d96b4f4 :\n",
      "state: PROCESSING\n",
      "submit_time {\n",
      "  seconds: 1666604631\n",
      "  nanos: 933398158\n",
      "}\n",
      "\n",
      "--------------------\n",
      "projects/pod-fr-retail/locations/europe-west1/operations/604d198c5a4cb3b3 :\n",
      "state: PROCESSING\n",
      "submit_time {\n",
      "  seconds: 1666604631\n",
      "  nanos: 992334118\n",
      "}\n",
      "\n",
      "--------------------\n",
      "projects/pod-fr-retail/locations/europe-west1/operations/612dfcb9b1dc689f :\n",
      "state: PROCESSING\n",
      "submit_time {\n",
      "  seconds: 1666604632\n",
      "  nanos: 34720513\n",
      "}\n",
      "\n",
      "--------------------\n",
      "projects/pod-fr-retail/locations/europe-west1/operations/f1a3c13ad39587d8 :\n",
      "state: PROCESSING\n",
      "submit_time {\n",
      "  seconds: 1666604632\n",
      "  nanos: 76270307\n",
      "}\n",
      "\n",
      "--------------------\n",
      "projects/pod-fr-retail/locations/europe-west1/operations/fc5bfd9763410396 :\n",
      "state: PROCESSING\n",
      "submit_time {\n",
      "  seconds: 1666604632\n",
      "  nanos: 125501918\n",
      "}\n",
      "\n",
      "--------------------\n",
      "projects/pod-fr-retail/locations/europe-west1/operations/612dfcb9b1dc631b :\n",
      "state: PROCESSING\n",
      "submit_time {\n",
      "  seconds: 1666604632\n",
      "  nanos: 194900061\n",
      "}\n",
      "\n",
      "--------------------\n",
      "projects/pod-fr-retail/locations/europe-west1/operations/612dfcb9b1dc6d97 :\n",
      "state: PROCESSING\n",
      "submit_time {\n",
      "  seconds: 1666604632\n",
      "  nanos: 244818913\n",
      "}\n",
      "\n",
      "--------------------\n",
      "projects/pod-fr-retail/locations/europe-west1/operations/79ebd7ca4d96b556 :\n",
      "state: PROCESSING\n",
      "submit_time {\n",
      "  seconds: 1666604632\n",
      "  nanos: 293781600\n",
      "}\n",
      "\n",
      "--------------------\n",
      "projects/pod-fr-retail/locations/europe-west1/operations/604d198c5a4cb720 :\n",
      "state: PROCESSING\n",
      "submit_time {\n",
      "  seconds: 1666604632\n",
      "  nanos: 341066285\n",
      "}\n",
      "\n",
      "--------------------\n",
      "projects/pod-fr-retail/locations/europe-west1/operations/612dfcb9b1dc6813 :\n",
      "state: PROCESSING\n",
      "submit_time {\n",
      "  seconds: 1666604632\n",
      "  nanos: 391163666\n",
      "}\n",
      "\n",
      "--------------------\n"
     ]
    }
   ],
   "source": [
    "for response in responses:\n",
    "    print(response.operation.name, ':')\n",
    "    print(response.metadata)\n",
    "    print('--------------------')"
   ]
  },
  {
   "cell_type": "markdown",
   "id": "54639bff",
   "metadata": {},
   "source": [
    "## 3.3 Check index time of product sets "
   ]
  },
  {
   "cell_type": "code",
   "execution_count": 21,
   "id": "c4abe53a",
   "metadata": {},
   "outputs": [
    {
     "name": "stdout",
     "output_type": "stream",
     "text": [
      "name: \"projects/pod-fr-retail/locations/europe-west1/productSets/kaggle_shoes\"\n",
      "display_name: \" \"\n",
      "index_time {\n",
      "  seconds: 1666599567\n",
      "  nanos: 889620900\n",
      "}\n",
      "index_error {\n",
      "}\n",
      "\n",
      "Last index: 2022-10-24 08:19:27\n",
      "------\n",
      "name: \"projects/pod-fr-retail/locations/europe-west1/productSets/pvs_shoes\"\n",
      "display_name: \" \"\n",
      "index_time {\n",
      "  seconds: 1666599567\n",
      "  nanos: 889620900\n",
      "}\n",
      "index_error {\n",
      "}\n",
      "\n",
      "Last index: 2022-10-24 08:19:27\n",
      "------\n"
     ]
    }
   ],
   "source": [
    "import time\n",
    "from google.cloud import vision_v1\n",
    "client = vision_v1.ProductSearchClient()\n",
    "parent = client.location_path(project_id, location)\n",
    "name = client.product_set_path(project_id, location, product_set)\n",
    "for element in client.list_product_sets(parent):\n",
    "    print(element)\n",
    "    print('Last index:',time.strftime('%Y-%m-%d %H:%M:%S', time.localtime(element.index_time.seconds)))\n",
    "    print('------')\n",
    "    pass\n",
    "#print(client.list_products_in_product_set(name))"
   ]
  }
 ],
 "metadata": {
  "environment": {
   "name": "common-cpu.m65",
   "type": "gcloud",
   "uri": "gcr.io/deeplearning-platform-release/base-cpu:m65"
  },
  "kernelspec": {
   "display_name": "Python 3",
   "language": "python",
   "name": "python3"
  },
  "language_info": {
   "codemirror_mode": {
    "name": "ipython",
    "version": 3
   },
   "file_extension": ".py",
   "mimetype": "text/x-python",
   "name": "python",
   "nbconvert_exporter": "python",
   "pygments_lexer": "ipython3",
   "version": "3.7.10"
  }
 },
 "nbformat": 4,
 "nbformat_minor": 5
}
