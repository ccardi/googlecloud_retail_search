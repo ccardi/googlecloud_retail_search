{
 "cells": [
  {
   "cell_type": "markdown",
   "metadata": {},
   "source": [
    "# **Product Vision Search:** Build a Product recognition engine in one hour\n",
    "This example is using a Kaggle dataset for product recognition. The goal is to extract a csv for bulk import in Product Vision Search  \n",
    "**Useful links:**  \n",
    "https://github.com/zinjiggle/google-product-search-simple-ui  \n",
    "https://github.com/GoogleCloudPlatform/python-docs-samples/tree/master/vision/cloud-client/product_search"
   ]
  },
  {
   "cell_type": "markdown",
   "metadata": {},
   "source": [
    "## 1. Data preparation (using Bigquery)\n",
    "The first step is to prepare a table in the proper format.\n",
    "* **image-uri**: The Google Cloud Storage URI of the reference image.\n",
    "* **image-id**: Optional. A unique value if you supply it. Otherwise, the system will assign a unique value.\n",
    "* **product-set-id**: A unique identifier for the product set to import the images into.\n",
    "* **product-id**: A user-defined ID for the product identified by the reference image. A product-id can be associated with multiple reference images. Note: A single product may also belong to several product sets. If a product-id already exists on bulk import then product-category, product-display, and labels are ignored for that line entry.\n",
    "* **product-category**: Allowed values are homegoods-v2, apparel-v2, toys-v2, packagedgoods-v1, and general-v1 *; the category for the product identified by the reference image. Inferred by the system if not specified in the create request. Allowed values are also listed in the productCategory reference documentation. Legacy productCategory codes: Legacy categories (homegoods, apparel, and toys) are still supported, but the updated -v2 categories should be used for new products.\n",
    "* **product-display-name**: Optional. If you don't provide a name for the product displayName will be set to \" \". You can update this value later.\n",
    "* **labels**: Optional. A string (with quotation marks) of key-value pairs that describe the products in the reference image. For example:\"color=black,style=formal\"\n",
    "* **bounding-poly**: Optional. Specifies the area of interest in the reference image. If a bounding box is not specified: Bounding boxes for the image are inferred by the Vision API; multiple regions in a single image may be indexed if multiple products are detected by the API. The line must end with a comma. See the example below for a product without a bounding poly specified.If you include a bounding box, the boundingPoly column should contain an even number of comma-separated numbers, with the format p1_x,p1_y,p2_x,p2_y,...,pn_x,pn_y. An example line looks like this: 0.1,0.1,0.9,0.1,0.9,0.9,0.1,0.9."
   ]
  },
  {
   "cell_type": "code",
   "execution_count": null,
   "metadata": {},
   "outputs": [],
   "source": [
    "pip install google-cloud-vision"
   ]
  },
  {
   "cell_type": "code",
   "execution_count": null,
   "metadata": {},
   "outputs": [],
   "source": [
    "%%bigquery\n",
    "SELECT category_level1, count(*) num_products  \n",
    "FROM \n",
    "    `pod-fr-retail.kaggle.train_images` a \n",
    "JOIN `pod-fr-retail.kaggle.category_names`  b \n",
    "ON CAST(b.category_id AS STRING) =(REGEXP_EXTRACT(a.path_to_images,r'gs://pod-fr-retail-kaggle/train-images/[0-9]*/([^-]*)'))\n",
    "GROUP BY 1 ORDER BY 2 desc"
   ]
  },
  {
   "cell_type": "code",
   "execution_count": null,
   "metadata": {},
   "outputs": [],
   "source": [
    "%%bigquery\n",
    "SELECT category_level2\n",
    "from `pod-fr-retail.kaggle.category_names` \n",
    "WHERE category_level1 like 'CHAUSSURES%'\n",
    "GROUP BY 1"
   ]
  },
  {
   "cell_type": "code",
   "execution_count": null,
   "metadata": {},
   "outputs": [],
   "source": [
    "%%bigquery\n",
    "CREATE OR REPLACE TABLE `pod-fr-retail.kaggle.products_vision_search` AS\n",
    "SELECT \n",
    "    a.* EXCEPT (category_id)\n",
    "    ,CONCAT(replace(lower(CONCAT('','cl1=',b.category_level1,',cl2=',b.category_level2,',cl3=',b.category_level3,' ')),' ','')) labels\n",
    "    ,null as poly\n",
    "FROM (\n",
    "    SELECT \n",
    "        path_to_images image_uri\n",
    "        ,(REGEXP_EXTRACT(path_to_images,r'gs://pod-fr-retail-kaggle/train-images/[0-9]*/([0-9]*-[0-9]*-[0-9]*)')) AS image_id\n",
    "        ,'kaggle_shoes' as product_set_id\n",
    "        ,(REGEXP_EXTRACT(path_to_images,r'gs://pod-fr-retail-kaggle/train-images/[0-9]*/[0-9]*-([0-9]*)')) AS product_id\n",
    "        ,(REGEXP_EXTRACT(path_to_images,r'gs://pod-fr-retail-kaggle/train-images/[0-9]*/([^-]*)')) AS category_id\n",
    "        ,'apparel-v2' product_category\n",
    "        ,(REGEXP_EXTRACT(path_to_images,r'gs://pod-fr-retail-kaggle/train-images/[0-9]*/[0-9]*-([0-9]*)')) AS product_display_name\n",
    "    FROM `pod-fr-retail.kaggle.train_images`\n",
    "  ) a \n",
    "JOIN (SELECT * FROM `pod-fr-retail.kaggle.category_names` \n",
    "      WHERE \n",
    "      #category_level1='HYGIENE - BEAUTE - PARFUM'\n",
    "      #category_level1='CHAUSSURES - ACCESSOIRES'\n",
    "      category_level1 like 'CHAUSSURES%'\n",
    "  ) b \n",
    "ON CAST(b.category_id AS STRING) =a.category_id\n",
    "#WHERE rand()<0.10;"
   ]
  },
  {
   "cell_type": "markdown",
   "metadata": {},
   "source": [
    "# 2. Data extraction (export CSV for bulk import)\n",
    "Extract from BigQuery to Google Cloud Storage and split file in multiple files (20k lines max per file)"
   ]
  },
  {
   "cell_type": "code",
   "execution_count": 61,
   "metadata": {},
   "outputs": [],
   "source": [
    "productsTable='pod-fr-retail:kaggle.products_vision_search'\n",
    "destinationCSV=\"gs://pod-fr-retail-kaggle/products_vision_search.csv\"\n",
    "destinationSplittedCSV=\"gs://pod-fr-retail-kaggle/products_vision_search/split/part\""
   ]
  },
  {
   "cell_type": "code",
   "execution_count": null,
   "metadata": {},
   "outputs": [],
   "source": [
    "%%bash -s $productsTable $destinationCSV\n",
    "bq extract --print_header=false $1 $2"
   ]
  },
  {
   "cell_type": "code",
   "execution_count": 62,
   "metadata": {},
   "outputs": [
    {
     "name": "stdout",
     "output_type": "stream",
     "text": [
      "gs://pod-fr-retail-kaggle/train-images/4000000/1000010547-13111765-1.jpg,1000010547-13111765-1,kaggle_shoes,13111765,apparel-v2,13111765,\"cl1=chaussures-accessoires,cl2=bottes-bottines,cl3=botte\",\n"
     ]
    }
   ],
   "source": [
    "%%bash -s $destinationCSV\n",
    "gsutil cat  $1 | sed -n '1,1p'  "
   ]
  },
  {
   "cell_type": "code",
   "execution_count": null,
   "metadata": {},
   "outputs": [],
   "source": [
    "%%bash -s $destinationCSV $destinationSplittedCSV\n",
    "TOTAL_ROWS=$(gsutil cat $1 | wc -l);\n",
    "MAX_ROWS=20000;\n",
    "j=1\n",
    "k=1\n",
    "for (( i=1; i<=$TOTAL_ROWS; i++ ))\n",
    "do \n",
    "    if [ $(($i%MAX_ROWS)) == 0 ]; then \n",
    "        gsutil -q cat $1 | sed -n \"$j\"','\"$i\"'p'  |  gsutil -q cp - $2-$k.csv\n",
    "        echo \"File $2-$k.csv created\" \n",
    "        j=$((i+1))\n",
    "        k=$((k+1))\n",
    "    fi\n",
    "done\n",
    "if [ $(($i < TOTAL_ROWS)) ]; then \n",
    "        gsutil -q cat $1 | sed -n \"$j\"','\"$TOTAL_ROWS\"'p'  |  gsutil -q cp - $2-$k.csv\n",
    "fi"
   ]
  },
  {
   "cell_type": "markdown",
   "metadata": {},
   "source": [
    "# 3. Product set creation\n",
    "Bulk import every files to Vision Product Search (to a specific product set id specified in the file itself)"
   ]
  },
  {
   "cell_type": "raw",
   "metadata": {},
   "source": [
    "pip install --upgrade google-cloud-storage"
   ]
  },
  {
   "cell_type": "markdown",
   "metadata": {},
   "source": [
    "## 3.1 List all files"
   ]
  },
  {
   "cell_type": "code",
   "execution_count": 4,
   "metadata": {},
   "outputs": [
    {
     "name": "stdout",
     "output_type": "stream",
     "text": [
      "\t products_vision_search/split/part-1.csv\n",
      "\t products_vision_search/split/part-10.csv\n",
      "\t products_vision_search/split/part-11.csv\n",
      "\t products_vision_search/split/part-12.csv\n",
      "\t products_vision_search/split/part-13.csv\n",
      "\t products_vision_search/split/part-14.csv\n",
      "\t products_vision_search/split/part-15.csv\n",
      "\t products_vision_search/split/part-16.csv\n",
      "\t products_vision_search/split/part-17.csv\n",
      "\t products_vision_search/split/part-18.csv\n",
      "\t products_vision_search/split/part-19.csv\n",
      "\t products_vision_search/split/part-2.csv\n",
      "\t products_vision_search/split/part-3.csv\n",
      "\t products_vision_search/split/part-4.csv\n",
      "\t products_vision_search/split/part-5.csv\n",
      "\t products_vision_search/split/part-6.csv\n",
      "\t products_vision_search/split/part-7.csv\n",
      "\t products_vision_search/split/part-8.csv\n",
      "\t products_vision_search/split/part-9.csv\n",
      "gs://pod-fr-retail-kaggle/ products_vision_search/split/ products_vision_search/split/part-1.csv\n"
     ]
    }
   ],
   "source": [
    "from google.cloud import storage\n",
    "client = storage.Client()\n",
    "bucket_name = \"pod-fr-retail-kaggle\"\n",
    "bucket = client.get_bucket(bucket_name)\n",
    "blobs = client.list_blobs(bucket_name, prefix='products_vision_search/split/')\n",
    "gcs_uris=[]\n",
    "for item in blobs:\n",
    "    gcs_uris.append(item.name)\n",
    "    print('\\t',item.name)\n",
    "    \n",
    "print(\"gs://pod-fr-retail-kaggle/\",\"products_vision_search/split/\",gcs_uris[0])"
   ]
  },
  {
   "cell_type": "code",
   "execution_count": 5,
   "metadata": {},
   "outputs": [
    {
     "name": "stdout",
     "output_type": "stream",
     "text": [
      "gs://pod-fr-retail-kaggle/products_vision_search/split/part-1.csv\n"
     ]
    }
   ],
   "source": [
    "project_id='pod-fr-retail'\n",
    "location='europe-west1'\n",
    "product_set='kaggle_shoes'\n",
    "gcs_bucket=\"gs://pod-fr-retail-kaggle/\"\n",
    "gcs_uri=gcs_bucket+gcs_uris[0]\n",
    "print(gcs_uri)"
   ]
  },
  {
   "cell_type": "markdown",
   "metadata": {},
   "source": [
    "## 3.2 Import files and store responses (operation) "
   ]
  },
  {
   "cell_type": "code",
   "execution_count": 37,
   "metadata": {},
   "outputs": [],
   "source": [
    "from google.cloud import vision_v1"
   ]
  },
  {
   "cell_type": "code",
   "execution_count": 38,
   "metadata": {},
   "outputs": [],
   "source": [
    "responses=[]\n",
    "client = vision_v1.ProductSearchClient()\n",
    "parent = client.location_path(project_id, location)\n",
    "\n",
    "def callback(operation_future):\n",
    "        # Handle result.\n",
    "        result = operation_future.result()\n",
    "        \n",
    "for gcs_uri in gcs_uris:\n",
    "    gcs_source = vision_v1.types.ImportProductSetsGcsSource(csv_file_uri = gcs_bucket+gcs_uri)\n",
    "    input_config = vision_v1.types.ImportProductSetsInputConfig(gcs_source=gcs_source)\n",
    "    response = client.import_product_sets(parent, input_config)\n",
    "    response.add_done_callback(callback)\n",
    "    responses.append(response)\n",
    "# Handle metadata.\n",
    "#metadata = response.metadata()"
   ]
  },
  {
   "cell_type": "code",
   "execution_count": null,
   "metadata": {},
   "outputs": [],
   "source": [
    "for response in responses:\n",
    "    print(response.operation.name, ':')\n",
    "    print(response.metadata)\n",
    "    print('--------------------')"
   ]
  },
  {
   "cell_type": "markdown",
   "metadata": {},
   "source": [
    "## 3.3 Check index time of product sets "
   ]
  },
  {
   "cell_type": "code",
   "execution_count": null,
   "metadata": {},
   "outputs": [],
   "source": [
    "import time\n",
    "from google.cloud import vision_v1\n",
    "client = vision_v1.ProductSearchClient()\n",
    "parent = client.location_path(project_id, location)\n",
    "name = client.product_set_path(project_id, location, product_set)\n",
    "for element in client.list_product_sets(parent):\n",
    "    print(element)\n",
    "    print('Last index:',time.strftime('%Y-%m-%d %H:%M:%S', time.localtime(element.index_time.seconds)))\n",
    "    print('------')\n",
    "    pass\n",
    "#print(client.list_products_in_product_set(name))\n"
   ]
  },
  {
   "cell_type": "code",
   "execution_count": 159,
   "metadata": {},
   "outputs": [],
   "source": [
    "from google.cloud import vision\n",
    "from google.cloud import storage\n",
    "from IPython.display import Image, display\n",
    "\n",
    "def get_image(uri):\n",
    "    client_storage = storage.Client(credentials=credentials) # Implicit environment set up\n",
    "    bucket = uri.split(\"/\")[2]\n",
    "    object_name = \"/\".join(uri.split(\"/\")[3:])\n",
    "    # with explicit set up:\n",
    "    # client = storage.Client.from_service_account_json('key-file-location')\n",
    "    bucket = client_storage.get_bucket(bucket)\n",
    "    blob = bucket.get_blob(object_name)\n",
    "    return(Image(blob.download_as_bytes()))\n",
    "    \n",
    "def get_similar_products_file(\n",
    "        project_id,\n",
    "        location,\n",
    "        product_set_id,\n",
    "        product_category,\n",
    "        file_path,\n",
    "        filter,\n",
    "        max_results\n",
    "):\n",
    "    \"\"\"Search similar products to image.\n",
    "    Args:\n",
    "        project_id: Id of the project.\n",
    "        location: A compute region name.\n",
    "        product_set_id: Id of the product set.\n",
    "        product_category: Category of the product.\n",
    "        file_path: Local file path of the image to be searched.\n",
    "        filter: Condition to be applied on the labels.\n",
    "                Example for filter: (color = red OR color = blue) AND style = kids\n",
    "                It will search on all products with the following labels:\n",
    "                color:red AND style:kids\n",
    "                color:blue AND style:kids\n",
    "        max_results: The maximum number of results (matches) to return. If omitted, all results are returned.\n",
    "    \"\"\"\n",
    "    # product_search_client is needed only for its helper methods.\n",
    "    product_search_client = vision.ProductSearchClient()\n",
    "    image_annotator_client = vision.ImageAnnotatorClient()\n",
    "\n",
    "    # Read the image as a stream of bytes.\n",
    "    with open(file_path, 'rb') as image_file:\n",
    "        content = image_file.read()\n",
    "\n",
    "    # Create annotate image request along with product search feature.\n",
    "    image = vision.types.image_annotator_pb2.Image(content=content)\n",
    "\n",
    "    # product search specific parameters\n",
    "    product_set_path = product_search_client.product_set_path(\n",
    "        project=project_id, location=location,\n",
    "        product_set=product_set_id)\n",
    "    product_search_params = vision.types.ProductSearchParams(\n",
    "        product_set=product_set_path,\n",
    "        product_categories=[product_category],\n",
    "        filter=filter)\n",
    "    image_context = vision.types.ImageContext(\n",
    "        product_search_params=product_search_params)\n",
    "\n",
    "    # Search products similar to the image.\n",
    "    response = image_annotator_client.product_search(\n",
    "        image,\n",
    "        image_context=image_context,\n",
    "        max_results=max_results\n",
    "    )\n",
    "    \n",
    "    index_time = response.product_search_results.index_time\n",
    "    print('Product set index time: ')\n",
    "    print(index_time)\n",
    "\n",
    "    results = response.product_search_results.results\n",
    "\n",
    "    print('Search results:')\n",
    "    i=0\n",
    "    for result in results:\n",
    "        print('--------------------Result ', i)\n",
    "        image = product_search_client.get_reference_image(name=result.image)\n",
    "        display(get_image(image.uri))\n",
    "        product = result.product\n",
    "        print('Score(Confidence): {}'.format(result.score))\n",
    "        print('Image name: {}'.format(result.image))\n",
    "        print('Product name: {}'.format(product.name))\n",
    "        print('Product display name: {}'.format(\n",
    "            product.display_name))\n",
    "        print('Product description: {}\\n'.format(product.description))\n",
    "        print('Product labels: {}\\n'.format(product.product_labels))\n",
    "        print('--------------------------')\n",
    "        i=i+1"
   ]
  },
  {
   "cell_type": "code",
   "execution_count": 160,
   "metadata": {},
   "outputs": [
    {
     "name": "stdout",
     "output_type": "stream",
     "text": [
      "Product set index time: \n",
      "seconds: 1665843567\n",
      "nanos: 837234043\n",
      "\n",
      "Search results:\n",
      "--------------------Result  0\n"
     ]
    },
    {
     "data": {
      "image/jpeg": "[encoded data removed]",
      "text/plain": [
       "<IPython.core.display.Image object>"
      ]
     },
     "metadata": {},
     "output_type": "display_data"
    },
    {
     "name": "stdout",
     "output_type": "stream",
     "text": [
      "Score(Confidence): 0.7613340616226196\n",
      "Image name: projects/pod-fr-retail/locations/europe-west1/products/12639984/referenceImages/1000010538-12639984-0\n",
      "Product name: projects/pod-fr-retail/locations/europe-west1/products/12639984\n",
      "Product display name: 12639984\n",
      "Product description: \n",
      "\n",
      "Product labels: [key: \"cl1\"\n",
      "value: \"chaussures-accessoires\"\n",
      ", key: \"cl2\"\n",
      "value: \"basket-sportswear\"\n",
      ", key: \"cl3\"\n",
      "value: \"basket\"\n",
      "]\n",
      "\n",
      "--------------------------\n",
      "--------------------Result  1\n"
     ]
    },
    {
     "data": {
      "image/jpeg": "[encoded data removed]",
      "text/plain": [
       "<IPython.core.display.Image object>"
      ]
     },
     "metadata": {},
     "output_type": "display_data"
    },
    {
     "name": "stdout",
     "output_type": "stream",
     "text": [
      "Score(Confidence): 0.7419224381446838\n",
      "Image name: projects/pod-fr-retail/locations/europe-west1/products/20999212/referenceImages/1000010538-20999212-0\n",
      "Product name: projects/pod-fr-retail/locations/europe-west1/products/20999212\n",
      "Product display name: 20999212\n",
      "Product description: \n",
      "\n",
      "Product labels: [key: \"cl1\"\n",
      "value: \"chaussures-accessoires\"\n",
      ", key: \"cl2\"\n",
      "value: \"basket-sportswear\"\n",
      ", key: \"cl3\"\n",
      "value: \"basket\"\n",
      "]\n",
      "\n",
      "--------------------------\n",
      "--------------------Result  2\n"
     ]
    },
    {
     "data": {
      "image/jpeg": "[encoded data removed]",
      "text/plain": [
       "<IPython.core.display.Image object>"
      ]
     },
     "metadata": {},
     "output_type": "display_data"
    },
    {
     "name": "stdout",
     "output_type": "stream",
     "text": [
      "Score(Confidence): 0.7251256108283997\n",
      "Image name: projects/pod-fr-retail/locations/europe-west1/products/3678282/referenceImages/1000010538-3678282-1\n",
      "Product name: projects/pod-fr-retail/locations/europe-west1/products/3678282\n",
      "Product display name: 3678282\n",
      "Product description: \n",
      "\n",
      "Product labels: [key: \"cl1\"\n",
      "value: \"chaussures-accessoires\"\n",
      ", key: \"cl2\"\n",
      "value: \"basket-sportswear\"\n",
      ", key: \"cl3\"\n",
      "value: \"basket\"\n",
      "]\n",
      "\n",
      "--------------------------\n"
     ]
    }
   ],
   "source": [
    "get_similar_products_file(\n",
    "        project_id,\n",
    "        location,\n",
    "        product_set,\n",
    "        product_category=\"apparel-v2\",\n",
    "        file_path=\"adidas.jpeg\",\n",
    "        filter=\"\",\n",
    "        max_results=3\n",
    ")"
   ]
  },
  {
   "cell_type": "code",
   "execution_count": 129,
   "metadata": {},
   "outputs": [
    {
     "name": "stdout",
     "output_type": "stream",
     "text": [
      "name: \"projects/pod-fr-retail/locations/europe-west1/products/12639984\"\n",
      "display_name: \"12639984\"\n",
      "product_category: \"apparel-v2\"\n",
      "product_labels {\n",
      "  key: \"cl1\"\n",
      "  value: \"chaussures-accessoires\"\n",
      "}\n",
      "product_labels {\n",
      "  key: \"cl2\"\n",
      "  value: \"basket-sportswear\"\n",
      "}\n",
      "product_labels {\n",
      "  key: \"cl3\"\n",
      "  value: \"basket\"\n",
      "}\n",
      "\n"
     ]
    }
   ],
   "source": [
    "sample_get_product(name='projects/pod-fr-retail/locations/europe-west1/products/12639984')"
   ]
  },
  {
   "cell_type": "markdown",
   "metadata": {},
   "source": [
    "## 3.4 Delete product sets (disabled / do not remove products) "
   ]
  },
  {
   "cell_type": "raw",
   "metadata": {},
   "source": [
    "from google.cloud import vision_v1\n",
    "client = vision_v1.ProductSearchClient()\n",
    "name = client.product_set_path(project_id, location, product_set)\n",
    "client.delete_product_set(name)"
   ]
  },
  {
   "cell_type": "code",
   "execution_count": null,
   "metadata": {},
   "outputs": [],
   "source": []
  }
 ],
 "metadata": {
  "environment": {
   "name": "common-cpu.m65",
   "type": "gcloud",
   "uri": "gcr.io/deeplearning-platform-release/base-cpu:m65"
  },
  "kernelspec": {
   "display_name": "Python [conda env:root] *",
   "language": "python",
   "name": "conda-root-py"
  },
  "language_info": {
   "codemirror_mode": {
    "name": "ipython",
    "version": 3
   },
   "file_extension": ".py",
   "mimetype": "text/x-python",
   "name": "python",
   "nbconvert_exporter": "python",
   "pygments_lexer": "ipython3",
   "version": "3.7.10"
  }
 },
 "nbformat": 4,
 "nbformat_minor": 4
}
