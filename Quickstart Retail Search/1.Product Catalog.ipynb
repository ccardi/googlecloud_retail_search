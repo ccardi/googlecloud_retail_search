{
 "cells": [
  {
   "cell_type": "markdown",
   "id": "26510e28",
   "metadata": {},
   "source": [
    "# Google Cloud - Retail Search API Quick Start"
   ]
  },
  {
   "cell_type": "markdown",
   "id": "0d280976",
   "metadata": {},
   "source": [
    "With Retail Search, retailers can implement Google-quality search that is customizable and built upon Google's understanding of user intent and context."
   ]
  },
  {
   "cell_type": "markdown",
   "id": "e7cddf17",
   "metadata": {},
   "source": [
    "### Install the libraries used in this tutorial"
   ]
  },
  {
   "cell_type": "code",
   "execution_count": null,
   "id": "270a170e",
   "metadata": {},
   "outputs": [],
   "source": [
    "pip install --upgrade --user google-cloud-retail"
   ]
  },
  {
   "cell_type": "code",
   "execution_count": null,
   "id": "27b48178",
   "metadata": {},
   "outputs": [],
   "source": [
    "pip install --upgrade google-auth"
   ]
  },
  {
   "cell_type": "code",
   "execution_count": null,
   "id": "70bc016f",
   "metadata": {},
   "outputs": [],
   "source": [
    "pip install --upgrade --user protobuf"
   ]
  },
  {
   "cell_type": "markdown",
   "id": "9b266a58",
   "metadata": {},
   "source": [
    "### Global project variables and credentials"
   ]
  },
  {
   "cell_type": "code",
   "execution_count": 2,
   "id": "5bcdfc54",
   "metadata": {},
   "outputs": [],
   "source": [
    "import google.auth\n",
    "#Project Settings\n",
    "project_id='pod-fr-retail'\n",
    "project_number='486742359899'\n",
    "credentials,project = google.auth.default(quota_project_id=project_id)\n",
    "\n",
    "#Catalog branch represents the version of your catalog\n",
    "branch= 'projects/{}/locations/global/catalogs/default_catalog/branches/1'.format(project_number)\n",
    "\n",
    "# Catalog placement represents the search configs you're using on this catalog\n",
    "placement= 'projects/{}/locations/global/catalogs/default_catalog/placements/default_search'.format(project_id)\n",
    "\n",
    "#In this quick start, we're going to manage a product id in our catalog\n",
    "product_id=16684\n",
    "branch_id=1\n",
    "placement_id='default_catalog'\n",
    "\n"
   ]
  },
  {
   "cell_type": "markdown",
   "id": "fb35048f",
   "metadata": {},
   "source": [
    "## Manage Product Catalog"
   ]
  },
  {
   "cell_type": "markdown",
   "id": "9b013561",
   "metadata": {},
   "source": [
    "#### Create a very basic product in your catalog"
   ]
  },
  {
   "cell_type": "code",
   "execution_count": 46,
   "id": "5a36f58d",
   "metadata": {},
   "outputs": [
    {
     "data": {
      "text/plain": [
       "name: \"projects/486742359899/locations/global/catalogs/default_catalog/branches/1/products/111222333444\"\n",
       "id: \"111222333444\"\n",
       "type_: PRIMARY\n",
       "primary_product_id: \"111222333444\"\n",
       "categories: \"Men > Clothing > Tops & Tees\"\n",
       "title: \"dummy product\"\n",
       "availability: IN_STOCK"
      ]
     },
     "execution_count": 46,
     "metadata": {},
     "output_type": "execute_result"
    }
   ],
   "source": [
    "from google.cloud import retail_v2\n",
    "# Create a client\n",
    "client = retail_v2.ProductServiceClient(credentials=credentials)\n",
    "product=retail_v2.Product()\n",
    "product.title=\"dummy product\"\n",
    "product.categories= [\"Men > Clothing > Tops & Tees\"]\n",
    "request= retail_v2.CreateProductRequest(\n",
    "        parent=branch,\n",
    "        product=product,\n",
    "        product_id='111222333444',\n",
    "    )\n",
    "client.create_product(request=request)"
   ]
  },
  {
   "cell_type": "markdown",
   "id": "9d22e75f",
   "metadata": {},
   "source": [
    "#### Delete this product"
   ]
  },
  {
   "cell_type": "code",
   "execution_count": 44,
   "id": "f96d7aaf",
   "metadata": {},
   "outputs": [],
   "source": [
    "from google.cloud import retail_v2\n",
    "# Create a client\n",
    "client = retail_v2.ProductServiceClient(credentials=credentials)\n",
    "request = retail_v2.DeleteProductRequest(\n",
    "        name=client.product_path(project_number,'global',placement_id,branch_id,111222333444),\n",
    "    )\n",
    "client.delete_product(request=request)"
   ]
  },
  {
   "cell_type": "markdown",
   "id": "51f0827c",
   "metadata": {},
   "source": [
    "#### Get a product from your catalog"
   ]
  },
  {
   "cell_type": "code",
   "execution_count": null,
   "id": "b719a030",
   "metadata": {},
   "outputs": [],
   "source": [
    "\n",
    "from google.cloud import retail_v2\n",
    "# Create a client\n",
    "client = retail_v2.ProductServiceClient(credentials=credentials)\n",
    "product_name = client.product_path(project_number,'global',placement_id,branch_id,111222333444)\n",
    "product= client.get_product(name=product_name)\n",
    "print(product)"
   ]
  },
  {
   "cell_type": "markdown",
   "id": "94028bd0",
   "metadata": {},
   "source": [
    "#### Update a product - gtin attribute"
   ]
  },
  {
   "cell_type": "code",
   "execution_count": 22,
   "id": "9169b3aa",
   "metadata": {},
   "outputs": [
    {
     "name": "stdout",
     "output_type": "stream",
     "text": [
      "91234564613\n"
     ]
    }
   ],
   "source": [
    "product.gtin=\"91234564613\"\n",
    "request = retail_v2.UpdateProductRequest(\n",
    "    product=product,\n",
    ")\n",
    "response = client.update_product(request=request)\n",
    "product = client.get_product(name=product_name)\n",
    "print(product.gtin)"
   ]
  },
  {
   "cell_type": "markdown",
   "id": "a3176716",
   "metadata": {},
   "source": [
    "#### Make sure a product's field will be available in search results"
   ]
  },
  {
   "cell_type": "code",
   "execution_count": 18,
   "id": "1e4387dd",
   "metadata": {},
   "outputs": [
    {
     "name": "stdout",
     "output_type": "stream",
     "text": [
      "paths: \"title\"\n",
      "paths: \"categories\"\n",
      "paths: \"brands\"\n",
      "paths: \"attributes.estimated_delivery_day\"\n",
      "paths: \"price_info\"\n",
      "paths: \"uri\"\n",
      "paths: \"images\"\n",
      "paths: \"color_info\"\n",
      "paths: \"sizes\"\n",
      "paths: \"rating\"\n",
      "paths: \"rating\"\n",
      "paths: \"rating\"\n",
      "\n"
     ]
    }
   ],
   "source": [
    "product = client.get_product(name=product_name)\n",
    "product.retrievable_fields.paths.append('rating')\n",
    "request = retail_v2.UpdateProductRequest(\n",
    "    product=product,\n",
    ")\n",
    "print(product.retrievable_fields)\n",
    "\n",
    "# Make the request\n",
    "#response = client.update_product(request=request)\n",
    "\n",
    "# Handle the response\n",
    "#print(response)"
   ]
  },
  {
   "cell_type": "markdown",
   "id": "6de59d04",
   "metadata": {},
   "source": [
    "### Product Catalog Local Inventories"
   ]
  },
  {
   "cell_type": "markdown",
   "id": "d4626ec7",
   "metadata": {},
   "source": [
    "We are now going to dive into Local inventories. How to set and query these local inventory.\n",
    "> Documentation https://cloud.google.com/retail/docs/local-inventory-updates\n",
    "#### Let's start with setting a local inventory for product id 16684 and for store789"
   ]
  },
  {
   "cell_type": "code",
   "execution_count": 25,
   "id": "b134ea9d",
   "metadata": {},
   "outputs": [
    {
     "data": {
      "text/plain": [
       "'Done!'"
      ]
     },
     "metadata": {},
     "output_type": "display_data"
    }
   ],
   "source": [
    "from google.cloud import retail_v2\n",
    "\n",
    "# Create a client\n",
    "client = retail_v2.ProductServiceClient(credentials=credentials)\n",
    "product_name = client.product_path(project_number,'global',placement_id,branch_id,product_id)\n",
    "\n",
    "# Initialize request argument(s)\n",
    "request = retail_v2.AddLocalInventoriesRequest(\n",
    "    product=product_name,\n",
    "    local_inventories= [ \n",
    "        retail_v2.LocalInventory( \n",
    "            place_id= 'store789'\n",
    "            , price_info= retail_v2.PriceInfo(\n",
    "                currency_code= 'USD',\n",
    "                price = 1.21,\n",
    "                original_price=1.26\n",
    "            ))\n",
    "    ]\n",
    ")\n",
    "\n",
    "# Make the request\n",
    "operation = client.add_local_inventories(request=request, timeout=200)\n",
    "import time\n",
    "\n",
    "from IPython.display import display, clear_output\n",
    "running=\"Waiting for operation to complete (\"\n",
    "i=0\n",
    "while operation.running():\n",
    "    i=i+1\n",
    "    clear_output(wait=True)\n",
    "    display(running+str(i)+\" seconds)\")\n",
    "    time.sleep(1)\n",
    "if operation.done():\n",
    "    clear_output(wait=False)\n",
    "    display(\"Done!\")"
   ]
  },
  {
   "cell_type": "markdown",
   "id": "e42b7a86",
   "metadata": {},
   "source": [
    "#### Delete a local inventory for product id 16684 and for all stores"
   ]
  },
  {
   "cell_type": "code",
   "execution_count": 27,
   "id": "02c40563",
   "metadata": {},
   "outputs": [
    {
     "data": {
      "text/plain": [
       "'Done!'"
      ]
     },
     "metadata": {},
     "output_type": "display_data"
    }
   ],
   "source": [
    "# Initialize request argument(s)\n",
    "request = retail_v2.RemoveLocalInventoriesRequest(\n",
    "    product=product_name,\n",
    "    place_ids=[i.place_id for i in product.local_inventories]\n",
    ")\n",
    "\n",
    "# Make the request\n",
    "operation = client.remove_local_inventories(request=request)\n",
    "import time\n",
    "from IPython.display import display, clear_output\n",
    "running=\"Waiting for operation to complete (\"\n",
    "i=0\n",
    "while operation.running():\n",
    "    i=i+1\n",
    "    clear_output(wait=True)\n",
    "    display(running+str(i)+\" seconds)\")\n",
    "    time.sleep(1)\n",
    "if operation.done():\n",
    "    clear_output(wait=False)\n",
    "    display(\"Done!\")"
   ]
  }
 ],
 "metadata": {
  "environment": {
   "name": "common-cpu.m65",
   "type": "gcloud",
   "uri": "gcr.io/deeplearning-platform-release/base-cpu:m65"
  },
  "kernelspec": {
   "display_name": "Python 3",
   "language": "python",
   "name": "python3"
  },
  "language_info": {
   "codemirror_mode": {
    "name": "ipython",
    "version": 3
   },
   "file_extension": ".py",
   "mimetype": "text/x-python",
   "name": "python",
   "nbconvert_exporter": "python",
   "pygments_lexer": "ipython3",
   "version": "3.7.10"
  }
 },
 "nbformat": 4,
 "nbformat_minor": 5
}
